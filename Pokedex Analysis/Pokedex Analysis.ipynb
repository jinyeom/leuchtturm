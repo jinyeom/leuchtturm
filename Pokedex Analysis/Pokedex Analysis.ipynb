{
 "cells": [
  {
   "cell_type": "markdown",
   "metadata": {},
   "source": [
    "<img src=\"images/eevee.png\" align=right width=30%>\n",
    "# Pokedex Analysis\n",
    "Author: Jin Yeom (jinyeom@utexas.edu)\n",
    "\n",
    "## Contents\n",
    "- [Filling missing values](#Filling-missing-values)\n",
    "- [Converting categorical variables to numerical variables](#Converting-categorical-variables-to-numerical-variables)\n",
    "- [Plotting some interesting statistics](#Plotting-some-interesting-statistics)\n",
    "- [Pokemon capturing simulation](#Pokemon-capturing-simulation) (planned)\n",
    "- Vector representation of Pokemon (planned)\n",
    "- Generating a new Pokemon (planned)\n",
    "- Generating a new Pokemon with Deep Learning (planned)\n",
    "- [References](#References)"
   ]
  },
  {
   "cell_type": "code",
   "execution_count": 18,
   "metadata": {},
   "outputs": [],
   "source": [
    "from ast import literal_eval\n",
    "import numpy as np\n",
    "import scipy as sp\n",
    "from scipy import stats\n",
    "import pandas as pd\n",
    "from matplotlib import pyplot as plt\n",
    "%matplotlib inline\n",
    "import seaborn as sns\n",
    "sns.set()"
   ]
  },
  {
   "cell_type": "markdown",
   "metadata": {},
   "source": [
    "In this notebook, we're going to explore the [Pokedex dataset](https://www.kaggle.com/rounakbanik/pokemon)! I think Pokedex data is a good starting point for studying data science for following reasons:\n",
    "- it is relatively clean that you don't have to spend too much time cleaning it\n",
    "- it is large enough to acquire reliable insights about the dataset, but small enough to be managable\n",
    "- and lastly, it's Pokemon!\n",
    "\n",
    "*NOTE: there is a typo in the dataset that I fixed for this notebook (classfication -> classification).*"
   ]
  },
  {
   "cell_type": "markdown",
   "metadata": {},
   "source": [
    "Let's begin by reading the dataset CSV file."
   ]
  },
  {
   "cell_type": "code",
   "execution_count": 2,
   "metadata": {
    "collapsed": true
   },
   "outputs": [],
   "source": [
    "pokedex = pd.read_csv(\"datasets/pokemon.csv\")"
   ]
  },
  {
   "cell_type": "code",
   "execution_count": 3,
   "metadata": {},
   "outputs": [
    {
     "data": {
      "text/html": [
       "<div>\n",
       "<style scoped>\n",
       "    .dataframe tbody tr th:only-of-type {\n",
       "        vertical-align: middle;\n",
       "    }\n",
       "\n",
       "    .dataframe tbody tr th {\n",
       "        vertical-align: top;\n",
       "    }\n",
       "\n",
       "    .dataframe thead th {\n",
       "        text-align: right;\n",
       "    }\n",
       "</style>\n",
       "<table border=\"1\" class=\"dataframe\">\n",
       "  <thead>\n",
       "    <tr style=\"text-align: right;\">\n",
       "      <th></th>\n",
       "      <th>abilities</th>\n",
       "      <th>against_bug</th>\n",
       "      <th>against_dark</th>\n",
       "      <th>against_dragon</th>\n",
       "      <th>against_electric</th>\n",
       "      <th>against_fairy</th>\n",
       "      <th>against_fight</th>\n",
       "      <th>against_fire</th>\n",
       "      <th>against_flying</th>\n",
       "      <th>against_ghost</th>\n",
       "      <th>...</th>\n",
       "      <th>percentage_male</th>\n",
       "      <th>pokedex_number</th>\n",
       "      <th>sp_attack</th>\n",
       "      <th>sp_defense</th>\n",
       "      <th>speed</th>\n",
       "      <th>type1</th>\n",
       "      <th>type2</th>\n",
       "      <th>weight_kg</th>\n",
       "      <th>generation</th>\n",
       "      <th>is_legendary</th>\n",
       "    </tr>\n",
       "  </thead>\n",
       "  <tbody>\n",
       "    <tr>\n",
       "      <th>0</th>\n",
       "      <td>['Overgrow', 'Chlorophyll']</td>\n",
       "      <td>1.0</td>\n",
       "      <td>1.0</td>\n",
       "      <td>1.0</td>\n",
       "      <td>0.5</td>\n",
       "      <td>0.5</td>\n",
       "      <td>0.5</td>\n",
       "      <td>2.0</td>\n",
       "      <td>2.0</td>\n",
       "      <td>1.0</td>\n",
       "      <td>...</td>\n",
       "      <td>88.1</td>\n",
       "      <td>1</td>\n",
       "      <td>65</td>\n",
       "      <td>65</td>\n",
       "      <td>45</td>\n",
       "      <td>grass</td>\n",
       "      <td>poison</td>\n",
       "      <td>6.9</td>\n",
       "      <td>1</td>\n",
       "      <td>0</td>\n",
       "    </tr>\n",
       "    <tr>\n",
       "      <th>1</th>\n",
       "      <td>['Overgrow', 'Chlorophyll']</td>\n",
       "      <td>1.0</td>\n",
       "      <td>1.0</td>\n",
       "      <td>1.0</td>\n",
       "      <td>0.5</td>\n",
       "      <td>0.5</td>\n",
       "      <td>0.5</td>\n",
       "      <td>2.0</td>\n",
       "      <td>2.0</td>\n",
       "      <td>1.0</td>\n",
       "      <td>...</td>\n",
       "      <td>88.1</td>\n",
       "      <td>2</td>\n",
       "      <td>80</td>\n",
       "      <td>80</td>\n",
       "      <td>60</td>\n",
       "      <td>grass</td>\n",
       "      <td>poison</td>\n",
       "      <td>13.0</td>\n",
       "      <td>1</td>\n",
       "      <td>0</td>\n",
       "    </tr>\n",
       "    <tr>\n",
       "      <th>2</th>\n",
       "      <td>['Overgrow', 'Chlorophyll']</td>\n",
       "      <td>1.0</td>\n",
       "      <td>1.0</td>\n",
       "      <td>1.0</td>\n",
       "      <td>0.5</td>\n",
       "      <td>0.5</td>\n",
       "      <td>0.5</td>\n",
       "      <td>2.0</td>\n",
       "      <td>2.0</td>\n",
       "      <td>1.0</td>\n",
       "      <td>...</td>\n",
       "      <td>88.1</td>\n",
       "      <td>3</td>\n",
       "      <td>122</td>\n",
       "      <td>120</td>\n",
       "      <td>80</td>\n",
       "      <td>grass</td>\n",
       "      <td>poison</td>\n",
       "      <td>100.0</td>\n",
       "      <td>1</td>\n",
       "      <td>0</td>\n",
       "    </tr>\n",
       "    <tr>\n",
       "      <th>3</th>\n",
       "      <td>['Blaze', 'Solar Power']</td>\n",
       "      <td>0.5</td>\n",
       "      <td>1.0</td>\n",
       "      <td>1.0</td>\n",
       "      <td>1.0</td>\n",
       "      <td>0.5</td>\n",
       "      <td>1.0</td>\n",
       "      <td>0.5</td>\n",
       "      <td>1.0</td>\n",
       "      <td>1.0</td>\n",
       "      <td>...</td>\n",
       "      <td>88.1</td>\n",
       "      <td>4</td>\n",
       "      <td>60</td>\n",
       "      <td>50</td>\n",
       "      <td>65</td>\n",
       "      <td>fire</td>\n",
       "      <td>NaN</td>\n",
       "      <td>8.5</td>\n",
       "      <td>1</td>\n",
       "      <td>0</td>\n",
       "    </tr>\n",
       "    <tr>\n",
       "      <th>4</th>\n",
       "      <td>['Blaze', 'Solar Power']</td>\n",
       "      <td>0.5</td>\n",
       "      <td>1.0</td>\n",
       "      <td>1.0</td>\n",
       "      <td>1.0</td>\n",
       "      <td>0.5</td>\n",
       "      <td>1.0</td>\n",
       "      <td>0.5</td>\n",
       "      <td>1.0</td>\n",
       "      <td>1.0</td>\n",
       "      <td>...</td>\n",
       "      <td>88.1</td>\n",
       "      <td>5</td>\n",
       "      <td>80</td>\n",
       "      <td>65</td>\n",
       "      <td>80</td>\n",
       "      <td>fire</td>\n",
       "      <td>NaN</td>\n",
       "      <td>19.0</td>\n",
       "      <td>1</td>\n",
       "      <td>0</td>\n",
       "    </tr>\n",
       "  </tbody>\n",
       "</table>\n",
       "<p>5 rows × 41 columns</p>\n",
       "</div>"
      ],
      "text/plain": [
       "                     abilities  against_bug  against_dark  against_dragon  \\\n",
       "0  ['Overgrow', 'Chlorophyll']          1.0           1.0             1.0   \n",
       "1  ['Overgrow', 'Chlorophyll']          1.0           1.0             1.0   \n",
       "2  ['Overgrow', 'Chlorophyll']          1.0           1.0             1.0   \n",
       "3     ['Blaze', 'Solar Power']          0.5           1.0             1.0   \n",
       "4     ['Blaze', 'Solar Power']          0.5           1.0             1.0   \n",
       "\n",
       "   against_electric  against_fairy  against_fight  against_fire  \\\n",
       "0               0.5            0.5            0.5           2.0   \n",
       "1               0.5            0.5            0.5           2.0   \n",
       "2               0.5            0.5            0.5           2.0   \n",
       "3               1.0            0.5            1.0           0.5   \n",
       "4               1.0            0.5            1.0           0.5   \n",
       "\n",
       "   against_flying  against_ghost      ...       percentage_male  \\\n",
       "0             2.0            1.0      ...                  88.1   \n",
       "1             2.0            1.0      ...                  88.1   \n",
       "2             2.0            1.0      ...                  88.1   \n",
       "3             1.0            1.0      ...                  88.1   \n",
       "4             1.0            1.0      ...                  88.1   \n",
       "\n",
       "   pokedex_number  sp_attack  sp_defense  speed  type1   type2  weight_kg  \\\n",
       "0               1         65          65     45  grass  poison        6.9   \n",
       "1               2         80          80     60  grass  poison       13.0   \n",
       "2               3        122         120     80  grass  poison      100.0   \n",
       "3               4         60          50     65   fire     NaN        8.5   \n",
       "4               5         80          65     80   fire     NaN       19.0   \n",
       "\n",
       "   generation  is_legendary  \n",
       "0           1             0  \n",
       "1           1             0  \n",
       "2           1             0  \n",
       "3           1             0  \n",
       "4           1             0  \n",
       "\n",
       "[5 rows x 41 columns]"
      ]
     },
     "execution_count": 3,
     "metadata": {},
     "output_type": "execute_result"
    }
   ],
   "source": [
    "pokedex.head()"
   ]
  },
  {
   "cell_type": "code",
   "execution_count": 4,
   "metadata": {},
   "outputs": [
    {
     "data": {
      "text/html": [
       "<div>\n",
       "<style scoped>\n",
       "    .dataframe tbody tr th:only-of-type {\n",
       "        vertical-align: middle;\n",
       "    }\n",
       "\n",
       "    .dataframe tbody tr th {\n",
       "        vertical-align: top;\n",
       "    }\n",
       "\n",
       "    .dataframe thead th {\n",
       "        text-align: right;\n",
       "    }\n",
       "</style>\n",
       "<table border=\"1\" class=\"dataframe\">\n",
       "  <thead>\n",
       "    <tr style=\"text-align: right;\">\n",
       "      <th></th>\n",
       "      <th>abilities</th>\n",
       "      <th>against_bug</th>\n",
       "      <th>against_dark</th>\n",
       "      <th>against_dragon</th>\n",
       "      <th>against_electric</th>\n",
       "      <th>against_fairy</th>\n",
       "      <th>against_fight</th>\n",
       "      <th>against_fire</th>\n",
       "      <th>against_flying</th>\n",
       "      <th>against_ghost</th>\n",
       "      <th>...</th>\n",
       "      <th>percentage_male</th>\n",
       "      <th>pokedex_number</th>\n",
       "      <th>sp_attack</th>\n",
       "      <th>sp_defense</th>\n",
       "      <th>speed</th>\n",
       "      <th>type1</th>\n",
       "      <th>type2</th>\n",
       "      <th>weight_kg</th>\n",
       "      <th>generation</th>\n",
       "      <th>is_legendary</th>\n",
       "    </tr>\n",
       "  </thead>\n",
       "  <tbody>\n",
       "    <tr>\n",
       "      <th>count</th>\n",
       "      <td>801</td>\n",
       "      <td>801.000000</td>\n",
       "      <td>801.000000</td>\n",
       "      <td>801.000000</td>\n",
       "      <td>801.000000</td>\n",
       "      <td>801.000000</td>\n",
       "      <td>801.000000</td>\n",
       "      <td>801.000000</td>\n",
       "      <td>801.000000</td>\n",
       "      <td>801.000000</td>\n",
       "      <td>...</td>\n",
       "      <td>703.000000</td>\n",
       "      <td>801.000000</td>\n",
       "      <td>801.000000</td>\n",
       "      <td>801.000000</td>\n",
       "      <td>801.000000</td>\n",
       "      <td>801</td>\n",
       "      <td>417</td>\n",
       "      <td>781.000000</td>\n",
       "      <td>801.000000</td>\n",
       "      <td>801.000000</td>\n",
       "    </tr>\n",
       "    <tr>\n",
       "      <th>unique</th>\n",
       "      <td>482</td>\n",
       "      <td>NaN</td>\n",
       "      <td>NaN</td>\n",
       "      <td>NaN</td>\n",
       "      <td>NaN</td>\n",
       "      <td>NaN</td>\n",
       "      <td>NaN</td>\n",
       "      <td>NaN</td>\n",
       "      <td>NaN</td>\n",
       "      <td>NaN</td>\n",
       "      <td>...</td>\n",
       "      <td>NaN</td>\n",
       "      <td>NaN</td>\n",
       "      <td>NaN</td>\n",
       "      <td>NaN</td>\n",
       "      <td>NaN</td>\n",
       "      <td>18</td>\n",
       "      <td>18</td>\n",
       "      <td>NaN</td>\n",
       "      <td>NaN</td>\n",
       "      <td>NaN</td>\n",
       "    </tr>\n",
       "    <tr>\n",
       "      <th>top</th>\n",
       "      <td>['Levitate']</td>\n",
       "      <td>NaN</td>\n",
       "      <td>NaN</td>\n",
       "      <td>NaN</td>\n",
       "      <td>NaN</td>\n",
       "      <td>NaN</td>\n",
       "      <td>NaN</td>\n",
       "      <td>NaN</td>\n",
       "      <td>NaN</td>\n",
       "      <td>NaN</td>\n",
       "      <td>...</td>\n",
       "      <td>NaN</td>\n",
       "      <td>NaN</td>\n",
       "      <td>NaN</td>\n",
       "      <td>NaN</td>\n",
       "      <td>NaN</td>\n",
       "      <td>water</td>\n",
       "      <td>flying</td>\n",
       "      <td>NaN</td>\n",
       "      <td>NaN</td>\n",
       "      <td>NaN</td>\n",
       "    </tr>\n",
       "    <tr>\n",
       "      <th>freq</th>\n",
       "      <td>29</td>\n",
       "      <td>NaN</td>\n",
       "      <td>NaN</td>\n",
       "      <td>NaN</td>\n",
       "      <td>NaN</td>\n",
       "      <td>NaN</td>\n",
       "      <td>NaN</td>\n",
       "      <td>NaN</td>\n",
       "      <td>NaN</td>\n",
       "      <td>NaN</td>\n",
       "      <td>...</td>\n",
       "      <td>NaN</td>\n",
       "      <td>NaN</td>\n",
       "      <td>NaN</td>\n",
       "      <td>NaN</td>\n",
       "      <td>NaN</td>\n",
       "      <td>114</td>\n",
       "      <td>95</td>\n",
       "      <td>NaN</td>\n",
       "      <td>NaN</td>\n",
       "      <td>NaN</td>\n",
       "    </tr>\n",
       "    <tr>\n",
       "      <th>mean</th>\n",
       "      <td>NaN</td>\n",
       "      <td>0.996255</td>\n",
       "      <td>1.057116</td>\n",
       "      <td>0.968789</td>\n",
       "      <td>1.073970</td>\n",
       "      <td>1.068976</td>\n",
       "      <td>1.065543</td>\n",
       "      <td>1.135456</td>\n",
       "      <td>1.192884</td>\n",
       "      <td>0.985019</td>\n",
       "      <td>...</td>\n",
       "      <td>55.155761</td>\n",
       "      <td>401.000000</td>\n",
       "      <td>71.305868</td>\n",
       "      <td>70.911361</td>\n",
       "      <td>66.334582</td>\n",
       "      <td>NaN</td>\n",
       "      <td>NaN</td>\n",
       "      <td>61.378105</td>\n",
       "      <td>3.690387</td>\n",
       "      <td>0.087391</td>\n",
       "    </tr>\n",
       "    <tr>\n",
       "      <th>std</th>\n",
       "      <td>NaN</td>\n",
       "      <td>0.597248</td>\n",
       "      <td>0.438142</td>\n",
       "      <td>0.353058</td>\n",
       "      <td>0.654962</td>\n",
       "      <td>0.522167</td>\n",
       "      <td>0.717251</td>\n",
       "      <td>0.691853</td>\n",
       "      <td>0.604488</td>\n",
       "      <td>0.558256</td>\n",
       "      <td>...</td>\n",
       "      <td>20.261623</td>\n",
       "      <td>231.373075</td>\n",
       "      <td>32.353826</td>\n",
       "      <td>27.942501</td>\n",
       "      <td>28.907662</td>\n",
       "      <td>NaN</td>\n",
       "      <td>NaN</td>\n",
       "      <td>109.354766</td>\n",
       "      <td>1.930420</td>\n",
       "      <td>0.282583</td>\n",
       "    </tr>\n",
       "    <tr>\n",
       "      <th>min</th>\n",
       "      <td>NaN</td>\n",
       "      <td>0.250000</td>\n",
       "      <td>0.250000</td>\n",
       "      <td>0.000000</td>\n",
       "      <td>0.000000</td>\n",
       "      <td>0.250000</td>\n",
       "      <td>0.000000</td>\n",
       "      <td>0.250000</td>\n",
       "      <td>0.250000</td>\n",
       "      <td>0.000000</td>\n",
       "      <td>...</td>\n",
       "      <td>0.000000</td>\n",
       "      <td>1.000000</td>\n",
       "      <td>10.000000</td>\n",
       "      <td>20.000000</td>\n",
       "      <td>5.000000</td>\n",
       "      <td>NaN</td>\n",
       "      <td>NaN</td>\n",
       "      <td>0.100000</td>\n",
       "      <td>1.000000</td>\n",
       "      <td>0.000000</td>\n",
       "    </tr>\n",
       "    <tr>\n",
       "      <th>25%</th>\n",
       "      <td>NaN</td>\n",
       "      <td>0.500000</td>\n",
       "      <td>1.000000</td>\n",
       "      <td>1.000000</td>\n",
       "      <td>0.500000</td>\n",
       "      <td>1.000000</td>\n",
       "      <td>0.500000</td>\n",
       "      <td>0.500000</td>\n",
       "      <td>1.000000</td>\n",
       "      <td>1.000000</td>\n",
       "      <td>...</td>\n",
       "      <td>50.000000</td>\n",
       "      <td>201.000000</td>\n",
       "      <td>45.000000</td>\n",
       "      <td>50.000000</td>\n",
       "      <td>45.000000</td>\n",
       "      <td>NaN</td>\n",
       "      <td>NaN</td>\n",
       "      <td>9.000000</td>\n",
       "      <td>2.000000</td>\n",
       "      <td>0.000000</td>\n",
       "    </tr>\n",
       "    <tr>\n",
       "      <th>50%</th>\n",
       "      <td>NaN</td>\n",
       "      <td>1.000000</td>\n",
       "      <td>1.000000</td>\n",
       "      <td>1.000000</td>\n",
       "      <td>1.000000</td>\n",
       "      <td>1.000000</td>\n",
       "      <td>1.000000</td>\n",
       "      <td>1.000000</td>\n",
       "      <td>1.000000</td>\n",
       "      <td>1.000000</td>\n",
       "      <td>...</td>\n",
       "      <td>50.000000</td>\n",
       "      <td>401.000000</td>\n",
       "      <td>65.000000</td>\n",
       "      <td>66.000000</td>\n",
       "      <td>65.000000</td>\n",
       "      <td>NaN</td>\n",
       "      <td>NaN</td>\n",
       "      <td>27.300000</td>\n",
       "      <td>4.000000</td>\n",
       "      <td>0.000000</td>\n",
       "    </tr>\n",
       "    <tr>\n",
       "      <th>75%</th>\n",
       "      <td>NaN</td>\n",
       "      <td>1.000000</td>\n",
       "      <td>1.000000</td>\n",
       "      <td>1.000000</td>\n",
       "      <td>1.000000</td>\n",
       "      <td>1.000000</td>\n",
       "      <td>1.000000</td>\n",
       "      <td>2.000000</td>\n",
       "      <td>1.000000</td>\n",
       "      <td>1.000000</td>\n",
       "      <td>...</td>\n",
       "      <td>50.000000</td>\n",
       "      <td>601.000000</td>\n",
       "      <td>91.000000</td>\n",
       "      <td>90.000000</td>\n",
       "      <td>85.000000</td>\n",
       "      <td>NaN</td>\n",
       "      <td>NaN</td>\n",
       "      <td>64.800000</td>\n",
       "      <td>5.000000</td>\n",
       "      <td>0.000000</td>\n",
       "    </tr>\n",
       "    <tr>\n",
       "      <th>max</th>\n",
       "      <td>NaN</td>\n",
       "      <td>4.000000</td>\n",
       "      <td>4.000000</td>\n",
       "      <td>2.000000</td>\n",
       "      <td>4.000000</td>\n",
       "      <td>4.000000</td>\n",
       "      <td>4.000000</td>\n",
       "      <td>4.000000</td>\n",
       "      <td>4.000000</td>\n",
       "      <td>4.000000</td>\n",
       "      <td>...</td>\n",
       "      <td>100.000000</td>\n",
       "      <td>801.000000</td>\n",
       "      <td>194.000000</td>\n",
       "      <td>230.000000</td>\n",
       "      <td>180.000000</td>\n",
       "      <td>NaN</td>\n",
       "      <td>NaN</td>\n",
       "      <td>999.900000</td>\n",
       "      <td>7.000000</td>\n",
       "      <td>1.000000</td>\n",
       "    </tr>\n",
       "  </tbody>\n",
       "</table>\n",
       "<p>11 rows × 41 columns</p>\n",
       "</div>"
      ],
      "text/plain": [
       "           abilities  against_bug  against_dark  against_dragon  \\\n",
       "count            801   801.000000    801.000000      801.000000   \n",
       "unique           482          NaN           NaN             NaN   \n",
       "top     ['Levitate']          NaN           NaN             NaN   \n",
       "freq              29          NaN           NaN             NaN   \n",
       "mean             NaN     0.996255      1.057116        0.968789   \n",
       "std              NaN     0.597248      0.438142        0.353058   \n",
       "min              NaN     0.250000      0.250000        0.000000   \n",
       "25%              NaN     0.500000      1.000000        1.000000   \n",
       "50%              NaN     1.000000      1.000000        1.000000   \n",
       "75%              NaN     1.000000      1.000000        1.000000   \n",
       "max              NaN     4.000000      4.000000        2.000000   \n",
       "\n",
       "        against_electric  against_fairy  against_fight  against_fire  \\\n",
       "count         801.000000     801.000000     801.000000    801.000000   \n",
       "unique               NaN            NaN            NaN           NaN   \n",
       "top                  NaN            NaN            NaN           NaN   \n",
       "freq                 NaN            NaN            NaN           NaN   \n",
       "mean            1.073970       1.068976       1.065543      1.135456   \n",
       "std             0.654962       0.522167       0.717251      0.691853   \n",
       "min             0.000000       0.250000       0.000000      0.250000   \n",
       "25%             0.500000       1.000000       0.500000      0.500000   \n",
       "50%             1.000000       1.000000       1.000000      1.000000   \n",
       "75%             1.000000       1.000000       1.000000      2.000000   \n",
       "max             4.000000       4.000000       4.000000      4.000000   \n",
       "\n",
       "        against_flying  against_ghost      ...       percentage_male  \\\n",
       "count       801.000000     801.000000      ...            703.000000   \n",
       "unique             NaN            NaN      ...                   NaN   \n",
       "top                NaN            NaN      ...                   NaN   \n",
       "freq               NaN            NaN      ...                   NaN   \n",
       "mean          1.192884       0.985019      ...             55.155761   \n",
       "std           0.604488       0.558256      ...             20.261623   \n",
       "min           0.250000       0.000000      ...              0.000000   \n",
       "25%           1.000000       1.000000      ...             50.000000   \n",
       "50%           1.000000       1.000000      ...             50.000000   \n",
       "75%           1.000000       1.000000      ...             50.000000   \n",
       "max           4.000000       4.000000      ...            100.000000   \n",
       "\n",
       "        pokedex_number   sp_attack  sp_defense       speed  type1   type2  \\\n",
       "count       801.000000  801.000000  801.000000  801.000000    801     417   \n",
       "unique             NaN         NaN         NaN         NaN     18      18   \n",
       "top                NaN         NaN         NaN         NaN  water  flying   \n",
       "freq               NaN         NaN         NaN         NaN    114      95   \n",
       "mean        401.000000   71.305868   70.911361   66.334582    NaN     NaN   \n",
       "std         231.373075   32.353826   27.942501   28.907662    NaN     NaN   \n",
       "min           1.000000   10.000000   20.000000    5.000000    NaN     NaN   \n",
       "25%         201.000000   45.000000   50.000000   45.000000    NaN     NaN   \n",
       "50%         401.000000   65.000000   66.000000   65.000000    NaN     NaN   \n",
       "75%         601.000000   91.000000   90.000000   85.000000    NaN     NaN   \n",
       "max         801.000000  194.000000  230.000000  180.000000    NaN     NaN   \n",
       "\n",
       "         weight_kg  generation  is_legendary  \n",
       "count   781.000000  801.000000    801.000000  \n",
       "unique         NaN         NaN           NaN  \n",
       "top            NaN         NaN           NaN  \n",
       "freq           NaN         NaN           NaN  \n",
       "mean     61.378105    3.690387      0.087391  \n",
       "std     109.354766    1.930420      0.282583  \n",
       "min       0.100000    1.000000      0.000000  \n",
       "25%       9.000000    2.000000      0.000000  \n",
       "50%      27.300000    4.000000      0.000000  \n",
       "75%      64.800000    5.000000      0.000000  \n",
       "max     999.900000    7.000000      1.000000  \n",
       "\n",
       "[11 rows x 41 columns]"
      ]
     },
     "execution_count": 4,
     "metadata": {},
     "output_type": "execute_result"
    }
   ],
   "source": [
    "pokedex.describe(include=\"all\")"
   ]
  },
  {
   "cell_type": "code",
   "execution_count": 5,
   "metadata": {},
   "outputs": [
    {
     "data": {
      "text/plain": [
       "Index(['abilities', 'against_bug', 'against_dark', 'against_dragon',\n",
       "       'against_electric', 'against_fairy', 'against_fight', 'against_fire',\n",
       "       'against_flying', 'against_ghost', 'against_grass', 'against_ground',\n",
       "       'against_ice', 'against_normal', 'against_poison', 'against_psychic',\n",
       "       'against_rock', 'against_steel', 'against_water', 'attack',\n",
       "       'base_egg_steps', 'base_happiness', 'base_total', 'capture_rate',\n",
       "       'classification', 'defense', 'experience_growth', 'height_m', 'hp',\n",
       "       'japanese_name', 'name', 'percentage_male', 'pokedex_number',\n",
       "       'sp_attack', 'sp_defense', 'speed', 'type1', 'type2', 'weight_kg',\n",
       "       'generation', 'is_legendary'],\n",
       "      dtype='object')"
      ]
     },
     "execution_count": 5,
     "metadata": {},
     "output_type": "execute_result"
    }
   ],
   "source": [
    "pokedex.columns"
   ]
  },
  {
   "cell_type": "markdown",
   "metadata": {},
   "source": [
    "## Filling missing values"
   ]
  },
  {
   "cell_type": "markdown",
   "metadata": {},
   "source": [
    "In this section, we're going to clean up the dataset by filling up missing values. Let's begin by creating a new `DataFrame`."
   ]
  },
  {
   "cell_type": "code",
   "execution_count": 6,
   "metadata": {},
   "outputs": [],
   "source": [
    "df = pokedex.copy()"
   ]
  },
  {
   "cell_type": "code",
   "execution_count": 7,
   "metadata": {},
   "outputs": [
    {
     "name": "stdout",
     "output_type": "stream",
     "text": [
      "height_m: 20\n",
      "percentage_male: 98\n",
      "type2: 384\n",
      "weight_kg: 20\n"
     ]
    }
   ],
   "source": [
    "# show columns with missing values and their counts\n",
    "missing_vals = dict([(c, df[c].isnull().sum()) for c in df.columns[df.isnull().any()]])\n",
    "for k, v in missing_vals.items():\n",
    "    print(f\"{k}: {v}\")"
   ]
  },
  {
   "cell_type": "code",
   "execution_count": 8,
   "metadata": {},
   "outputs": [
    {
     "name": "stdout",
     "output_type": "stream",
     "text": [
      "height_m: 51\n",
      "percentage_male: 7\n",
      "type2: 18\n",
      "weight_kg: 421\n"
     ]
    }
   ],
   "source": [
    "# show the number of unique values in columns with missing values\n",
    "unique_vals = dict([(c, df[c].nunique()) for c in df.columns[df.isnull().any()]])\n",
    "for k, v in unique_vals.items():\n",
    "    print(f\"{k}: {v}\")"
   ]
  },
  {
   "cell_type": "code",
   "execution_count": 10,
   "metadata": {},
   "outputs": [
    {
     "name": "stdout",
     "output_type": "stream",
     "text": [
      "percentage_male missing count: 0\n"
     ]
    }
   ],
   "source": [
    "# fill missing \"percentage_male\" with -1\n",
    "df[\"percentage_male\"].fillna(np.int(-1), inplace=True)\n",
    "print(\"percentage_male missing count:\", df[\"percentage_male\"].isnull().sum())"
   ]
  },
  {
   "cell_type": "code",
   "execution_count": 9,
   "metadata": {},
   "outputs": [
    {
     "name": "stdout",
     "output_type": "stream",
     "text": [
      "Type 2:  ['poison' nan 'flying' 'dark' 'electric' 'ice' 'ground' 'fairy' 'grass'\n",
      " 'fighting' 'psychic' 'steel' 'fire' 'rock' 'water' 'dragon' 'ghost' 'bug'\n",
      " 'normal']\n",
      "type2 missing count: 0\n"
     ]
    }
   ],
   "source": [
    "# fill missing \"type 2\" with a string that is not in the unique types\n",
    "# we're just going to fill these in with \"N/A\"\n",
    "print(\"Type 2: \", df[\"type2\"].unique())\n",
    "df[\"type2\"].fillna(\"none\", inplace=True)\n",
    "print(\"type2 missing count:\", df[\"type2\"].isnull().sum())"
   ]
  },
  {
   "cell_type": "code",
   "execution_count": 10,
   "metadata": {},
   "outputs": [
    {
     "name": "stdout",
     "output_type": "stream",
     "text": [
      "height_m missing count: 0\n",
      "weight_kg missing count: 0\n"
     ]
    }
   ],
   "source": [
    "# fill missing heights and weights with 0\n",
    "df[\"height_m\"].fillna(np.int(0), inplace=True)\n",
    "df[\"weight_kg\"].fillna(np.int(0), inplace=True)\n",
    "print(\"height_m missing count:\", df[\"height_m\"].isnull().sum())\n",
    "print(\"weight_kg missing count:\", df[\"weight_kg\"].isnull().sum())"
   ]
  },
  {
   "cell_type": "markdown",
   "metadata": {},
   "source": [
    "## Converting categorical variables to numerical variables"
   ]
  },
  {
   "cell_type": "code",
   "execution_count": 11,
   "metadata": {},
   "outputs": [
    {
     "name": "stdout",
     "output_type": "stream",
     "text": [
      "capture_rate (before): ['45' '255' '120' '127' '90' '190' '75' '235' '150' '25' '170' '50' '200'\n",
      " '100' '180' '60' '225' '30' '35' '3' '65' '70' '125' '205' '155' '145'\n",
      " '130' '140' '15' '220' '160' '80' '55' '30 (Meteorite)255 (Core)']\n",
      "773    Minior\n",
      "Name: name, dtype: object\n",
      "capture_rate (after): [ 45 255 120 127  90 190  75 235 150  25 170  50 200 100 180  60 225  30\n",
      "  35   3  65  70 125 205 155 145 130 140  15 220 160  80  55]\n"
     ]
    }
   ],
   "source": [
    "# capture_rate seems to contain strings, so we should convert it to integers\n",
    "# NOTE: also, notice there's only one Pokemon (Minior) with \"30 (Meteorite) 255 (Core)\", \n",
    "# which will be converted into nan. We'll change this to \"30\".\n",
    "print(\"capture_rate (before):\", df[\"capture_rate\"].unique())\n",
    "print(df[\"name\"][df[\"capture_rate\"] == \"30 (Meteorite)255 (Core)\"])\n",
    "df[\"capture_rate\"].replace(\"30 (Meteorite)255 (Core)\", \"30\", inplace=True)\n",
    "\n",
    "# convert capture rates to numerical values\n",
    "df[\"capture_rate\"] = pd.to_numeric(df[\"capture_rate\"])\n",
    "print(\"capture_rate (after):\", df[\"capture_rate\"].unique())"
   ]
  },
  {
   "cell_type": "code",
   "execution_count": 12,
   "metadata": {},
   "outputs": [
    {
     "name": "stdout",
     "output_type": "stream",
     "text": [
      "grass: 0\n",
      "flying: 1\n",
      "fighting: 2\n",
      "steel: 3\n",
      "poison: 4\n",
      "fire: 5\n",
      "water: 6\n",
      "ghost: 7\n",
      "ice: 8\n",
      "none: 9\n",
      "normal: 10\n",
      "electric: 11\n",
      "fairy: 12\n",
      "dark: 13\n",
      "bug: 14\n",
      "rock: 15\n",
      "dragon: 16\n",
      "ground: 17\n",
      "psychic: 18\n"
     ]
    }
   ],
   "source": [
    "# this time, we're going to convert types to their unique IDs (0, 1, 2, ...)\n",
    "# a list of unique types will be used to map each type to its ID, where each\n",
    "# type's ID is its index in the list.\n",
    "all_types = list(set(df[\"type1\"]).union(set(df[\"type2\"])))\n",
    "for idx, type_name in enumerate(all_types):\n",
    "    print(f\"{type_name}: {idx}\")"
   ]
  },
  {
   "cell_type": "code",
   "execution_count": 13,
   "metadata": {},
   "outputs": [
    {
     "data": {
      "text/html": [
       "<div>\n",
       "<style scoped>\n",
       "    .dataframe tbody tr th:only-of-type {\n",
       "        vertical-align: middle;\n",
       "    }\n",
       "\n",
       "    .dataframe tbody tr th {\n",
       "        vertical-align: top;\n",
       "    }\n",
       "\n",
       "    .dataframe thead th {\n",
       "        text-align: right;\n",
       "    }\n",
       "</style>\n",
       "<table border=\"1\" class=\"dataframe\">\n",
       "  <thead>\n",
       "    <tr style=\"text-align: right;\">\n",
       "      <th></th>\n",
       "      <th>type1</th>\n",
       "      <th>type2</th>\n",
       "    </tr>\n",
       "  </thead>\n",
       "  <tbody>\n",
       "    <tr>\n",
       "      <th>0</th>\n",
       "      <td>0</td>\n",
       "      <td>4</td>\n",
       "    </tr>\n",
       "    <tr>\n",
       "      <th>1</th>\n",
       "      <td>0</td>\n",
       "      <td>4</td>\n",
       "    </tr>\n",
       "    <tr>\n",
       "      <th>2</th>\n",
       "      <td>0</td>\n",
       "      <td>4</td>\n",
       "    </tr>\n",
       "    <tr>\n",
       "      <th>3</th>\n",
       "      <td>5</td>\n",
       "      <td>9</td>\n",
       "    </tr>\n",
       "    <tr>\n",
       "      <th>4</th>\n",
       "      <td>5</td>\n",
       "      <td>9</td>\n",
       "    </tr>\n",
       "  </tbody>\n",
       "</table>\n",
       "</div>"
      ],
      "text/plain": [
       "   type1  type2\n",
       "0      0      4\n",
       "1      0      4\n",
       "2      0      4\n",
       "3      5      9\n",
       "4      5      9"
      ]
     },
     "execution_count": 13,
     "metadata": {},
     "output_type": "execute_result"
    }
   ],
   "source": [
    "# now, replace each of type1 and type2 with the indices shown above\n",
    "for idx, type_name in enumerate(all_types):\n",
    "    df[\"type1\"].replace(type_name, idx, inplace=True)\n",
    "    df[\"type2\"].replace(type_name, idx, inplace=True)\n",
    "df[[\"type1\", \"type2\"]].head()"
   ]
  },
  {
   "cell_type": "code",
   "execution_count": 17,
   "metadata": {},
   "outputs": [
    {
     "name": "stdout",
     "output_type": "stream",
     "text": [
      "['Merciless', 'Magic Bounce', 'Rivalry', 'Run Away', 'Insomnia', 'Healer', 'Slow Start', 'Mummy', 'Shell Armor', 'Receiver', 'Beast Boost', 'Light Metal', 'Guts', 'Quick Feet', 'Leaf Guard', 'Rattled', 'Competitive', 'Ice Body', 'Friend Guard', 'Queenly Majesty', 'Forewarn', 'Sheer Force', 'Magician', 'Fairy Aura', 'Sticky Hold', 'Misty Surge', 'Hydration', 'Skill Link', 'Trace', 'Slush Rush', 'Normalize', 'Stall', 'Flower Veil', 'Aftermath', 'Solar Power', 'Teravolt', 'Cheek Pouch', 'Shadow Shield', 'Anger Point', 'Big Pecks', 'Tough Claws', 'Anticipation', 'Water Absorb', 'Heavy Metal', 'Sand Veil', 'Air Lock', 'Pickpocket', 'Liquid Voice', 'Corrosion', 'Clear Body', 'Snow Warning', 'Toxic Boost', 'Klutz', 'Gluttony', 'Chlorophyll', 'Bulletproof', 'RKS System', 'Harvest', 'Aroma Veil', 'Overcoat', 'Pickup', 'Protean', 'Infiltrator', 'Sweet Veil', 'Speed Boost', 'No Guard', 'Prankster', 'Immunity', 'Gooey', 'Gale Wings', 'Shadow Tag', 'Arena Trap', 'Unnerve', 'Power of Alchemy', 'Refrigerate', 'Stamina', 'Unburden', 'Technician', 'Strong Jaw', 'Iron Barbs', 'Iron Fist', 'Flame Body', 'Dry Skin', 'Battery', 'Defeatist', 'Dancer', 'Shields Down', 'Heatproof', 'Poison Heal', 'Moxie', 'Water Bubble', 'Mega Launcher', 'Grassy Surge', 'Tinted Lens', 'Poison Touch', 'Vital Spirit', 'Solid Rock', 'Steadfast', 'Battle Armor', 'Truant', 'Illusion', 'Telepathy', 'Suction Cups', 'Tangled Feet', 'Volt Absorb', 'Wonder Guard', 'Motor Drive', 'Hyper Cutter', 'Snow Cloak', 'Analytic', 'Overgrow', 'Adaptability', 'Sand Rush', 'Levitate', 'Pressure', 'Simple', 'Stench', 'Dark Aura', 'Shield Dust', 'Zen Mode', 'Keen Eye', 'Cute Charm', 'Pixilate', 'Psychic Surge', 'Dazzling', 'Lightningrod', 'Disguise', 'Wonder Skin ', 'Fluffy', 'Marvel Scale', 'Natural Cure', 'Comatose', 'Synchronize', 'Reckless', 'Tangling Hair', 'Power Construct', 'Cloud Nine', 'Unaware', 'Emergency Exit', 'Pure Power', 'Swift Swim', 'Swarm', 'Imposter', 'Color Change', 'Frisk', 'Prism Armor', 'Bad Dreams', 'Full Metal Body', 'Flare Boost', 'Rain Dish', 'Storm Drain', 'Sturdy', 'Contrary', 'Minus', 'Magic Guard', 'Multiscale', 'Regenerator', 'Stance Change', 'Soundproof', 'Grass Pelt', 'Magnet Pull', 'Victory Star', 'Schooling', 'Sand Stream', 'Own Tempo', 'Water Veil', 'Inner Focus', 'Liquid Ooze', 'Berserk', 'Download', 'Turboblaze', 'Poison Point', 'Weak Armor', 'Oblivious', 'Aura Break', 'Electric Surge', 'Compoundeyes', 'Forecast', 'Innards Out', 'Sniper', 'Flash Fire', 'Multitype', 'Long Reach', 'Torrent', 'Sap Sipper', 'Illuminate', 'Static', 'Flower Gift', 'Battle Bond', 'Drought', 'Surge Surfer', 'Blaze', 'Huge Power', 'Shed Skin', 'White Smoke', 'Symbiosis', 'Scrappy', 'Rock Head', 'Triage', 'Moody', 'Early Bird', 'Filter', 'Drizzle', 'Soul-Heart', 'Thick Fat', 'Mold Breaker', 'Effect Spore', 'Honey Gather', 'Water Compaction', 'Cursed Body', 'Galvanize', 'Magma Armor', 'Stakeout', 'Wimp Out', 'Defiant', 'Intimidate', 'Steelworker', 'Limber', 'Serene Grace', 'Sand Force', 'Super Luck', 'Plus', 'Hustle', 'Rough Skin', 'Justified', 'Damp', 'Fur Coat']\n"
     ]
    },
    {
     "data": {
      "text/plain": [
       "0    [110, 54]\n",
       "1    [110, 54]\n",
       "2    [110, 54]\n",
       "3    [191, 34]\n",
       "4    [191, 34]\n",
       "Name: abilities, dtype: object"
      ]
     },
     "execution_count": 17,
     "metadata": {},
     "output_type": "execute_result"
    }
   ],
   "source": [
    "# NOTE: abilities are a little more tricky: each entry is consist of an arbitrarily sized\n",
    "# list of abilities. For now, these lists of abilities can be represented as lists of\n",
    "# each ability's ID, which can be used for indices in one-hot vector representation. We'll\n",
    "# discuss more on this later.\n",
    "abl_tuples = [literal_eval(abls) for abls in pokedex[\"abilities\"].tolist()]\n",
    "all_abilities = list(set([abl for abls in pokedex[\"abilities\"] for abl in literal_eval(abls)]))\n",
    "print(all_abilities) # when reduced to a set of unique abilities, there aren't that many\n",
    "\n",
    "for abls in abl_tuples:\n",
    "    str_rep = \"[%s]\" % \", \".join([\"'%s'\" % abl for abl in abls])\n",
    "    idx_rep = [all_abilities.index(abl) for abl in abls]\n",
    "    df[\"abilities\"].replace(str_rep, str(idx_rep), inplace=True)\n",
    "    \n",
    "df[\"abilities\"].head()"
   ]
  },
  {
   "cell_type": "code",
   "execution_count": null,
   "metadata": {
    "collapsed": true
   },
   "outputs": [],
   "source": []
  },
  {
   "cell_type": "markdown",
   "metadata": {},
   "source": [
    "## Plotting some interesting statistics"
   ]
  },
  {
   "cell_type": "code",
   "execution_count": 19,
   "metadata": {},
   "outputs": [
    {
     "data": {
      "image/png": "[encoded data removed]",
      "text/plain": [
       "<Figure size 600x400 with 1 Axes>"
      ]
     },
     "metadata": {},
     "output_type": "display_data"
    }
   ],
   "source": [
    "# let's look at how many Pokemons are introduced in each generation\n",
    "fig1, ax1 = plt.subplots(dpi=100)\n",
    "ax1.set_title(\"Unique Pokemon counts in each generation\")\n",
    "ax1.set_xlabel(\"generation\")\n",
    "ax1.set_ylabel(\"count\")\n",
    "freq = df[\"generation\"].value_counts()\n",
    "freq.plot.bar(ax=ax1)\n",
    "plt.show()"
   ]
  },
  {
   "cell_type": "code",
   "execution_count": 20,
   "metadata": {},
   "outputs": [
    {
     "data": {
      "image/png": "[encoded data removed]",
      "text/plain": [
       "<Figure size 600x400 with 1 Axes>"
      ]
     },
     "metadata": {},
     "output_type": "display_data"
    }
   ],
   "source": [
    "plt.figure(dpi=100)\n",
    "plt.title(\"Correlation between heights and weights\")\n",
    "plt.xlabel(\"height\")\n",
    "plt.ylabel(\"weight\")\n",
    "\n",
    "heights = df[\"height_m\"]\n",
    "weights = df[\"weight_kg\"]\n",
    "plt.plot(heights, weights, \".\")\n",
    "\n",
    "# linear regression\n",
    "a, b, r, p, stderr = stats.linregress(heights, weights)\n",
    "x = np.arange(0, 15)\n",
    "y = a * x + b\n",
    "plt.plot(x, y, \"-\")\n",
    "\n",
    "plt.text(8, 900, r\"y = %.3fx + %.3f\" % (a, b))\n",
    "plt.text(8, 800, r\"$r^2 = %.3f$\" % r ** 2)\n",
    "plt.grid(True)\n",
    "plt.show()"
   ]
  },
  {
   "cell_type": "markdown",
   "metadata": {},
   "source": [
    "## Pokemon capturing simulation"
   ]
  },
  {
   "cell_type": "markdown",
   "metadata": {},
   "source": []
  },
  {
   "cell_type": "markdown",
   "metadata": {},
   "source": [
    "## References"
   ]
  },
  {
   "cell_type": "markdown",
   "metadata": {},
   "source": [
    "1. https://www.kaggle.com/jeru666/my-pokemon-collection/code\n",
    "2. https://www.kaggle.com/romaintt/pokemon-create-new-legendary-pokemon/code"
   ]
  }
 ],
 "metadata": {
  "kernelspec": {
   "display_name": "Python 3",
   "language": "python",
   "name": "python3"
  },
  "language_info": {
   "codemirror_mode": {
    "name": "ipython",
    "version": 3
   },
   "file_extension": ".py",
   "mimetype": "text/x-python",
   "name": "python",
   "nbconvert_exporter": "python",
   "pygments_lexer": "ipython3",
   "version": "3.6.5"
  }
 },
 "nbformat": 4,
 "nbformat_minor": 2
}
