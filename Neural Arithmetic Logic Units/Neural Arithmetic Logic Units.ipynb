{
 "cells": [
  {
   "cell_type": "markdown",
   "metadata": {},
   "source": [
    "<img src=\"images/nalu.png\" align=right width=40%>\n",
    "# Neural Arithmetic Logic Units\n",
    "Author: Jin Yeom (jinyeom@utexas.edu)\n",
    "\n",
    "## Contents\n",
    "- [Numerical Extrapolation Failures in Neural Networks](#Numerical-Extrapolation-Failures-in-Neural-Networks)"
   ]
  },
  {
   "cell_type": "code",
   "execution_count": 27,
   "metadata": {},
   "outputs": [],
   "source": [
    "import torch\n",
    "from torch import nn\n",
    "from torch import optim\n",
    "from torch.nn import functional as F\n",
    "from torchsummary import summary\n",
    "from tqdm import tqdm_notebook as tqdm"
   ]
  },
  {
   "cell_type": "code",
   "execution_count": 13,
   "metadata": {},
   "outputs": [
    {
     "name": "stdout",
     "output_type": "stream",
     "text": [
      "device = cpu\n"
     ]
    }
   ],
   "source": [
    "device = torch.device(\"cuda\" if torch.cuda.is_available() else \"cpu\")\n",
    "print(\"device =\", device)"
   ]
  },
  {
   "cell_type": "markdown",
   "metadata": {},
   "source": [
    "## Numerical Extrapolation Failures in Neural Networks"
   ]
  },
  {
   "cell_type": "code",
   "execution_count": 19,
   "metadata": {},
   "outputs": [],
   "source": [
    "class ScalarIdentityAutoencoder(nn.Module):\n",
    "    def __init__(self, nonlin):\n",
    "        super(ScalarIdentityAutoencoder, self).__init__()\n",
    "        self.fc1 = nn.Linear(1, 8)\n",
    "        self.fc2 = nn.Linear(8, 8)\n",
    "        self.fc3 = nn.Linear(8, 8)\n",
    "        self.fc4 = nn.Linear(8, 1)\n",
    "        self.nonlin = nonlin\n",
    "        \n",
    "    def forward(self, x):\n",
    "        x = self.nonlin(self.fc1(x))\n",
    "        x = self.nonlin(self.fc2(x))\n",
    "        x = self.nonlin(self.fc3(x))\n",
    "        return self.fc4(x)"
   ]
  },
  {
   "cell_type": "code",
   "execution_count": 20,
   "metadata": {},
   "outputs": [
    {
     "name": "stdout",
     "output_type": "stream",
     "text": [
      "----------------------------------------------------------------\n",
      "        Layer (type)               Output Shape         Param #\n",
      "================================================================\n",
      "            Linear-1                    [-1, 8]              16\n",
      "              ReLU-2                    [-1, 8]               0\n",
      "            Linear-3                    [-1, 8]              72\n",
      "              ReLU-4                    [-1, 8]               0\n",
      "            Linear-5                    [-1, 8]              72\n",
      "              ReLU-6                    [-1, 8]               0\n",
      "            Linear-7                    [-1, 1]               9\n",
      "================================================================\n",
      "Total params: 169\n",
      "Trainable params: 169\n",
      "Non-trainable params: 0\n",
      "----------------------------------------------------------------\n",
      "Input size (MB): 0.00\n",
      "Forward/backward pass size (MB): 0.00\n",
      "Params size (MB): 0.00\n",
      "Estimated Total Size (MB): 0.00\n",
      "----------------------------------------------------------------\n"
     ]
    }
   ],
   "source": [
    "summary(ScalarIdentityAutoencoder(nn.ReLU(inplace=True)).to(device), (1,))"
   ]
  },
  {
   "cell_type": "code",
   "execution_count": 25,
   "metadata": {},
   "outputs": [],
   "source": [
    "# nonlinear functions to be tested\n",
    "# NOTE: threshold function is excluded\n",
    "for nonlin in [nn.Hardtanh(),\n",
    "               nn.Sigmoid(),\n",
    "               nn.ReLU6(),\n",
    "               nn.Tanh(),\n",
    "               nn.Tanhshrink(),\n",
    "               nn.Hardshrink(),\n",
    "               nn.LeakyReLU(),\n",
    "               nn.Softshrink(),\n",
    "               nn.Softsign(),\n",
    "               nn.Threshold(0, 1),\n",
    "               nn.ReLU(),\n",
    "               nn.PReLU(),\n",
    "               nn.Softplus(),\n",
    "               nn.ELU(),\n",
    "               nn.SELU()]:\n",
    "    model = ScalarIdentityAutoencoder(nonlin)\n",
    "    optimizer = optim.SGD(model.parameters(), lr=0.01)\n",
    "    for i in tqdm(10000):\n",
    "        \n",
    "        x = torch.rand(16, 1).to(device) * 10 - 5 # uniform random in [-5, 5]\n",
    "        x_ = model(x)\n",
    "        "
   ]
  }
 ],
 "metadata": {
  "kernelspec": {
   "display_name": "research",
   "language": "python",
   "name": "research"
  },
  "language_info": {
   "codemirror_mode": {
    "name": "ipython",
    "version": 3
   },
   "file_extension": ".py",
   "mimetype": "text/x-python",
   "name": "python",
   "nbconvert_exporter": "python",
   "pygments_lexer": "ipython3",
   "version": "3.6.6"
  }
 },
 "nbformat": 4,
 "nbformat_minor": 2
}
