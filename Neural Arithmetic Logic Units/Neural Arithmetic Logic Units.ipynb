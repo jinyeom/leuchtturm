{
 "cells": [
  {
   "cell_type": "markdown",
   "metadata": {},
   "source": [
    "<img src=\"images/nalu.png\" align=right width=40%></img>\n",
    "# Neural Arithmetic Logic Units\n",
    "Author: Jin Yeom (jinyeom@utexas.edu)\n",
    "\n",
    "## Contents\n",
    "- [Neural accumulator](#Neural-accumulator)\n",
    "- [Neural arithmetic logic unit](#Neural-arithmetic-logic-unit)\n",
    "- [Experiments](#Experiments)\n",
    "    - [Simple function learning tasks](#Simple-function-learning-tasks)"
   ]
  },
  {
   "cell_type": "code",
   "execution_count": 5,
   "metadata": {},
   "outputs": [],
   "source": [
    "import math\n",
    "\n",
    "import torch\n",
    "from torch import nn\n",
    "from torch import optim\n",
    "from torch.nn import functional as F\n",
    "from torchsummary import summary\n",
    "from tqdm import tqdm_notebook as tqdm"
   ]
  },
  {
   "cell_type": "code",
   "execution_count": 3,
   "metadata": {},
   "outputs": [
    {
     "name": "stdout",
     "output_type": "stream",
     "text": [
      "device = cpu\n"
     ]
    }
   ],
   "source": [
    "device = torch.device(\"cuda\" if torch.cuda.is_available() else \"cpu\")\n",
    "print(\"device =\", device)"
   ]
  },
  {
   "cell_type": "markdown",
   "metadata": {},
   "source": [
    "## Neural accumulator"
   ]
  },
  {
   "cell_type": "code",
   "execution_count": 11,
   "metadata": {},
   "outputs": [],
   "source": [
    "class NAC(nn.Module):\n",
    "    def __init__(self, in_features, out_features):\n",
    "        super(NAC, self).__init__()\n",
    "        self.in_features = in_features\n",
    "        self.out_features = out_features\n",
    "        self.W_hat = nn.Parameter(torch.Tensor(out_features, in_features))\n",
    "        self.M_hat = nn.Parameter(torch.Tensor(out_features, in_features))\n",
    "        self.W = torch.tanh(self.W_hat) * torch.sigmoid(self.M_hat)\n",
    "        self.reset_parameters()\n",
    "        \n",
    "    def reset_parameters(self):\n",
    "        stdv = 1.0 / math.sqrt(self.in_features)\n",
    "        self.W_hat.data.uniform_(-stdv, stdv)\n",
    "        self.M_hat.data.uniform_(-stdv, stdv)\n",
    "        \n",
    "    def forward(self, x):\n",
    "        return F.linear(x, self.W, None)"
   ]
  },
  {
   "cell_type": "markdown",
   "metadata": {},
   "source": [
    "## Neural arithmetic logic unit"
   ]
  },
  {
   "cell_type": "code",
   "execution_count": 13,
   "metadata": {},
   "outputs": [],
   "source": [
    "class NALU(nn.Module):\n",
    "    def __init__(self, in_features, out_features, eps=1e-8):\n",
    "        super(NALU, self).__init__()\n",
    "        self.in_features = in_features\n",
    "        self.out_features = out_features\n",
    "        self.nac1 = NAC(in_features, out_features) # add/sub\n",
    "        self.nac2 = NAC(in_features, out_features) # mul/div\n",
    "        self.G = nn.Parameter(torch.Tensor(in_features))\n",
    "        self.eps = eps\n",
    "        \n",
    "    def reset_parameters(self):\n",
    "        stdv = 1.0 / math.sqrt(self.in_features)\n",
    "        self.G.data.uniform_(-stdv, stdv)\n",
    "        self.nac1.reset_parameters()\n",
    "        self.nac2.reset_parameters()\n",
    "        \n",
    "    def forward(self, x):\n",
    "        g = torch.sigmoid(torch.matmul(x, self.G))\n",
    "        a = self.nac1(x)\n",
    "        m = torch.exp(self.nac2(torch.log(torch.abs(x) + self.eps)))\n",
    "        return g * a + (1 - g) * m"
   ]
  },
  {
   "cell_type": "markdown",
   "metadata": {},
   "source": [
    "## Experiments"
   ]
  },
  {
   "cell_type": "markdown",
   "metadata": {},
   "source": [
    "### Simple function learning tasks"
   ]
  },
  {
   "cell_type": "code",
   "execution_count": null,
   "metadata": {},
   "outputs": [],
   "source": [
    "def generate_data(num_train, num_test, op, dim=100, sub_dim=10, range_=(5, 10)):\n",
    "    data = torch.Tensor(dim).uniform_(*range_).unsqueeze_(1)\n",
    "    X, y = [], []\n",
    "    for i in tqdm(num_train + num_test):\n",
    "        indices = np.split(np.random.choice(dim, sub_dim * 2), 2)\n",
    "        a = data[indices[0]].sum()\n",
    "        b = data[indices[1]].sum()\n",
    "        X.append((a, b))\n",
    "        y.append(op(a, b))\n",
    "    X = torch.tensor(X)\n",
    "    y = torch.tensor(y)"
   ]
  },
  {
   "cell_type": "code",
   "execution_count": null,
   "metadata": {},
   "outputs": [],
   "source": []
  }
 ],
 "metadata": {
  "kernelspec": {
   "display_name": "research",
   "language": "python",
   "name": "research"
  },
  "language_info": {
   "codemirror_mode": {
    "name": "ipython",
    "version": 3
   },
   "file_extension": ".py",
   "mimetype": "text/x-python",
   "name": "python",
   "nbconvert_exporter": "python",
   "pygments_lexer": "ipython3",
   "version": "3.6.6"
  }
 },
 "nbformat": 4,
 "nbformat_minor": 2
}
