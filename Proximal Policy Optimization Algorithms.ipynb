{
 "cells": [
  {
   "cell_type": "markdown",
   "metadata": {},
   "source": [
    "<img src=\"images/ppo_cover.jpg\" width=25% align=\"right\"/>\n",
    "# Proximal Policy Optimization Algorithms\n",
    "Author: Jin Yeom (jinyeom@utexas.edu)  \n",
    "Original authors: John Schulman, Filip Wolski, Prafulla Dhariwal, Alec Radford, Oleg Klimov\n",
    "\n",
    "## Contents\n",
    "- [Implementation](#Implementation)\n",
    "    - [Environment](#Environment)\n",
    "    - [Policy](#Policy)\n",
    "    - [PPO](#PPO)\n",
    "- [Training](#Training)\n",
    "- [References](#References)"
   ]
  },
  {
   "cell_type": "markdown",
   "metadata": {},
   "source": [
    "**[Proximal Policy Optimization (PPO)](https://arxiv.org/abs/1707.06347)** algorithms are a set of policy gradient algorithms with a novel loss function,"
   ]
  },
  {
   "cell_type": "markdown",
   "metadata": {},
   "source": [
    "$$\n",
    "L^{CLIP}(\\theta) = E[min(r_t(\\theta)A_t, clip(r_t(\\theta)A_t, 1 - \\epsilon, 1 + \\epsilon)A_t)] \n",
    "$$"
   ]
  },
  {
   "cell_type": "markdown",
   "metadata": {},
   "source": [
    "which extends [TRPO algorithm](https://arxiv.org/abs/1502.05477), but is simpler to implement while showing SOTA performance."
   ]
  },
  {
   "cell_type": "code",
   "execution_count": 19,
   "metadata": {},
   "outputs": [],
   "source": [
    "import torch\n",
    "from torch import nn\n",
    "from torch.nn import functional as F\n",
    "from torch.autograd import Variable\n",
    "import gym\n",
    "import numpy as np"
   ]
  },
  {
   "cell_type": "markdown",
   "metadata": {},
   "source": [
    "## Implementation"
   ]
  },
  {
   "cell_type": "markdown",
   "metadata": {},
   "source": [
    "This implementation refers to [OpenAI's TensorFlow implementation](https://github.com/openai/baselines). In this notebook, however, we're going to be using PyTorch."
   ]
  },
  {
   "cell_type": "markdown",
   "metadata": {},
   "source": [
    "### Policy"
   ]
  },
  {
   "cell_type": "code",
   "execution_count": 23,
   "metadata": {},
   "outputs": [],
   "source": [
    "class NatureDQN(nn.Module):\n",
    "    def __init__(self, in_channels=4, act_dim=18):\n",
    "        super(NatureDQN, self).__init__()\n",
    "        self.conv1 = nn.Conv2d(in_channels, 32, kernel_size=8, stride=4)\n",
    "        self.conv2 = nn.Conv2d(32, 64, kernel_size=4, stride=2)\n",
    "        self.conv3 = nn.Conv2d(64, 64, kernel_size=3, stride=1)\n",
    "        self.fc4 = nn.Linear(7 * 7 * 64, 512)\n",
    "        self.fc5 = nn.Linear(512, act_dim)\n",
    "        \n",
    "    def forward(self, x):\n",
    "        x = F.relu(self.conv1(x))\n",
    "        x = F.relu(self.conv2(x))\n",
    "        x = F.relu(self.conv3(x))\n",
    "        x = x.view(x.size(0), -1)\n",
    "        x = F.relu(self.fc4(x))\n",
    "        return self.fc5(x)"
   ]
  },
  {
   "cell_type": "code",
   "execution_count": 28,
   "metadata": {},
   "outputs": [
    {
     "name": "stdout",
     "output_type": "stream",
     "text": [
      "Number of trainable parameters: 1693362\n"
     ]
    }
   ],
   "source": [
    "model = NatureDQN()\n",
    "n_params = sum(p.numel() for p in model.parameters() if p.requires_grad)\n",
    "print(f\"Number of trainable parameters: {n_params}\")"
   ]
  },
  {
   "cell_type": "markdown",
   "metadata": {},
   "source": [
    "### Environment"
   ]
  },
  {
   "cell_type": "code",
   "execution_count": 29,
   "metadata": {
    "scrolled": true
   },
   "outputs": [
    {
     "name": "stdout",
     "output_type": "stream",
     "text": [
      "Looking in indexes: http://pypi.hudltools.com, https://pypi.python.org\n",
      "Requirement already satisfied: gym[all] in /Users/jinseok.yeom/anaconda3/lib/python3.6/site-packages (0.10.5)\n",
      "Requirement already satisfied: numpy>=1.10.4 in /Users/jinseok.yeom/anaconda3/lib/python3.6/site-packages (from gym[all]) (1.14.3)\n",
      "Requirement already satisfied: six in /Users/jinseok.yeom/anaconda3/lib/python3.6/site-packages (from gym[all]) (1.10.0)\n",
      "Requirement already satisfied: pyglet>=1.2.0 in /Users/jinseok.yeom/anaconda3/lib/python3.6/site-packages (from gym[all]) (1.2.4)\n",
      "Requirement already satisfied: requests>=2.0 in /Users/jinseok.yeom/anaconda3/lib/python3.6/site-packages (from gym[all]) (2.18.4)\n",
      "Collecting mujoco-py>=1.50; extra == \"all\" (from gym[all])\n",
      "\u001b[?25l  Downloading https://files.pythonhosted.org/packages/53/bd/c12bad1630389104ece20a793e5ab70040a7688daadd371f8b46ed583ed0/mujoco-py-1.50.1.56.tar.gz (5.8MB)\n",
      "\u001b[K    100% |████████████████████████████████| 5.8MB 5.7MB/s eta 0:00:01\n",
      "\u001b[?25hRequirement already satisfied: imageio; extra == \"all\" in /Users/jinseok.yeom/anaconda3/lib/python3.6/site-packages (from gym[all]) (2.2.0)\n",
      "Collecting atari-py>=0.1.1; extra == \"all\" (from gym[all])\n",
      "\u001b[?25l  Downloading https://files.pythonhosted.org/packages/8b/38/3c6716ac9031a686cc3228f3855e48c08a40e4d7c490dd4c21c65b465205/atari-py-0.1.1.tar.gz (760kB)\n",
      "\u001b[K    100% |████████████████████████████████| 768kB 14.6MB/s ta 0:00:01\n",
      "\u001b[?25hCollecting PyOpenGL; extra == \"all\" (from gym[all])\n",
      "\u001b[?25l  Downloading https://files.pythonhosted.org/packages/9c/1d/4544708aaa89f26c97cc09450bb333a23724a320923e74d73e028b3560f9/PyOpenGL-3.1.0.tar.gz (1.2MB)\n",
      "\u001b[K    100% |████████████████████████████████| 1.2MB 11.4MB/s ta 0:00:01\n",
      "\u001b[?25hCollecting Box2D-kengz; extra == \"all\" (from gym[all])\n",
      "\u001b[?25l  Downloading https://files.pythonhosted.org/packages/81/20/51d6c0c87f7642efb709c518fb0ca8e5eab068259588552c41da5926ae27/Box2D-kengz-2.3.3.tar.gz (425kB)\n",
      "\u001b[K    100% |████████████████████████████████| 430kB 18.5MB/s ta 0:00:01\n",
      "\u001b[?25hRequirement already satisfied: Pillow; extra == \"all\" in /Users/jinseok.yeom/anaconda3/lib/python3.6/site-packages (from gym[all]) (5.0.0)\n",
      "Requirement already satisfied: chardet<3.1.0,>=3.0.2 in /Users/jinseok.yeom/anaconda3/lib/python3.6/site-packages (from requests>=2.0->gym[all]) (3.0.4)\n",
      "Requirement already satisfied: idna<2.7,>=2.5 in /Users/jinseok.yeom/anaconda3/lib/python3.6/site-packages (from requests>=2.0->gym[all]) (2.6)\n",
      "Requirement already satisfied: urllib3<1.23,>=1.21.1 in /Users/jinseok.yeom/anaconda3/lib/python3.6/site-packages (from requests>=2.0->gym[all]) (1.22)\n",
      "Requirement already satisfied: certifi>=2017.4.17 in /Users/jinseok.yeom/anaconda3/lib/python3.6/site-packages (from requests>=2.0->gym[all]) (2018.1.18)\n",
      "Collecting glfw>=1.4.0 (from mujoco-py>=1.50; extra == \"all\"->gym[all])\n",
      "  Downloading https://files.pythonhosted.org/packages/f3/dd/fd5c662d7a07fca96aaffab585acfa4c624a2400f91a5bc1ebbb514dd4f9/glfw-1.7.0.tar.gz\n",
      "Requirement already satisfied: Cython>=0.27.2 in /Users/jinseok.yeom/anaconda3/lib/python3.6/site-packages (from mujoco-py>=1.50; extra == \"all\"->gym[all]) (0.27.3)\n",
      "Requirement already satisfied: cffi>=1.10 in /Users/jinseok.yeom/anaconda3/lib/python3.6/site-packages (from mujoco-py>=1.50; extra == \"all\"->gym[all]) (1.11.4)\n",
      "Requirement already satisfied: pycparser in /Users/jinseok.yeom/anaconda3/lib/python3.6/site-packages (from cffi>=1.10->mujoco-py>=1.50; extra == \"all\"->gym[all]) (2.18)\n",
      "Building wheels for collected packages: mujoco-py, atari-py, PyOpenGL, Box2D-kengz, glfw\n",
      "  Running setup.py bdist_wheel for mujoco-py ... \u001b[?25ldone\n",
      "\u001b[?25h  Stored in directory: /Users/jinseok.yeom/Library/Caches/pip/wheels/91/0a/d1/1333dd27794b10433bb878356d2368de008f25f0df066d11d3\n",
      "  Running setup.py bdist_wheel for atari-py ... \u001b[?25ldone\n",
      "\u001b[?25h  Stored in directory: /Users/jinseok.yeom/Library/Caches/pip/wheels/ac/79/85/b21b404d3469c3028aea3b7a1dfe9d9bf9827a20cee6a118bd\n",
      "  Running setup.py bdist_wheel for PyOpenGL ... \u001b[?25ldone\n",
      "\u001b[?25h  Stored in directory: /Users/jinseok.yeom/Library/Caches/pip/wheels/6c/00/7f/1dd736f380848720ad79a1a1de5272e0d3f79c15a42968fb58\n",
      "  Running setup.py bdist_wheel for Box2D-kengz ... \u001b[?25ldone\n",
      "\u001b[?25h  Stored in directory: /Users/jinseok.yeom/Library/Caches/pip/wheels/75/ae/e5/8bc678d262caad94659c199c540550e59d03dd3bd3684d4f1a\n",
      "  Running setup.py bdist_wheel for glfw ... \u001b[?25ldone\n",
      "\u001b[?25h  Stored in directory: /Users/jinseok.yeom/Library/Caches/pip/wheels/ca/aa/05/9b802212ed86ef800f54025059bac9e64f58dfaf17fb97e94e\n",
      "Successfully built mujoco-py atari-py PyOpenGL Box2D-kengz glfw\n",
      "\u001b[31mtensorboard 1.8.0 has requirement bleach==1.5.0, but you'll have bleach 2.1.2 which is incompatible.\u001b[0m\n",
      "\u001b[31mtensorboard 1.8.0 has requirement html5lib==0.9999999, but you'll have html5lib 0.999999 which is incompatible.\u001b[0m\n",
      "\u001b[31mparse-type 0.4.2 has requirement six>=1.11, but you'll have six 1.10.0 which is incompatible.\u001b[0m\n",
      "\u001b[31mbleach 2.1.2 has requirement html5lib!=1.0b1,!=1.0b2,!=1.0b3,!=1.0b4,!=1.0b5,!=1.0b6,!=1.0b7,!=1.0b8,>=0.99999999pre, but you'll have html5lib 0.999999 which is incompatible.\u001b[0m\n",
      "\u001b[31mbehave 1.2.6.dev0 has requirement six>=1.11, but you'll have six 1.10.0 which is incompatible.\u001b[0m\n",
      "\u001b[31mantioch 5.1.0 has requirement lxml==3.7.3, but you'll have lxml 4.1.1 which is incompatible.\u001b[0m\n",
      "Installing collected packages: glfw, mujoco-py, atari-py, PyOpenGL, Box2D-kengz\n",
      "Successfully installed Box2D-kengz-2.3.3 PyOpenGL-3.1.0 atari-py-0.1.1 glfw-1.7.0 mujoco-py-1.50.1.56\n"
     ]
    }
   ],
   "source": [
    "!pip install 'gym[all]'"
   ]
  },
  {
   "cell_type": "markdown",
   "metadata": {},
   "source": [
    "### PPO"
   ]
  },
  {
   "cell_type": "code",
   "execution_count": null,
   "metadata": {},
   "outputs": [],
   "source": [
    "env = gym.make"
   ]
  },
  {
   "cell_type": "markdown",
   "metadata": {},
   "source": [
    "## Training"
   ]
  },
  {
   "cell_type": "markdown",
   "metadata": {},
   "source": [
    "## References"
   ]
  },
  {
   "cell_type": "markdown",
   "metadata": {},
   "source": [
    "- https://arxiv.org/abs/1707.06347 (Proximal Policy Optimization Algorithms)\n",
    "- https://arxiv.org/abs/1502.05477 (Trust Region Policy Optimization)"
   ]
  }
 ],
 "metadata": {
  "kernelspec": {
   "display_name": "Python 3",
   "language": "python",
   "name": "python3"
  },
  "language_info": {
   "codemirror_mode": {
    "name": "ipython",
    "version": 3
   },
   "file_extension": ".py",
   "mimetype": "text/x-python",
   "name": "python",
   "nbconvert_exporter": "python",
   "pygments_lexer": "ipython3",
   "version": "3.6.4"
  }
 },
 "nbformat": 4,
 "nbformat_minor": 2
}
