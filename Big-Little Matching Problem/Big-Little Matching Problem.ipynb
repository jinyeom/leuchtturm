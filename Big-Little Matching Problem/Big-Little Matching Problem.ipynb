{
 "cells": [
  {
   "cell_type": "markdown",
   "metadata": {},
   "source": [
    "# Big-Little Matching Problem\n",
    "Author: Jin Yeom (jinyeom@utexas.edu)\n",
    "\n",
    "## Contents\n",
    "- [Problem](#Problem)\n",
    "- [Solutions](#Solutions)"
   ]
  },
  {
   "cell_type": "code",
   "execution_count": 17,
   "metadata": {},
   "outputs": [],
   "source": [
    "from pprint import pprint\n",
    "from typing import Sequence, Mapping\n",
    "import numpy as np"
   ]
  },
  {
   "cell_type": "markdown",
   "metadata": {},
   "source": [
    "## Problem"
   ]
  },
  {
   "cell_type": "markdown",
   "metadata": {},
   "source": [
    "Let's say there are two groups of people, one with $m$ people, the other with $n$. We have to match members of these two groups, but there are constraints as followed:\n",
    "- each person has top-$x$ preferences of choices in the other group\n",
    "- preferences of people in group of $n$ matter more than those of the others\n",
    "- if $n > m$, $n - m$ number of people in the group of $m$ must be paired with 2 people in the other group"
   ]
  },
  {
   "cell_type": "code",
   "execution_count": 9,
   "metadata": {},
   "outputs": [],
   "source": [
    "bigs = [\"Abigail\", \"Beth\", \"Chloe\", \"Daisy\"]\n",
    "littles = [\"Emily\", \"Faith\", \"Gaby\"]"
   ]
  },
  {
   "cell_type": "code",
   "execution_count": 19,
   "metadata": {},
   "outputs": [
    {
     "name": "stdout",
     "output_type": "stream",
     "text": [
      "bigs preferences:\n",
      "{'Abigail': ['Emily', 'Faith'],\n",
      " 'Beth': ['Emily', 'Faith'],\n",
      " 'Chloe': ['Gaby', 'Faith'],\n",
      " 'Daisy': ['Gaby', 'Faith']}\n",
      "littles preferences:\n",
      "{'Emily': ['Abigail', 'Beth'],\n",
      " 'Faith': ['Beth', 'Daisy'],\n",
      " 'Gaby': ['Abigail', 'Beth']}\n"
     ]
    }
   ],
   "source": [
    "b_prefs = dict([(b, np.random.choice(littles, size=2, replace=False).tolist()) for b in bigs])\n",
    "l_prefs = dict([(l, np.random.choice(bigs, size=2, replace=False).tolist()) for l in littles])\n",
    "print(\"bigs preferences:\")\n",
    "pprint(b_prefs)\n",
    "print(\"littles preferences:\")\n",
    "pprint(l_prefs)"
   ]
  },
  {
   "cell_type": "markdown",
   "metadata": {},
   "source": [
    "## Solutions"
   ]
  },
  {
   "cell_type": "code",
   "execution_count": null,
   "metadata": {},
   "outputs": [],
   "source": []
  }
 ],
 "metadata": {
  "kernelspec": {
   "display_name": "Python 3",
   "language": "python",
   "name": "python3"
  },
  "language_info": {
   "codemirror_mode": {
    "name": "ipython",
    "version": 3
   },
   "file_extension": ".py",
   "mimetype": "text/x-python",
   "name": "python",
   "nbconvert_exporter": "python",
   "pygments_lexer": "ipython3",
   "version": "3.6.5"
  }
 },
 "nbformat": 4,
 "nbformat_minor": 2
}
