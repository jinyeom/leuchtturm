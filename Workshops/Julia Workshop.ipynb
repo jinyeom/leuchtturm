{
 "cells": [
  {
   "cell_type": "markdown",
   "metadata": {},
   "source": [
    "<img src=\"images/julia.png\" align=right width=30%>\n",
    "# Julia Workshop\n",
    "Author: Jin Yeom (jinyeom@utexas.edu)\n",
    "\n",
    "## Contents\n",
    "- [Basics](#Basics)"
   ]
  },
  {
   "cell_type": "markdown",
   "metadata": {},
   "source": [
    "## Basics"
   ]
  },
  {
   "cell_type": "code",
   "execution_count": 1,
   "metadata": {},
   "outputs": [
    {
     "name": "stdout",
     "output_type": "stream",
     "text": [
      "Hello, Julia!\n"
     ]
    }
   ],
   "source": [
    "# comment like this!\n",
    "println(\"Hello, Julia!\")"
   ]
  },
  {
   "cell_type": "code",
   "execution_count": 2,
   "metadata": {},
   "outputs": [],
   "source": [
    "#=\n",
    "This is how you comment with multiple lines!\n",
    "\n",
    "I like it!\n",
    "=#"
   ]
  },
  {
   "cell_type": "code",
   "execution_count": 3,
   "metadata": {},
   "outputs": [
    {
     "name": "stdout",
     "output_type": "stream",
     "text": [
      "Single double-quote string!\n",
      "Triple double-quote string can do \"this\"!\n"
     ]
    }
   ],
   "source": [
    "str1 = \"Single double-quote string!\"\n",
    "str2 = \"\"\"Triple double-quote string can do \"this\"!\"\"\"\n",
    "println(str1)\n",
    "println(str2)"
   ]
  },
  {
   "cell_type": "code",
   "execution_count": 4,
   "metadata": {},
   "outputs": [
    {
     "name": "stdout",
     "output_type": "stream",
     "text": [
      "Hello Julia, my name is Jin. Neat!\n"
     ]
    }
   ],
   "source": [
    "name = \"Jin\"\n",
    "tmpl = \"Hello Julia, my name is $name. Neat!\"\n",
    "println(tmpl)"
   ]
  },
  {
   "cell_type": "code",
   "execution_count": 5,
   "metadata": {},
   "outputs": [
    {
     "name": "stdout",
     "output_type": "stream",
     "text": [
      "Oh, hi Mark.\n"
     ]
    }
   ],
   "source": [
    "name = \"Mark\"\n",
    "str3 = string(\"Oh\", \", \", \"hi \", \"$name.\")\n",
    "println(str3)"
   ]
  },
  {
   "cell_type": "code",
   "execution_count": 6,
   "metadata": {},
   "outputs": [
    {
     "name": "stdout",
     "output_type": "stream",
     "text": [
      "Dict(\"c\"=>4,\"b\"=>2,\"a\"=>1)\n"
     ]
    }
   ],
   "source": [
    "dict = Dict(\"a\" => 1,\n",
    "            \"b\" => 2,\n",
    "            \"c\" => 3) # I don't know how I feel about the arrows...\n",
    "dict[\"c\"] = 4 # this is the same as Python\n",
    "println(dict)"
   ]
  },
  {
   "cell_type": "code",
   "execution_count": 7,
   "metadata": {},
   "outputs": [
    {
     "name": "stdout",
     "output_type": "stream",
     "text": [
      "Dict(\"c\"=>4,\"b\"=>2)\n"
     ]
    }
   ],
   "source": [
    "pop!(dict, \"a\") # interesting...\n",
    "println(dict)"
   ]
  },
  {
   "cell_type": "code",
   "execution_count": 8,
   "metadata": {},
   "outputs": [
    {
     "name": "stdout",
     "output_type": "stream",
     "text": [
      "(\"a\", \"b\", \"c\")\n"
     ]
    }
   ],
   "source": [
    "tpl = (\"a\", \"b\", \"c\")\n",
    "println(tpl) # pretty straightforward"
   ]
  },
  {
   "cell_type": "code",
   "execution_count": 9,
   "metadata": {},
   "outputs": [
    {
     "name": "stdout",
     "output_type": "stream",
     "text": [
      "[1, 2, 3, 4, 5]\n",
      "Array{Int64,1}\n",
      "[1.0, 2.0, 3.0, 4.0]\n",
      "Array{Float64,1}\n"
     ]
    }
   ],
   "source": [
    "lst1 = [1, 2, 3, 4, 5] # NOTE: \"list\" in Julia is actually an array\n",
    "lst2 = [1.0, 2.0, 3.0, 4.0]\n",
    "println(lst1)\n",
    "println(typeof(lst1))\n",
    "println(lst2)\n",
    "println(typeof(lst2))"
   ]
  },
  {
   "cell_type": "code",
   "execution_count": 10,
   "metadata": {},
   "outputs": [
    {
     "name": "stdout",
     "output_type": "stream",
     "text": [
      "[1.0, 2.0, 3.0, 4.0, 5.0]\n"
     ]
    }
   ],
   "source": [
    "push!(lst2, 5.0)\n",
    "println(lst2)"
   ]
  },
  {
   "cell_type": "code",
   "execution_count": 11,
   "metadata": {},
   "outputs": [
    {
     "data": {
      "text/plain": [
       "5×5 Array{Float64,2}:\n",
       " 0.00547904  0.918292  0.211025  0.255591  0.309732\n",
       " 0.976416    0.307414  0.644823  0.454281  0.96759 \n",
       " 0.70645     0.595628  0.193583  0.609948  0.181966\n",
       " 0.297927    0.828345  0.836154  0.656279  0.79384 \n",
       " 0.487338    0.991835  0.128389  0.20069   0.812781"
      ]
     },
     "execution_count": 11,
     "metadata": {},
     "output_type": "execute_result"
    }
   ],
   "source": [
    "rand(5, 5) # woah, built-in numpy?!"
   ]
  },
  {
   "cell_type": "code",
   "execution_count": 22,
   "metadata": {},
   "outputs": [
    {
     "name": "stdout",
     "output_type": "stream",
     "text": [
      "n is now 0\n",
      "n is now 1\n",
      "n is now 2\n",
      "n is now 3\n",
      "n is now 4\n",
      "n is now 5\n",
      "n is now 6\n",
      "n is now 7\n",
      "n is now 8\n",
      "n is now 9\n"
     ]
    }
   ],
   "source": [
    "n = 0\n",
    "while n < 10\n",
    "    println(\"n is now $n\")\n",
    "    global n += 1 # this is weird!\n",
    "end"
   ]
  },
  {
   "cell_type": "code",
   "execution_count": 27,
   "metadata": {},
   "outputs": [
    {
     "name": "stdout",
     "output_type": "stream",
     "text": [
      "i = 0\n",
      "i = 1\n",
      "i = 2\n",
      "i = 3\n",
      "i = 4\n",
      "i = 5\n",
      "i = 6\n",
      "i = 7\n",
      "i = 8\n",
      "i = 9\n"
     ]
    }
   ],
   "source": [
    "for i in 0:9 # NOTE: both ends of the range is inclusive\n",
    "    println(\"i = $i\") # this is waayyyyy better\n",
    "end"
   ]
  },
  {
   "cell_type": "code",
   "execution_count": 28,
   "metadata": {},
   "outputs": [
    {
     "name": "stdout",
     "output_type": "stream",
     "text": [
      "Julia\n",
      "Python\n",
      "Go\n"
     ]
    }
   ],
   "source": [
    "for lang ∈ [\"Julia\", \"Python\", \"Go\"] # what.\n",
    "    println(lang)\n",
    "end"
   ]
  },
  {
   "cell_type": "code",
   "execution_count": 33,
   "metadata": {},
   "outputs": [
    {
     "name": "stdout",
     "output_type": "stream",
     "text": [
      "(1, 4)\n",
      "(1, 5)\n",
      "(1, 6)\n",
      "(2, 4)\n",
      "(2, 5)\n",
      "(2, 6)\n",
      "(3, 4)\n",
      "(3, 5)\n",
      "(3, 6)\n"
     ]
    }
   ],
   "source": [
    "for i in 1:3, j in 4:6 # NOTE: this is equivalent to nested for loop\n",
    "    println((i, j))\n",
    "end"
   ]
  },
  {
   "cell_type": "code",
   "execution_count": 39,
   "metadata": {},
   "outputs": [
    {
     "data": {
      "text/plain": [
       "5×5 Array{Int64,2}:\n",
       " 2  3  4  5   6\n",
       " 3  4  5  6   7\n",
       " 4  5  6  7   8\n",
       " 5  6  7  8   9\n",
       " 6  7  8  9  10"
      ]
     },
     "execution_count": 39,
     "metadata": {},
     "output_type": "execute_result"
    }
   ],
   "source": [
    "# now, \"array\" comprehension\n",
    "C = [i + j for i in 1:5, j in 1:5]"
   ]
  },
  {
   "cell_type": "code",
   "execution_count": null,
   "metadata": {},
   "outputs": [],
   "source": []
  }
 ],
 "metadata": {
  "kernelspec": {
   "display_name": "Julia 1.0.0",
   "language": "julia",
   "name": "julia-1.0"
  },
  "language_info": {
   "file_extension": ".jl",
   "mimetype": "application/julia",
   "name": "julia",
   "version": "1.0.0"
  }
 },
 "nbformat": 4,
 "nbformat_minor": 2
}
