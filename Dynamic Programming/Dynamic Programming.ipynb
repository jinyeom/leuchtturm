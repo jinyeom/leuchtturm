{
 "cells": [
  {
   "cell_type": "markdown",
   "metadata": {},
   "source": [
    "<img src=\"images/algorithms.png\" align=right width=50%></img>\n",
    "# Dynamic Programming\n",
    "Author: Jin Yeom (jinyeom@utexas.edu)\n",
    "\n",
    "## Contents\n",
    "- [Search](#Search)\n",
    "- [Sort](#Sort)\n",
    "- [Recursion](#Recursion)\n",
    "- [Dynamic programming](#Dynamic-programming)"
   ]
  },
  {
   "cell_type": "markdown",
   "metadata": {},
   "source": [
    "Now that the job interview season is back, I couldn't help but to make another notebook for reviewing the most basic knowledge in computer science: algorithms and data structures. I could go off to HackerRank and try to solve a bunch of problems, but how could we call ourselves computer scientists, if we can't even implement these basic concepts from scratch?"
   ]
  },
  {
   "cell_type": "markdown",
   "metadata": {},
   "source": [
    "## Search"
   ]
  },
  {
   "cell_type": "markdown",
   "metadata": {},
   "source": [
    "Let's start off with some search algorithms. I think search algorithms go either of two ways: given a list, you *have to* iterate through its element one by one, or divide and conquer."
   ]
  },
  {
   "cell_type": "code",
   "execution_count": null,
   "metadata": {},
   "outputs": [],
   "source": []
  }
 ],
 "metadata": {
  "kernelspec": {
   "display_name": "Python 3",
   "language": "python",
   "name": "python3"
  },
  "language_info": {
   "codemirror_mode": {
    "name": "ipython",
    "version": 3
   },
   "file_extension": ".py",
   "mimetype": "text/x-python",
   "name": "python",
   "nbconvert_exporter": "python",
   "pygments_lexer": "ipython3",
   "version": "3.6.5"
  }
 },
 "nbformat": 4,
 "nbformat_minor": 2
}
