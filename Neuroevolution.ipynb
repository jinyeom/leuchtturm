{
 "cells": [
  {
   "cell_type": "markdown",
   "metadata": {},
   "source": [
    "# Neuroevolution\n",
    "Author: Jin Yeom (jinyeom@utexas.edu)"
   ]
  },
  {
   "cell_type": "markdown",
   "metadata": {},
   "source": [
    "Neuroevolution is a set of algorithms in which evolutionary algorithms are used to optimize neural networks. Even though evolutionary algorithms often treat the input problems as a black box (i.e., it shouldn't really matter what type of problem is being solved, let that be optimization of neural networks), there are few aspects of neuroevolution that make it a little more special."
   ]
  },
  {
   "cell_type": "markdown",
   "metadata": {},
   "source": [
    "**NUMBER OF PARAMETERS** Neural networks often have many parameters. Small networks usually have hundreds to thousands of weights to be optimized, and deep networks up to millions. Many evolutionary algorithms have been known to be not so volatile with such high number of parameters, so there have been evolutionary algorithms designed specifically for optimizing neural networks."
   ]
  },
  {
   "cell_type": "markdown",
   "metadata": {},
   "source": [
    "**DEPENDENCIES AMONG PARAMETER** Neural networks are machines with components that are highly dependent on each other. Even if a layer in a neural network is \"correctly\" tuned, for instance, if the next layer isn't, the whole network is destined to malfunction. This property makes the conventional crossover operator (one-point, two-point) less justifiable."
   ]
  },
  {
   "cell_type": "markdown",
   "metadata": {},
   "source": [
    "**TOPOLOGY MATTERS** Optimization of neural networks doesn't only involve the connection weights, but also their topologies, as they were repeatedly proven to be essential to their performance. This applies to not only neuron-level topologies, but also layer-level topologies of deep neural networks."
   ]
  },
  {
   "cell_type": "markdown",
   "metadata": {},
   "source": [
    "Most neuroevolution algorithms are specifically designed with these properties of neural networks in mind. In this notebook, we're going to explore some of such algorithms."
   ]
  },
  {
   "cell_type": "code",
   "execution_count": 6,
   "metadata": {
    "collapsed": true
   },
   "outputs": [],
   "source": [
    "from typing import Sequence, Mapping\n",
    "\n",
    "import numpy as np"
   ]
  },
  {
   "cell_type": "markdown",
   "metadata": {},
   "source": [
    "## Conventional Neuroevolution (CNE)"
   ]
  },
  {
   "cell_type": "markdown",
   "metadata": {},
   "source": [
    "![linear_softmax](images/neuroevolution.png)"
   ]
  },
  {
   "cell_type": "code",
   "execution_count": 8,
   "metadata": {
    "collapsed": true
   },
   "outputs": [],
   "source": [
    "class GeneralNN(object):\n",
    "    def __init__(self, arch: Mapping[int, Sequence[int]]):\n",
    "        self.arch = arch\n",
    "        self.synapses = dict() # (src, dst): weight\n",
    "        self.signals = dict() # neuron: signal\n",
    "        \n",
    "    def connect(self, src, dst, weight):\n",
    "        if src not in self.arch[dst]:\n",
    "            raise ValueError(\"no synapse between {} and {}\".format(src, dst))\n",
    "        self.synapses[(src, dst)] = weight\n",
    "        \n",
    "    def forward(self):\n",
    "        raise NotImplementedError"
   ]
  },
  {
   "cell_type": "code",
   "execution_count": 9,
   "metadata": {},
   "outputs": [],
   "source": [
    "def decode(genome: Sequence[float]) -> GeneralNN:\n",
    "    raise NotImplementedError"
   ]
  },
  {
   "cell_type": "markdown",
   "metadata": {},
   "source": [
    "## Symbiotic Adaptive NeuroEvolution (SANE)"
   ]
  },
  {
   "cell_type": "markdown",
   "metadata": {},
   "source": [
    "coming soon..."
   ]
  },
  {
   "cell_type": "markdown",
   "metadata": {},
   "source": [
    "## Enforced SubPopulation (ESP)"
   ]
  },
  {
   "cell_type": "markdown",
   "metadata": {},
   "source": [
    "coming soon..."
   ]
  },
  {
   "cell_type": "markdown",
   "metadata": {},
   "source": [
    "## Cooperative Synapse NeuroEvolution (CoSyNE)"
   ]
  },
  {
   "cell_type": "markdown",
   "metadata": {},
   "source": [
    "coming soon..."
   ]
  },
  {
   "cell_type": "markdown",
   "metadata": {},
   "source": [
    "## NeuroEvolution of Augmenting Topologies (NEAT)"
   ]
  },
  {
   "cell_type": "markdown",
   "metadata": {},
   "source": [
    "coming soon..."
   ]
  },
  {
   "cell_type": "markdown",
   "metadata": {},
   "source": [
    "## Compositional Pattern Producing Networks (CPPN)"
   ]
  },
  {
   "cell_type": "markdown",
   "metadata": {},
   "source": [
    "coming soon..."
   ]
  },
  {
   "cell_type": "markdown",
   "metadata": {},
   "source": [
    "## Hypercube-based NeuroEvolution of Augmenting Topologies (HyperNEAT)"
   ]
  },
  {
   "cell_type": "markdown",
   "metadata": {},
   "source": [
    "coming soon..."
   ]
  },
  {
   "cell_type": "markdown",
   "metadata": {},
   "source": [
    "## CoDeepNEAT"
   ]
  },
  {
   "cell_type": "markdown",
   "metadata": {},
   "source": [
    "coming soon..."
   ]
  },
  {
   "cell_type": "markdown",
   "metadata": {},
   "source": [
    "## Novelty Search"
   ]
  },
  {
   "cell_type": "markdown",
   "metadata": {},
   "source": [
    "coming soon..."
   ]
  },
  {
   "cell_type": "markdown",
   "metadata": {},
   "source": [
    "## Deep Neuroevolution (Deep GA)"
   ]
  },
  {
   "cell_type": "markdown",
   "metadata": {},
   "source": [
    "coming soon..."
   ]
  }
 ],
 "metadata": {
  "kernelspec": {
   "display_name": "Python 3",
   "language": "python",
   "name": "python3"
  },
  "language_info": {
   "codemirror_mode": {
    "name": "ipython",
    "version": 3
   },
   "file_extension": ".py",
   "mimetype": "text/x-python",
   "name": "python",
   "nbconvert_exporter": "python",
   "pygments_lexer": "ipython3",
   "version": "3.6.3"
  }
 },
 "nbformat": 4,
 "nbformat_minor": 2
}
