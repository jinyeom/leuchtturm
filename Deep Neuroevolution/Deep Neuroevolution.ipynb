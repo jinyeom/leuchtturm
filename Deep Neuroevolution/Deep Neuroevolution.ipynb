{
 "cells": [
  {
   "cell_type": "markdown",
   "metadata": {},
   "source": [
    "<img src=\"images/deep_ga.png\" align=right width=50%></img>\n",
    "# Deep Neuroevolution\n",
    "Author: Jin Yeom (jinyeom@utexas.edu)\n",
    "\n",
    "## Contents\n",
    "- [Configuration](#Configuration)\n",
    "- [Genotype](#Genotype)\n",
    "- [Phenotype](#Phenotype)"
   ]
  },
  {
   "cell_type": "code",
   "execution_count": 14,
   "metadata": {},
   "outputs": [],
   "source": [
    "import random\n",
    "from copy import deepcopy\n",
    "\n",
    "import torch\n",
    "from torch import nn\n",
    "from torch.nn import functional as F\n",
    "from torchsummary import summary"
   ]
  },
  {
   "cell_type": "markdown",
   "metadata": {},
   "source": [
    "## Configuration"
   ]
  },
  {
   "cell_type": "code",
   "execution_count": 30,
   "metadata": {},
   "outputs": [
    {
     "name": "stdout",
     "output_type": "stream",
     "text": [
      "device = cpu\n"
     ]
    }
   ],
   "source": [
    "device = torch.device(\"cuda\" if torch.cuda.is_available() else \"cpu\")\n",
    "print(\"device =\", device)"
   ]
  },
  {
   "cell_type": "code",
   "execution_count": 9,
   "metadata": {},
   "outputs": [],
   "source": [
    "SIGMA = 0.005"
   ]
  },
  {
   "cell_type": "markdown",
   "metadata": {},
   "source": [
    "## Genotype"
   ]
  },
  {
   "cell_type": "code",
   "execution_count": 2,
   "metadata": {},
   "outputs": [],
   "source": [
    "def rand_seed():\n",
    "    return random.randint(0, 2**31-1)"
   ]
  },
  {
   "cell_type": "code",
   "execution_count": 4,
   "metadata": {},
   "outputs": [],
   "source": [
    "class Genotype(object):\n",
    "    def __init__(self):\n",
    "        self._seeds = [rand_seed()]\n",
    "        \n",
    "    @property\n",
    "    def seeds(self):\n",
    "        return self._seeds\n",
    "        \n",
    "    def mutate(self):\n",
    "        self._seeds.append(rand_seed())\n",
    "        \n",
    "    def crossover(self, other):\n",
    "        # TODO: experiment with one-point/two-point crossover later\n",
    "        raise NotImplementedError"
   ]
  },
  {
   "cell_type": "code",
   "execution_count": 11,
   "metadata": {},
   "outputs": [
    {
     "name": "stdout",
     "output_type": "stream",
     "text": [
      "Initially...\n",
      "g.seeds = [100697675]\n",
      "After mutations...\n",
      "g.seeds = [100697675, 2068154422, 1873692604, 1110660976, 1354455261, 1702619479, 783287689, 1264158678, 510246554, 295117216, 1905590102]\n"
     ]
    }
   ],
   "source": [
    "g = Genotype()\n",
    "print(\"Initially...\")\n",
    "print(\"g.seeds =\", g.seeds)\n",
    "\n",
    "for _ in range(10):\n",
    "    g.mutate()\n",
    "\n",
    "print(\"After mutations...\")\n",
    "print(\"g.seeds =\", g.seeds)"
   ]
  },
  {
   "cell_type": "code",
   "execution_count": 8,
   "metadata": {},
   "outputs": [],
   "source": [
    "def decode(genome, tmpl_model, sigma):\n",
    "    model = deepcopy(tmpl_model)\n",
    "    for seed in genome.seeds:\n",
    "        # NOTE: in the paper, the first seed is used for initialization,\n",
    "        # but in such case, every individual in the first generation is\n",
    "        # initialized around zero; we probably don't want that.\n",
    "        #\n",
    "        # Instead, we're going to assume that all individuals are already\n",
    "        # initialized with a better initialization method, e.g., Xavier.\n",
    "        torch.manual_seed(seed)\n",
    "        for param in model.parameters():\n",
    "            param.data.add_(torch.randn_like(param) * sigma)\n",
    "    return model"
   ]
  },
  {
   "cell_type": "markdown",
   "metadata": {},
   "source": [
    "Ooh, looks like we're going to have to implement the phenotype before testing `deocde`."
   ]
  },
  {
   "cell_type": "markdown",
   "metadata": {},
   "source": [
    "## Phenotype"
   ]
  },
  {
   "cell_type": "code",
   "execution_count": 13,
   "metadata": {},
   "outputs": [],
   "source": [
    "class NatureDQN(nn.Module):\n",
    "    def __init__(self, in_channels=4, act_dim=18):\n",
    "        super(NatureDQN, self).__init__()\n",
    "        self.conv1 = nn.Conv2d(in_channels, 32, kernel_size=8, stride=4)\n",
    "        torch.nn.init.xavier_uniform(self.conv1.weight)\n",
    "        self.conv2 = nn.Conv2d(32, 64, kernel_size=4, stride=2)\n",
    "        torch.nn.init.xavier_uniform(self.conv2.weight)\n",
    "        self.conv3 = nn.Conv2d(64, 64, kernel_size=3, stride=1)\n",
    "        torch.nn.init.xavier_uniform(self.conv3.weight)\n",
    "        self.fc4 = nn.Linear(7 * 7 * 64, 512)\n",
    "        torch.nn.init.xavier_uniform(self.fc4.weight)\n",
    "        self.fc5 = nn.Linear(512, act_dim)\n",
    "        torch.nn.init.xavier_uniform(self.fc5.weight)\n",
    "        \n",
    "    def forward(self, x):\n",
    "        x = F.relu(self.conv1(x))\n",
    "        x = F.relu(self.conv2(x))\n",
    "        x = F.relu(self.conv3(x))\n",
    "        x = x.view(x.size(0), -1)\n",
    "        x = F.relu(self.fc4(x))\n",
    "        return self.fc5(x)"
   ]
  },
  {
   "cell_type": "code",
   "execution_count": 15,
   "metadata": {},
   "outputs": [
    {
     "name": "stdout",
     "output_type": "stream",
     "text": [
      "----------------------------------------------------------------\n",
      "        Layer (type)               Output Shape         Param #\n",
      "================================================================\n",
      "            Conv2d-1           [-1, 32, 20, 20]           8,224\n",
      "            Conv2d-2             [-1, 64, 9, 9]          32,832\n",
      "            Conv2d-3             [-1, 64, 7, 7]          36,928\n",
      "            Linear-4                  [-1, 512]       1,606,144\n",
      "            Linear-5                   [-1, 18]           9,234\n",
      "================================================================\n",
      "Total params: 1,693,362\n",
      "Trainable params: 1,693,362\n",
      "Non-trainable params: 0\n",
      "----------------------------------------------------------------\n",
      "Input size (MB): 0.11\n",
      "Forward/backward pass size (MB): 0.17\n",
      "Params size (MB): 6.46\n",
      "Estimated Total Size (MB): 6.73\n",
      "----------------------------------------------------------------\n"
     ]
    }
   ],
   "source": [
    "summary(NatureDQN().to(DEVICE), (4, 84, 84))"
   ]
  }
 ],
 "metadata": {
  "kernelspec": {
   "display_name": "research",
   "language": "python",
   "name": "research"
  },
  "language_info": {
   "codemirror_mode": {
    "name": "ipython",
    "version": 3
   },
   "file_extension": ".py",
   "mimetype": "text/x-python",
   "name": "python",
   "nbconvert_exporter": "python",
   "pygments_lexer": "ipython3",
   "version": "3.6.6"
  }
 },
 "nbformat": 4,
 "nbformat_minor": 2
}
