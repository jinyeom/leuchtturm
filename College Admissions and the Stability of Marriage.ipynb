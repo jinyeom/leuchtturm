{
 "cells": [
  {
   "cell_type": "markdown",
   "metadata": {},
   "source": [
    "# College Admissions and the Stability of Marriage\n",
    "\n",
    "Author: Jin Yeom (jinyeom@utexas.edu)\n",
    "\n",
    "In this notebook, we'll solve a little problem my girlfriend's sorority is having: matching new littles and bigs. Fortunately, the same problem has been solved long time ago by mathematicians named David Gale and Lloyd Shapley. They called this problem the **stable marriage problem**, or the **college admissions problem** for more general cases."
   ]
  },
  {
   "cell_type": "markdown",
   "metadata": {},
   "source": [
    "## Stable Marriage Problem\n",
    "*Given n men and n women, where each person has ranked all members of the opposite sex in order of preference, marry the men and women together such that there are no two people of opposite sex who would both rather have each other than their current partners. When there are no such pairs of people, the set of marriages is deemed stable.*"
   ]
  },
  {
   "cell_type": "code",
   "execution_count": 71,
   "metadata": {},
   "outputs": [],
   "source": [
    "# Example from https://en.wikipedia.org/wiki/Stable_marriage_problem\n",
    "# The preferences are modified to make the problem a little more challenging.\n",
    "suiters = [\"A\", \"B\", \"C\"]\n",
    "reviewers = [\"X\", \"Y\", \"Z\"]\n",
    "preferences = {\n",
    "    \"A\": [\"Y\", \"X\", \"Z\"],\n",
    "    \"B\": [\"Y\", \"Z\", \"X\"],\n",
    "    \"C\": [\"X\", \"Z\", \"Y\"],\n",
    "    \"X\": [\"B\", \"A\", \"C\"],\n",
    "    \"Y\": [\"C\", \"B\", \"A\"],\n",
    "    \"Z\": [\"C\", \"A\", \"B\"],\n",
    "}"
   ]
  },
  {
   "cell_type": "code",
   "execution_count": 72,
   "metadata": {},
   "outputs": [
    {
     "name": "stdout",
     "output_type": "stream",
     "text": [
      "[('A', 'X'), ('B', 'Y'), ('C', 'Z')]\n"
     ]
    }
   ],
   "source": [
    "from copy import deepcopy\n",
    "\n",
    "def gale_shapley(A, B, preferences):\n",
    "    preferences_ = deepcopy(preferences)\n",
    "    matches = [False for _ in range(len(B))]\n",
    "    while False in matches:\n",
    "        a = A[matches.index(False)]\n",
    "        b = preferences_[a][0]\n",
    "        # If b has no match, match it with the current a.\n",
    "        if b not in matches:\n",
    "            matches[A.index(a)] = b\n",
    "        # Otherwise, check if a is more preferable for b than its current match. \n",
    "        # Replace with a if so, continue otherwise.\n",
    "        else:\n",
    "            a_ = A[matches.index(b)]\n",
    "            if preferences_[b].index(a) < preferences_[b].index(a_):\n",
    "                matches[A.index(a_)] = False\n",
    "                matches[A.index(a)] = b\n",
    "        del preferences_[a][0]\n",
    "    return [(a, b) for a, b in zip(A, matches)]\n",
    "\n",
    "print(gale_shapley(suiters, reviewers, preferences))"
   ]
  },
  {
   "cell_type": "markdown",
   "metadata": {},
   "source": [
    "Now, let's test the algorithm with a larger problem size."
   ]
  },
  {
   "cell_type": "code",
   "execution_count": 73,
   "metadata": {},
   "outputs": [
    {
     "name": "stdout",
     "output_type": "stream",
     "text": [
      "{'Lynwood': ['Chloe', 'Reanna', 'Brooke', 'Shandra', 'Marilynn', 'Karrie', 'Terrie', 'Rubi', 'Jacquiline', 'Raisa'], 'Rudolph': ['Karrie', 'Rubi', 'Reanna', 'Raisa', 'Brooke', 'Jacquiline', 'Chloe', 'Terrie', 'Marilynn', 'Shandra'], 'Gail': ['Rubi', 'Jacquiline', 'Shandra', 'Terrie', 'Brooke', 'Reanna', 'Karrie', 'Chloe', 'Raisa', 'Marilynn'], 'Dustin': ['Karrie', 'Terrie', 'Raisa', 'Chloe', 'Reanna', 'Jacquiline', 'Rubi', 'Brooke', 'Marilynn', 'Shandra'], 'Claud': ['Karrie', 'Marilynn', 'Brooke', 'Jacquiline', 'Shandra', 'Chloe', 'Reanna', 'Raisa', 'Terrie', 'Rubi'], 'Abe': ['Reanna', 'Terrie', 'Rubi', 'Karrie', 'Jacquiline', 'Shandra', 'Brooke', 'Marilynn', 'Chloe', 'Raisa'], 'Mathew': ['Marilynn', 'Rubi', 'Karrie', 'Jacquiline', 'Chloe', 'Brooke', 'Shandra', 'Raisa', 'Reanna', 'Terrie'], 'Delbert': ['Brooke', 'Karrie', 'Terrie', 'Chloe', 'Shandra', 'Jacquiline', 'Marilynn', 'Rubi', 'Raisa', 'Reanna'], 'Gregorio': ['Karrie', 'Rubi', 'Brooke', 'Shandra', 'Raisa', 'Reanna', 'Chloe', 'Terrie', 'Jacquiline', 'Marilynn'], 'Alonzo': ['Raisa', 'Terrie', 'Marilynn', 'Chloe', 'Karrie', 'Reanna', 'Rubi', 'Jacquiline', 'Brooke', 'Shandra'], 'Brooke': ['Delbert', 'Lynwood', 'Dustin', 'Abe', 'Alonzo', 'Gregorio', 'Claud', 'Gail', 'Mathew', 'Rudolph'], 'Reanna': ['Gail', 'Dustin', 'Lynwood', 'Abe', 'Delbert', 'Rudolph', 'Gregorio', 'Alonzo', 'Mathew', 'Claud'], 'Jacquiline': ['Rudolph', 'Claud', 'Gregorio', 'Dustin', 'Abe', 'Lynwood', 'Alonzo', 'Mathew', 'Delbert', 'Gail'], 'Marilynn': ['Gregorio', 'Dustin', 'Alonzo', 'Gail', 'Rudolph', 'Delbert', 'Claud', 'Mathew', 'Lynwood', 'Abe'], 'Rubi': ['Rudolph', 'Mathew', 'Delbert', 'Gail', 'Dustin', 'Alonzo', 'Gregorio', 'Claud', 'Abe', 'Lynwood'], 'Terrie': ['Dustin', 'Claud', 'Lynwood', 'Abe', 'Delbert', 'Gregorio', 'Mathew', 'Rudolph', 'Gail', 'Alonzo'], 'Shandra': ['Dustin', 'Alonzo', 'Delbert', 'Lynwood', 'Mathew', 'Gail', 'Rudolph', 'Claud', 'Gregorio', 'Abe'], 'Raisa': ['Claud', 'Alonzo', 'Rudolph', 'Gregorio', 'Gail', 'Mathew', 'Delbert', 'Dustin', 'Lynwood', 'Abe'], 'Karrie': ['Gregorio', 'Rudolph', 'Mathew', 'Gail', 'Alonzo', 'Abe', 'Lynwood', 'Claud', 'Dustin', 'Delbert'], 'Chloe': ['Abe', 'Gregorio', 'Mathew', 'Gail', 'Lynwood', 'Claud', 'Dustin', 'Delbert', 'Alonzo', 'Rudolph']}\n"
     ]
    }
   ],
   "source": [
    "import random\n",
    "\n",
    "suiters = [\"Lynwood\", \"Rudolph\", \"Gail\", \"Dustin\", \"Claud\",\n",
    "           \"Abe\", \"Mathew\", \"Delbert\", \"Gregorio\", \"Alonzo\"]\n",
    "reviewers = [\"Brooke\", \"Reanna\", \"Jacquiline\", \"Marilynn\", \"Rubi\", \n",
    "             \"Terrie\", \"Shandra\", \"Raisa\", \"Karrie\", \"Chloe\"]\n",
    "preferences = dict([(s, random.sample(reviewers, len(reviewers))) for s in suiters] +\n",
    "                   [(r, random.sample(suiters, len(suiters))) for r in reviewers])\n",
    "\n",
    "print(preferences)"
   ]
  },
  {
   "cell_type": "code",
   "execution_count": 74,
   "metadata": {},
   "outputs": [
    {
     "name": "stdout",
     "output_type": "stream",
     "text": [
      "[('Lynwood', 'Chloe'), ('Rudolph', 'Rubi'), ('Gail', 'Shandra'), ('Dustin', 'Terrie'), ('Claud', 'Marilynn'), ('Abe', 'Reanna'), ('Mathew', 'Jacquiline'), ('Delbert', 'Brooke'), ('Gregorio', 'Karrie'), ('Alonzo', 'Raisa')]\n"
     ]
    }
   ],
   "source": [
    "print(gale_shapley(suiters, reviewers, preferences))"
   ]
  },
  {
   "cell_type": "markdown",
   "metadata": {},
   "source": [
    "## College Admissions Problem"
   ]
  }
 ],
 "metadata": {
  "kernelspec": {
   "display_name": "Python [default]",
   "language": "python",
   "name": "python3"
  },
  "language_info": {
   "codemirror_mode": {
    "name": "ipython",
    "version": 3
   },
   "file_extension": ".py",
   "mimetype": "text/x-python",
   "name": "python",
   "nbconvert_exporter": "python",
   "pygments_lexer": "ipython3",
   "version": "3.6.5"
  }
 },
 "nbformat": 4,
 "nbformat_minor": 2
}
