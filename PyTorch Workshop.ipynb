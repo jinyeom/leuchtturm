{
 "cells": [
  {
   "cell_type": "markdown",
   "metadata": {},
   "source": [
    "# PyTorch Workshop\n",
    "Author: Jin Yeom (jinyeom@utexas.edu)"
   ]
  },
  {
   "cell_type": "code",
   "execution_count": 3,
   "metadata": {
    "collapsed": true
   },
   "outputs": [],
   "source": [
    "import numpy as np\n",
    "from matplotlib import pyplot as plt\n",
    "%matplotlib inline"
   ]
  },
  {
   "cell_type": "markdown",
   "metadata": {},
   "source": [
    "![pytorch](images/pytorch.png)"
   ]
  },
  {
   "cell_type": "markdown",
   "metadata": {},
   "source": [
    "**[PyTorch](https://pytorch.org/)** is an open source machine learning library for Python, developed by Facebook. Its stengths include,\n",
    "- generally faster and more intuitive than TensorFlow\n",
    "- well integrated with Python and easy to debug\n",
    "- dynamic computational graph, which makes it more suitable for recurrent models and reinforcement learning"
   ]
  },
  {
   "cell_type": "code",
   "execution_count": 4,
   "metadata": {
    "collapsed": true
   },
   "outputs": [],
   "source": [
    "import torch\n",
    "import torchvision\n",
    "from torchvision import transforms\n",
    "from torchvision import datasets"
   ]
  },
  {
   "cell_type": "markdown",
   "metadata": {},
   "source": [
    "## Basic tensor operations"
   ]
  },
  {
   "cell_type": "code",
   "execution_count": 5,
   "metadata": {},
   "outputs": [
    {
     "name": "stdout",
     "output_type": "stream",
     "text": [
      "tensor([[ 0.,  0.,  0.],\n",
      "        [ 0.,  0.,  0.]])\n"
     ]
    }
   ],
   "source": [
    "A = torch.zeros((2, 3))\n",
    "print(A)"
   ]
  },
  {
   "cell_type": "code",
   "execution_count": 6,
   "metadata": {},
   "outputs": [
    {
     "name": "stdout",
     "output_type": "stream",
     "text": [
      "tensor([[ 1.,  1.,  1.],\n",
      "        [ 1.,  1.,  1.]])\n"
     ]
    }
   ],
   "source": [
    "B = torch.ones_like(A)\n",
    "print(B)"
   ]
  },
  {
   "cell_type": "code",
   "execution_count": 7,
   "metadata": {},
   "outputs": [
    {
     "name": "stdout",
     "output_type": "stream",
     "text": [
      "tensor([[ 5.,  5.,  5.],\n",
      "        [ 5.,  5.,  5.]])\n"
     ]
    }
   ],
   "source": [
    "C = torch.full_like(B, 5)\n",
    "print(C)"
   ]
  },
  {
   "cell_type": "code",
   "execution_count": 8,
   "metadata": {},
   "outputs": [
    {
     "name": "stdout",
     "output_type": "stream",
     "text": [
      "tensor([[ 0.,  0.,  0.],\n",
      "        [ 0.,  0.,  0.],\n",
      "        [ 1.,  1.,  1.],\n",
      "        [ 1.,  1.,  1.],\n",
      "        [ 5.,  5.,  5.],\n",
      "        [ 5.,  5.,  5.]])\n"
     ]
    }
   ],
   "source": [
    "D = torch.cat([A, B, C], dim=0)\n",
    "print(D)"
   ]
  },
  {
   "cell_type": "code",
   "execution_count": 9,
   "metadata": {},
   "outputs": [
    {
     "name": "stdout",
     "output_type": "stream",
     "text": [
      "torch.Size([6, 3])\n",
      "tensor([[ 0.,  0.,  0.,  0.,  0.,  0.,  1.,  1.,  1.],\n",
      "        [ 1.,  1.,  1.,  5.,  5.,  5.,  5.,  5.,  5.]])\n"
     ]
    }
   ],
   "source": [
    "print(D.shape)\n",
    "E = torch.reshape(D, (2, 9))\n",
    "print(E)"
   ]
  },
  {
   "cell_type": "code",
   "execution_count": 10,
   "metadata": {},
   "outputs": [
    {
     "name": "stdout",
     "output_type": "stream",
     "text": [
      "tensor([[ 0.,  1.],\n",
      "        [ 0.,  1.],\n",
      "        [ 0.,  1.],\n",
      "        [ 0.,  5.],\n",
      "        [ 0.,  5.],\n",
      "        [ 0.,  5.],\n",
      "        [ 1.,  5.],\n",
      "        [ 1.,  5.],\n",
      "        [ 1.,  5.]])\n"
     ]
    }
   ],
   "source": [
    "# NOTE: torch.t can be used for 2D matrices, but, torch.transpose\n",
    "# provides a more general functionality, which can be used for any\n",
    "# numbers of dimensions.\n",
    "E_t = torch.transpose(E, 0, 1)\n",
    "print(E_t)"
   ]
  },
  {
   "cell_type": "markdown",
   "metadata": {},
   "source": [
    "## Neural Networks"
   ]
  },
  {
   "cell_type": "code",
   "execution_count": 11,
   "metadata": {},
   "outputs": [],
   "source": [
    "class TwoLayerFullyConnected(torch.nn.Module):\n",
    "    def __init__(self, in_dim, hid_dim, out_dim):\n",
    "        super(TwoLayerFullyConnected, self).__init__()\n",
    "        self.model = torch.nn.Sequential(\n",
    "            torch.nn.Linear(in_dim, hid_dim),\n",
    "            torch.nn.ReLU(),\n",
    "            torch.nn.Linear(hid_dim, out_dim),\n",
    "            torch.nn.Softmax(out_dim))\n",
    "        \n",
    "    def forward(self, x):\n",
    "        return self.model.forward(x)"
   ]
  },
  {
   "cell_type": "code",
   "execution_count": 43,
   "metadata": {},
   "outputs": [],
   "source": [
    "transform = transforms.Compose([transforms.ToTensor(),\n",
    "                                transforms.Normalize((0.5, 0.5, 0.5), (0.5, 0.5, 0.5))])\n",
    "\n",
    "mnist_train = datasets.MNIST(\"./datasets/mnist\", \n",
    "                             train=True, \n",
    "                             transform=transform, \n",
    "                             download=True)\n",
    "train_loader = torch.utils.data.DataLoader(mnist_train, \n",
    "                                           batch_size=4, \n",
    "                                           shuffle=True, \n",
    "                                           num_workers=2)\n",
    "\n",
    "mnist_test = datasets.MNIST(\"./datasets/mnist\", \n",
    "                            train=False, \n",
    "                            transform=transform, \n",
    "                            download=True)\n",
    "test_loader = torch.utils.data.DataLoader(mnist_test, \n",
    "                                          batch_size=4, \n",
    "                                          shuffle=False, \n",
    "                                          num_workers=2)"
   ]
  },
  {
   "cell_type": "code",
   "execution_count": 44,
   "metadata": {},
   "outputs": [
    {
     "name": "stdout",
     "output_type": "stream",
     "text": [
      "datasets/mnist/raw:\n",
      "t10k-images-idx3-ubyte\ttrain-images-idx3-ubyte\n",
      "t10k-labels-idx1-ubyte\ttrain-labels-idx1-ubyte\n",
      "datasets/mnist/processed:\n",
      "test.pt  training.pt\n"
     ]
    }
   ],
   "source": [
    "print(\"datasets/mnist/raw:\")\n",
    "!ls datasets/mnist/raw\n",
    "print(\"datasets/mnist/processed:\")\n",
    "!ls datasets/mnist/processed"
   ]
  },
  {
   "cell_type": "code",
   "execution_count": 65,
   "metadata": {
    "collapsed": true
   },
   "outputs": [],
   "source": [
    "def imshow(img):\n",
    "    img = img / 2 + 0.5\n",
    "    npimg = img.numpy()\n",
    "    plt.imshow(np.transpose(npimg, (1, 2, 0)))\n",
    "    plt.axis(\"off\")"
   ]
  },
  {
   "cell_type": "code",
   "execution_count": 68,
   "metadata": {},
   "outputs": [
    {
     "data": {
      "image/png": "[encoded data removed]",
      "text/plain": [
       "<matplotlib.figure.Figure at 0x7f3fd8e8de48>"
      ]
     },
     "metadata": {},
     "output_type": "display_data"
    }
   ],
   "source": [
    "train_iter = iter(train_loader)\n",
    "images, labels = train_iter.next()\n",
    "imshow(torchvision.utils.make_grid(images))"
   ]
  }
 ],
 "metadata": {
  "kernelspec": {
   "display_name": "Python (research)",
   "language": "python",
   "name": "research"
  },
  "language_info": {
   "codemirror_mode": {
    "name": "ipython",
    "version": 3
   },
   "file_extension": ".py",
   "mimetype": "text/x-python",
   "name": "python",
   "nbconvert_exporter": "python",
   "pygments_lexer": "ipython3",
   "version": "3.5.4"
  }
 },
 "nbformat": 4,
 "nbformat_minor": 2
}
