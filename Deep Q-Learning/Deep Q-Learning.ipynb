{
 "cells": [
  {
   "cell_type": "markdown",
   "metadata": {},
   "source": [
    "<img src=\"images/dqn.jpg\" align=right width=25%></img>\n",
    "# Deep Q-Learning\n",
    "Author: Jin Yeom (jinyeom@utexas.edu)\n",
    "\n",
    "## Contents\n",
    "- [Configuration](#Configuration)\n",
    "- [Environment](#Environment)\n",
    "- [Replay memory](#Replay-memory)\n",
    "- [Deep Q-network](#Deep-Q-network)\n",
    "- [Training loop](#Training-loop)"
   ]
  },
  {
   "cell_type": "markdown",
   "metadata": {},
   "source": [
    "This notebook is PyTorch implementation of Deep Q-Learning based on [this tutorial](https://pytorch.org/tutorials/intermediate/reinforcement_q_learning.html)."
   ]
  },
  {
   "cell_type": "code",
   "execution_count": 101,
   "metadata": {},
   "outputs": [],
   "source": [
    "from collections import namedtuple\n",
    "\n",
    "import numpy as np\n",
    "from matplotlib import pyplot as plt\n",
    "from PIL import Image\n",
    "import gym\n",
    "from gym import ObservationWrapper\n",
    "from gym.spaces.box import Box\n",
    "import torch\n",
    "from torch import nn\n",
    "from torch import optim\n",
    "from torch import distributions\n",
    "from torch.nn import functional as F\n",
    "from torchvision import transforms\n",
    "from torchsummary import summary\n",
    "from baselines.common import atari_wrappers\n",
    "from tqdm import tqdm_notebook as tqdm\n",
    "from IPython import display"
   ]
  },
  {
   "cell_type": "markdown",
   "metadata": {},
   "source": [
    "## Configuration"
   ]
  },
  {
   "cell_type": "code",
   "execution_count": 102,
   "metadata": {},
   "outputs": [],
   "source": [
    "# random seed\n",
    "SEED = 42\n",
    "# OpenAI Gym environment name\n",
    "ENV_NAME = \"SpaceInvadersNoFrameskip-v4\"\n",
    "# stack size for Q-network input (input channels)\n",
    "STACK_SIZE = 4\n",
    "# screen size for the Q-network input\n",
    "OBS_SIZE = 84\n",
    "# batch sample size for training\n",
    "BATCH_SIZE = 128\n",
    "# discount factor (gamma)\n",
    "GAMMA = 0.999\n",
    "# start value of Gumbel-softmax temperature\n",
    "TAU_INIT = 1.0\n",
    "# annealing rate of Gumbel-softmax temperature\n",
    "TAU_ANNEAL_RATE = 0.00003\n",
    "# minimum value of Gumbel-softmax temperature\n",
    "TAU_MIN = 0.5\n",
    "# update rate of target network\n",
    "TARGET_UPDATE = 10\n",
    "# replay memory size\n",
    "MEMORY_SIZE = 10000\n",
    "# number of episodes of training\n",
    "N_EPS = 100\n",
    "# maximum number of iterations during an episode\n",
    "N_ITERS = 10000"
   ]
  },
  {
   "cell_type": "code",
   "execution_count": 28,
   "metadata": {},
   "outputs": [
    {
     "name": "stdout",
     "output_type": "stream",
     "text": [
      "device: cuda\n"
     ]
    }
   ],
   "source": [
    "DEVICE = torch.device(\"cuda\" if torch.cuda.is_available() else \"cpu\")\n",
    "print(\"device:\", DEVICE)"
   ]
  },
  {
   "cell_type": "markdown",
   "metadata": {},
   "source": [
    "## Environment"
   ]
  },
  {
   "cell_type": "markdown",
   "metadata": {},
   "source": [
    "This section includes some preprocessing of observations from the Atari environment. This could have been very tedious, but [OpenAI's baseline implementation](https://github.com/openai/baselines/blob/master/baselines/common/atari_wrappers.py) already provides preprocessing code for Atari environments. Thanks, OpenAI!"
   ]
  },
  {
   "cell_type": "code",
   "execution_count": 44,
   "metadata": {},
   "outputs": [],
   "source": [
    "class TorchWrapper(ObservationWrapper):\n",
    "    r\"\"\"ObservationWrapper that outputs torch.Tensor observation with the shape of (channels, height, width).\n",
    "    NOTE: adopted from https://github.com/ikostrikov/pytorch-a2c-ppo-acktr.\n",
    "    \"\"\"\n",
    "    def __init__(self, env=None):\n",
    "        super(TorchWrapper, self).__init__(env)\n",
    "        obs_shape = self.observation_space.shape\n",
    "        self.observation_space = Box(self.observation_space.low[0, 0, 0],\n",
    "                                     self.observation_space.high[0, 0, 0],\n",
    "                                     [obs_shape[2], obs_shape[1], obs_shape[0]],\n",
    "                                     dtype=self.observation_space.dtype)\n",
    "\n",
    "    def observation(self, x):\n",
    "        x = x.transpose(2, 0, 1)\n",
    "        return torch.tensor(x, dtype=torch.float, device=DEVICE)"
   ]
  },
  {
   "cell_type": "code",
   "execution_count": 45,
   "metadata": {},
   "outputs": [],
   "source": [
    "def render(state, obs_mean):\n",
    "    display.clear_output(wait=True)\n",
    "    fig, (ax1, ax2) = plt.subplots(1, 2)\n",
    "    ax1.set_title(\"State\")\n",
    "    ax1.imshow(state)\n",
    "    ax2.set_title(\"Observation (mean)\")\n",
    "    ax2.imshow(obs_mean)\n",
    "    plt.pause(0.001)"
   ]
  },
  {
   "cell_type": "code",
   "execution_count": 46,
   "metadata": {},
   "outputs": [],
   "source": [
    "def make_atari(env_id):\n",
    "    env = atari_wrappers.make_atari(env_id)\n",
    "    env = atari_wrappers.wrap_deepmind(env)\n",
    "    env = TorchWrapper(env)\n",
    "    env.seed(SEED)\n",
    "    return env"
   ]
  },
  {
   "cell_type": "markdown",
   "metadata": {},
   "source": [
    "Now, for some Jupyter magic! Let's take a look at what the agent sees."
   ]
  },
  {
   "cell_type": "code",
   "execution_count": 95,
   "metadata": {},
   "outputs": [
    {
     "data": {
      "image/png": "[encoded data removed]",
      "text/plain": [
       "<Figure size 432x288 with 2 Axes>"
      ]
     },
     "metadata": {},
     "output_type": "display_data"
    }
   ],
   "source": [
    "env = make_atari(ENV_NAME)\n",
    "stacked_frames = [env.reset() for _ in range(STACK_SIZE)]\n",
    "\n",
    "t = done = 0\n",
    "while not done:\n",
    "    if t % 10 == 0:\n",
    "        state = env.render(\"rgb_array\")\n",
    "        obs_mean = sum(stacked_frames).squeeze()\n",
    "        render(state, obs_mean)\n",
    "    action = env.action_space.sample()\n",
    "    obs, reward, done, info = env.step(action)\n",
    "    stacked_frames.pop(0)\n",
    "    stacked_frames.append(obs)\n",
    "    t += 1"
   ]
  },
  {
   "cell_type": "markdown",
   "metadata": {},
   "source": [
    "## Replay memory"
   ]
  },
  {
   "cell_type": "code",
   "execution_count": 48,
   "metadata": {},
   "outputs": [],
   "source": [
    "Transition = namedtuple(\"Transition\", (\"state\", \"action\", \"next_state\", \"reward\"))"
   ]
  },
  {
   "cell_type": "code",
   "execution_count": 49,
   "metadata": {},
   "outputs": [],
   "source": [
    "class ReplayMemory(object):\n",
    "    def __init__(self, capacity):\n",
    "        self._capacity = capacity\n",
    "        self._memory = []\n",
    "        self._position = 0\n",
    "        \n",
    "    def __len__(self):\n",
    "        return len(self._memory)\n",
    "        \n",
    "    def push(self, *args):\n",
    "        if len(self._memory) < self._capacity:\n",
    "            self._memory.append(None) # make room for later\n",
    "        self._memory[self._position] = Transition(*args)\n",
    "        # if the memory is full, start pushing the beginning\n",
    "        self._position = (self._position + 1) % self._capacity\n",
    "        \n",
    "    def sample(self, batch_size):\n",
    "        return random.sample(self._memory, batch_size)"
   ]
  },
  {
   "cell_type": "markdown",
   "metadata": {},
   "source": [
    "## Deep Q-network"
   ]
  },
  {
   "cell_type": "markdown",
   "metadata": {},
   "source": [
    "Here, we're going to build the Q-network, based on the original architecture used in [DeepMind's Nature article](https://storage.googleapis.com/deepmind-media/dqn/DQNNaturePaper.pdf)."
   ]
  },
  {
   "cell_type": "code",
   "execution_count": 50,
   "metadata": {},
   "outputs": [],
   "source": [
    "class NatureDQN(nn.Module):\n",
    "    def __init__(self, in_channels, act_dim):\n",
    "        super(NatureDQN, self).__init__()\n",
    "        self.conv1 = nn.Conv2d(in_channels, 32, kernel_size=8, stride=4)\n",
    "        self.conv2 = nn.Conv2d(32, 64, kernel_size=4, stride=2)\n",
    "        self.conv3 = nn.Conv2d(64, 64, kernel_size=3, stride=1)\n",
    "        self.fc4 = nn.Linear(7 * 7 * 64, 512)\n",
    "        self.fc5 = nn.Linear(512, act_dim)\n",
    "        \n",
    "    def forward(self, x):\n",
    "        x = F.relu(self.conv1(x))\n",
    "        x = F.relu(self.conv2(x))\n",
    "        x = F.relu(self.conv3(x))\n",
    "        x = x.view(x.size(0), -1)\n",
    "        x = F.relu(self.fc4(x))\n",
    "        return self.fc5(x)"
   ]
  },
  {
   "cell_type": "code",
   "execution_count": 99,
   "metadata": {},
   "outputs": [
    {
     "name": "stdout",
     "output_type": "stream",
     "text": [
      "----------------------------------------------------------------\n",
      "        Layer (type)               Output Shape         Param #\n",
      "================================================================\n",
      "            Conv2d-1           [-1, 32, 20, 20]           8,224\n",
      "            Conv2d-2             [-1, 64, 9, 9]          32,832\n",
      "            Conv2d-3             [-1, 64, 7, 7]          36,928\n",
      "            Linear-4                  [-1, 512]       1,606,144\n",
      "            Linear-5                    [-1, 6]           3,078\n",
      "================================================================\n",
      "Total params: 1,687,206\n",
      "Trainable params: 1,687,206\n",
      "Non-trainable params: 0\n",
      "----------------------------------------------------------------\n"
     ]
    }
   ],
   "source": [
    "act_dim = env.action_space.n\n",
    "model = NatureDQN(STACK_SIZE, act_dim).to(DEVICE)\n",
    "summary(model, (STACK_SIZE, OBS_SIZE, OBS_SIZE))"
   ]
  },
  {
   "cell_type": "code",
   "execution_count": 60,
   "metadata": {},
   "outputs": [],
   "source": [
    "def sel_action(logit, t):\n",
    "    tau = max(TAU_INIT * np.exp(-TAU_ANNEAL_RATE * t), TAU_MIN)\n",
    "    act_probs = F.gumbel_softmax(logit, tau=tau)\n",
    "    dist = distributions.Categorical(act_probs)\n",
    "    return dist.sample()"
   ]
  },
  {
   "cell_type": "code",
   "execution_count": 87,
   "metadata": {},
   "outputs": [
    {
     "name": "stdout",
     "output_type": "stream",
     "text": [
      "tensor([ 3], device='cuda:0')\n"
     ]
    }
   ],
   "source": [
    "# try getting a random action\n",
    "print(sel_action(model(torch.randn(1, 4, 84, 84).to(DEVICE)), 0))"
   ]
  },
  {
   "cell_type": "markdown",
   "metadata": {},
   "source": [
    "## Training loop"
   ]
  },
  {
   "cell_type": "code",
   "execution_count": 103,
   "metadata": {},
   "outputs": [],
   "source": [
    "def update(policy_net, target_net, memory):\n",
    "    assert len(memory) >= BATCH_SIZE\n",
    "    transitions = memory.sample(BATCH_SIZE)\n",
    "    batch = Transition(*zip(*transitions))\n",
    "    \n",
    "    # TODO: finish implementation\n",
    "    \n",
    "    raise NotImplementedError"
   ]
  },
  {
   "cell_type": "code",
   "execution_count": null,
   "metadata": {},
   "outputs": [],
   "source": [
    "def deep_q_learning():\n",
    "    policy_net = NatureDQN().to(DEVICE)\n",
    "    target_net = NatureDQN().to(DEVICE)\n",
    "    target_net.load_state_dict(policy_net.state_dict())\n",
    "    target_net.eval()\n",
    "    \n",
    "    optimizer = optim.RMSProp(policy_net.parameters())\n",
    "    memory = ReplayMemory(MEMORY_SIZE)\n",
    "    \n",
    "    for ep in tqdm(range(N_EPS)):\n",
    "        obs = env.reset()\n",
    "        t = done = 0\n",
    "        while not done and t < N_ITERS:\n",
    "            action = sel_action(policy_net(obs))\n",
    "            next_obs, reward, done, _ = env.step(action)\n",
    "            memory.push(obs, action, next_obs, reward)\n",
    "            update(policy_net, target_net, memory)\n",
    "            obs = next_obs\n",
    "            t += 1\n",
    "        if ep % TARGET_UPDATE == 0:\n",
    "            target_net.load_state_dict(policy_net.state_dict())"
   ]
  }
 ],
 "metadata": {
  "kernelspec": {
   "display_name": "Python (research)",
   "language": "python",
   "name": "research"
  },
  "language_info": {
   "codemirror_mode": {
    "name": "ipython",
    "version": 3
   },
   "file_extension": ".py",
   "mimetype": "text/x-python",
   "name": "python",
   "nbconvert_exporter": "python",
   "pygments_lexer": "ipython3",
   "version": "3.6.6"
  }
 },
 "nbformat": 4,
 "nbformat_minor": 2
}
