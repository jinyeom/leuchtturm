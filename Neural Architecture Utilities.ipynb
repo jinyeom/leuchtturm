{
 "cells": [
  {
   "cell_type": "markdown",
   "metadata": {},
   "source": [
    "# Neural Architecture Utilities\n",
    "Author: Jin Yeom (jinyeom@utexas.edu)"
   ]
  },
  {
   "cell_type": "markdown",
   "metadata": {},
   "source": [
    "This notebook consists of various tools for designing architectures of neural networks."
   ]
  },
  {
   "cell_type": "markdown",
   "metadata": {},
   "source": [
    "## Receptive field calculator"
   ]
  },
  {
   "cell_type": "code",
   "execution_count": 5,
   "metadata": {},
   "outputs": [],
   "source": [
    "def rf(out_dim: int, \n",
    "       kernel: int, \n",
    "       stride: int) -> int:\n",
    "    return (out_dim - 1) * stride + kernel"
   ]
  },
  {
   "cell_type": "code",
   "execution_count": 16,
   "metadata": {},
   "outputs": [
    {
     "name": "stdout",
     "output_type": "stream",
     "text": [
      "receptive field of each output neuron: 70x70\n"
     ]
    }
   ],
   "source": [
    "# for discriminator network in CycleGAN\n",
    "\n",
    "out_dim = f(1, 4, 1)\n",
    "conv_3 = f(out_dim, 4, 1)\n",
    "conv_2 = f(conv_3, 4, 2)\n",
    "conv_1 = f(conv_2, 4, 2)\n",
    "in_dim = f(conv_1, 4, 2)\n",
    "\n",
    "print(f\"receptive field of each output neuron: {in_dim}x{in_dim}\")"
   ]
  }
 ],
 "metadata": {
  "kernelspec": {
   "display_name": "Python 3",
   "language": "python",
   "name": "python3"
  },
  "language_info": {
   "codemirror_mode": {
    "name": "ipython",
    "version": 3
   },
   "file_extension": ".py",
   "mimetype": "text/x-python",
   "name": "python",
   "nbconvert_exporter": "python",
   "pygments_lexer": "ipython3",
   "version": "3.6.4"
  }
 },
 "nbformat": 4,
 "nbformat_minor": 2
}
