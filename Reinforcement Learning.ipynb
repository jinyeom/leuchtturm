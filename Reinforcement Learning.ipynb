{
 "cells": [
  {
   "cell_type": "markdown",
   "metadata": {},
   "source": [
    "# Reinforcement Learning\n",
    "Author: Jin Yeom (jinyeom@utexas.edu)"
   ]
  },
  {
   "cell_type": "code",
   "execution_count": 1,
   "metadata": {},
   "outputs": [],
   "source": [
    "import gym\n",
    "import numpy as np\n",
    "import tensorflow as tf\n",
    "from matplotlib import pyplot as plt\n",
    "%matplotlib inline"
   ]
  },
  {
   "cell_type": "markdown",
   "metadata": {},
   "source": [
    "## Q-learning"
   ]
  },
  {
   "cell_type": "markdown",
   "metadata": {},
   "source": [
    "Let's begin with the **Q-learning** algorithm, which is based on the following learning rule,\n",
    "\n",
    "$$\n",
    "Q'(s_t, a_t) \\leftarrow (1 - \\alpha)Q(s_t, a_t) + \\alpha(r_t + \\gamma \\max_{a}Q(s_{t + 1}, a))\n",
    "$$\n",
    "\n",
    "which is often written rearranged for convenience, as follows\n",
    "\n",
    "$$\n",
    "Q'(s_t, a_t) \\leftarrow Q(s_t, a_t) + \\alpha(r_t + \\gamma \\max_{a}Q(s_{t + 1}, a) - Q(s_t, a_t))\n",
    "$$\n",
    "\n",
    "where the term $[r_t + \\gamma \\max_{a}Q(s_{t + 1}, a) - Q(s_t, a_t)]$ directly describes the \"error\" in Q values."
   ]
  },
  {
   "cell_type": "code",
   "execution_count": 2,
   "metadata": {},
   "outputs": [],
   "source": [
    "def update_q(Q, s, a, r, s_, alpha, gamma):\n",
    "    diff = r + gamma * np.max(Q[s_, :]) - Q[s, a]\n",
    "    Q[s, a] = Q[s, a] + alpha * diff"
   ]
  },
  {
   "cell_type": "code",
   "execution_count": 3,
   "metadata": {},
   "outputs": [],
   "source": [
    "def tabular_q_learning(q_table, env, alpha, gamma, epsilon, n_iter, n_eps):\n",
    "    reward_log = []\n",
    "    for ep in range(n_eps):\n",
    "        s = env.reset()\n",
    "        i = total_reward = done = 0\n",
    "        while not done and i < n_iter:\n",
    "            # ε-greedy is applied for exploration, in which by some probability ε,\n",
    "            # a random action is chosen, instead of the reward maximizing action.\n",
    "            a = np.random.choice([env.action_space.sample(), np.argmax(q_table[s, :])],\n",
    "                                 p=[epsilon, 1 - epsilon])\n",
    "            s_, r, done, _ = env.step(a)\n",
    "            update_q(q_table, s, a, r, s_, alpha, gamma)\n",
    "            total_reward += r\n",
    "            s = s_\n",
    "            i += 1\n",
    "        reward_log.append(total_reward)\n",
    "    return reward_log"
   ]
  },
  {
   "cell_type": "markdown",
   "metadata": {},
   "source": [
    "For this section, we're going to use a simple Grid World based environment called **Frozen Lake**."
   ]
  },
  {
   "cell_type": "code",
   "execution_count": 4,
   "metadata": {},
   "outputs": [
    {
     "name": "stdout",
     "output_type": "stream",
     "text": [
      "Discrete(16)\n",
      "Discrete(4)\n"
     ]
    }
   ],
   "source": [
    "env = gym.make(\"FrozenLake-v0\")\n",
    "print(env.observation_space)\n",
    "print(env.action_space)"
   ]
  },
  {
   "cell_type": "code",
   "execution_count": 5,
   "metadata": {},
   "outputs": [
    {
     "data": {
      "image/png": "[encoded data removed]",
      "text/plain": [
       "<matplotlib.figure.Figure at 0x7f193ae834e0>"
      ]
     },
     "metadata": {},
     "output_type": "display_data"
    }
   ],
   "source": [
    "q_table = np.zeros((env.observation_space.n, env.action_space.n))\n",
    "reward_log = tabular_q_learning(q_table, env, 0.8, 0.9, 0.5, 200, 3000)\n",
    "plt.plot(reward_log)\n",
    "plt.show()"
   ]
  },
  {
   "cell_type": "markdown",
   "metadata": {},
   "source": [
    "## Approximate Q-learning and DQN"
   ]
  },
  {
   "cell_type": "markdown",
   "metadata": {},
   "source": [
    "In **Approximate Q-learning**, the Q-table is approximated by a function (namely, a Q-function) that maps some set of features that represents each state to its Q values. So, rather than starting with Q values of all zeros, we start with some approximation,\n",
    "\n",
    "$$\n",
    "Q(s, a) \\approx \\begin{bmatrix} w_1 & w_2 & ... & w_n \\end{bmatrix} \\cdot\n",
    "                \\begin{bmatrix} f_1(s, a) \\\\ f_2(s, a) \\\\ ... \\\\ f_n(s, a) \\end{bmatrix}\n",
    "$$\n",
    "\n",
    "then adjust each weight according to the following rule,\n",
    "\n",
    "$$\n",
    "w \\leftarrow w + \\alpha (r_t + \\gamma \\max_{a}Q(s_{t + 1}, a) - Q(s_t, a_t)) f(s, a)\n",
    "$$\n",
    "\n",
    "Notice that the learning rule for approximate Q-learning is quite similar to tabular Q-learning, in which the difference ($r_t + \\gamma \\max_{a}Q(s_{t + 1}, a) - Q(s_t, a_t)$) in Q values is used to adjust the table. "
   ]
  },
  {
   "cell_type": "markdown",
   "metadata": {},
   "source": [
    "The following diagram describes our model for approximate Q-learning. A set of features is linearly transformed to output approximate Q-values for all actions, then softmax follows to choose the action with the highest Q value."
   ]
  },
  {
   "cell_type": "markdown",
   "metadata": {},
   "source": [
    "![linear_softmax](images/linear_softmax.png)"
   ]
  },
  {
   "cell_type": "code",
   "execution_count": null,
   "metadata": {},
   "outputs": [],
   "source": []
  },
  {
   "cell_type": "markdown",
   "metadata": {},
   "source": [
    "## References\n",
    "1. https://medium.com/emergent-future/simple-reinforcement-learning-with-tensorflow-part-0-q-learning-with-tables-and-neural-networks-d195264329d0\n",
    "2. http://www.cs.utexas.edu/~sniekum/classes/343-S18/lectures/lecture12.pdf"
   ]
  }
 ],
 "metadata": {
  "kernelspec": {
   "display_name": "Python [default]",
   "language": "python",
   "name": "python3"
  },
  "language_info": {
   "codemirror_mode": {
    "name": "ipython",
    "version": 3
   },
   "file_extension": ".py",
   "mimetype": "text/x-python",
   "name": "python",
   "nbconvert_exporter": "python",
   "pygments_lexer": "ipython3",
   "version": "3.6.5"
  }
 },
 "nbformat": 4,
 "nbformat_minor": 2
}
