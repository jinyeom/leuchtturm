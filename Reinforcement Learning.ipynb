{
 "cells": [
  {
   "cell_type": "markdown",
   "metadata": {},
   "source": [
    "# Reinforcement Learning\n",
    "Author: Jin Yeom (jinyeom@utexas.edu)"
   ]
  },
  {
   "cell_type": "code",
   "execution_count": 21,
   "metadata": {},
   "outputs": [],
   "source": [
    "from typing import Mapping, Tuple\n",
    "\n",
    "import gym\n",
    "import numpy as np\n",
    "import tensorflow as tf\n",
    "from matplotlib import pyplot as plt\n",
    "%matplotlib inline"
   ]
  },
  {
   "cell_type": "markdown",
   "metadata": {},
   "source": [
    "## Q-learning"
   ]
  },
  {
   "cell_type": "markdown",
   "metadata": {},
   "source": [
    "Let's begin with the **Q-learning** algorithm, which is based on the following learning rule,\n",
    "\n",
    "$$\n",
    "Q'(s_t, a_t) \\leftarrow (1 - \\alpha)Q(s_t, a_t) + \\alpha(r_t + \\gamma * \\max_{a}Q(s_{t + 1}, a))\n",
    "$$"
   ]
  },
  {
   "cell_type": "code",
   "execution_count": 98,
   "metadata": {},
   "outputs": [],
   "source": [
    "def update_q(Q, s, a, r, s_, alpha, gamma):\n",
    "    learned_value = r + gamma * np.max(Q[s_, :])\n",
    "    Q[s, a] = (1 - alpha) * Q[s, a] + alpha * learned_value"
   ]
  },
  {
   "cell_type": "code",
   "execution_count": 99,
   "metadata": {},
   "outputs": [],
   "source": [
    "def online_q_learning(Q, E, alpha, gamma, epsilon, n_iter, n_eps):\n",
    "    reward_log = []\n",
    "    for ep in range(n_eps):\n",
    "        s = E.reset()\n",
    "        i = total_reward = done = 0\n",
    "        while not done and i < n_iter:\n",
    "            # ε-greedy is applied for exploration, in which by some probability ε,\n",
    "            # a random action is chosen, instead of the reward maximizing action.\n",
    "            a = np.random.choice([E.action_space.sample(), np.argmax(Q[s, :])],\n",
    "                                 p=[epsilon, 1 - epsilon])\n",
    "            s_, r, done, _ = E.step(a)\n",
    "            update_q(Q, s, a, r, s_, alpha, gamma)\n",
    "            s = s_\n",
    "            total_reward += r\n",
    "            i += 1\n",
    "        reward_log.append(total_reward)\n",
    "    return reward_log"
   ]
  },
  {
   "cell_type": "markdown",
   "metadata": {},
   "source": [
    "For this section, we're going to use a simple Grid World based environment called **Frozen Lake**."
   ]
  },
  {
   "cell_type": "code",
   "execution_count": 100,
   "metadata": {},
   "outputs": [
    {
     "name": "stdout",
     "output_type": "stream",
     "text": [
      "Discrete(16)\n",
      "Discrete(4)\n"
     ]
    }
   ],
   "source": [
    "E = gym.make(\"FrozenLake-v0\")\n",
    "print(E.observation_space)\n",
    "print(E.action_space)"
   ]
  },
  {
   "cell_type": "code",
   "execution_count": 101,
   "metadata": {},
   "outputs": [
    {
     "data": {
      "image/png": "[encoded data removed]",
      "text/plain": [
       "<Figure size 432x288 with 1 Axes>"
      ]
     },
     "metadata": {},
     "output_type": "display_data"
    }
   ],
   "source": [
    "Q = np.zeros((env.observation_space.n, env.action_space.n))\n",
    "reward_log = online_q_learning(Q, E, 0.8, 0.95, 0.3, 100, 2000)\n",
    "plt.plot(reward_log)\n",
    "plt.show()"
   ]
  },
  {
   "cell_type": "code",
   "execution_count": null,
   "metadata": {},
   "outputs": [],
   "source": []
  }
 ],
 "metadata": {
  "kernelspec": {
   "display_name": "Python [default]",
   "language": "python",
   "name": "python3"
  },
  "language_info": {
   "codemirror_mode": {
    "name": "ipython",
    "version": 3
   },
   "file_extension": ".py",
   "mimetype": "text/x-python",
   "name": "python",
   "nbconvert_exporter": "python",
   "pygments_lexer": "ipython3",
   "version": "3.6.5"
  }
 },
 "nbformat": 4,
 "nbformat_minor": 2
}
