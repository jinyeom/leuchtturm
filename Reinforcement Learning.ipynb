{
 "cells": [
  {
   "cell_type": "markdown",
   "metadata": {},
   "source": [
    "# Reinforcement Learning\n",
    "Author: Jin Yeom (jinyeom@utexas.edu)"
   ]
  },
  {
   "cell_type": "code",
   "execution_count": 1,
   "metadata": {
    "collapsed": true
   },
   "outputs": [],
   "source": [
    "import gym\n",
    "import numpy as np\n",
    "from tqdm import tqdm_notebook as tqdm\n",
    "from matplotlib import pyplot as plt\n",
    "%matplotlib inline"
   ]
  },
  {
   "cell_type": "markdown",
   "metadata": {},
   "source": [
    "## Q-learning"
   ]
  },
  {
   "cell_type": "markdown",
   "metadata": {},
   "source": [
    "Let's begin with the **Q-learning** algorithm, which is based on the following learning rule,\n",
    "\n",
    "$$\n",
    "Q'(s_t, a_t) \\leftarrow (1 - \\alpha)Q(s_t, a_t) + \\alpha(r_t + \\gamma \\max_{a}Q(s_{t + 1}, a))\n",
    "$$\n",
    "\n",
    "which is often written rearranged for convenience, as follows\n",
    "\n",
    "$$\n",
    "Q'(s_t, a_t) \\leftarrow Q(s_t, a_t) + \\alpha(r_t + \\gamma \\max_{a}Q(s_{t + 1}, a) - Q(s_t, a_t))\n",
    "$$\n",
    "\n",
    "where the term $[r_t + \\gamma \\max_{a}Q(s_{t + 1}, a) - Q(s_t, a_t)]$ directly describes the \"error\" in Q values."
   ]
  },
  {
   "cell_type": "code",
   "execution_count": 2,
   "metadata": {
    "collapsed": true
   },
   "outputs": [],
   "source": [
    "def update_Q(Q, s, a, r, s_, alpha, gamma):\n",
    "    diff = r + gamma * np.max(Q[s_, :]) - Q[s, a]\n",
    "    Q[s, a] = Q[s, a] + alpha * diff"
   ]
  },
  {
   "cell_type": "code",
   "execution_count": 3,
   "metadata": {
    "collapsed": true
   },
   "outputs": [],
   "source": [
    "def tabular_q_learning(q_table, env, alpha, gamma, epsilon, n_iter, n_eps):\n",
    "    reward_log = []\n",
    "    for ep in tqdm(range(n_eps)):\n",
    "        s = env.reset()\n",
    "        i = total_reward = done = 0\n",
    "        while not done and i < n_iter:\n",
    "            # ε-greedy is applied for exploration, in which by some probability ε,\n",
    "            # a random action is chosen, instead of the reward maximizing action.\n",
    "            a = np.random.choice([env.action_space.sample(), np.argmax(q_table[s, :])],\n",
    "                                 p=[epsilon, 1 - epsilon])\n",
    "            s_, r, done, _ = env.step(a)\n",
    "            update_Q(q_table, s, a, r, s_, alpha, gamma)\n",
    "            total_reward += r\n",
    "            s = s_\n",
    "            i += 1\n",
    "        reward_log.append(total_reward)\n",
    "    return reward_log"
   ]
  },
  {
   "cell_type": "markdown",
   "metadata": {},
   "source": [
    "For this section, we're going to use a simple Grid World based environment called **Frozen Lake**."
   ]
  },
  {
   "cell_type": "code",
   "execution_count": 162,
   "metadata": {},
   "outputs": [
    {
     "name": "stdout",
     "output_type": "stream",
     "text": [
      "Discrete(16)\n",
      "Discrete(4)\n"
     ]
    }
   ],
   "source": [
    "env = gym.make(\"FrozenLake-v0\")\n",
    "print(env.observation_space)\n",
    "print(env.action_space)"
   ]
  },
  {
   "cell_type": "code",
   "execution_count": 5,
   "metadata": {},
   "outputs": [
    {
     "data": {
      "application/vnd.jupyter.widget-view+json": {
       "model_id": "6e776de3fd324df3972acaba6a756839",
       "version_major": 2,
       "version_minor": 0
      },
      "text/html": [
       "<p>Failed to display Jupyter Widget of type <code>HBox</code>.</p>\n",
       "<p>\n",
       "  If you're reading this message in the Jupyter Notebook or JupyterLab Notebook, it may mean\n",
       "  that the widgets JavaScript is still loading. If this message persists, it\n",
       "  likely means that the widgets JavaScript library is either not installed or\n",
       "  not enabled. See the <a href=\"https://ipywidgets.readthedocs.io/en/stable/user_install.html\">Jupyter\n",
       "  Widgets Documentation</a> for setup instructions.\n",
       "</p>\n",
       "<p>\n",
       "  If you're reading this message in another frontend (for example, a static\n",
       "  rendering on GitHub or <a href=\"https://nbviewer.jupyter.org/\">NBViewer</a>),\n",
       "  it may mean that your frontend doesn't currently support widgets.\n",
       "</p>\n"
      ],
      "text/plain": [
       "HBox(children=(IntProgress(value=0, max=3000), HTML(value='')))"
      ]
     },
     "metadata": {},
     "output_type": "display_data"
    },
    {
     "name": "stdout",
     "output_type": "stream",
     "text": [
      "\n"
     ]
    },
    {
     "data": {
      "image/png": "[encoded data removed]",
      "text/plain": [
       "<matplotlib.figure.Figure at 0x7f2a6a4bfbe0>"
      ]
     },
     "metadata": {},
     "output_type": "display_data"
    }
   ],
   "source": [
    "q_table = np.zeros((env.observation_space.n, env.action_space.n))\n",
    "reward_log = tabular_q_learning(q_table, env, 0.8, 0.9, 0.5, 200, 3000)\n",
    "plt.plot(reward_log)\n",
    "plt.show()"
   ]
  },
  {
   "cell_type": "markdown",
   "metadata": {},
   "source": [
    "## Approximate Q-learning and Deep Q-learning"
   ]
  },
  {
   "cell_type": "markdown",
   "metadata": {},
   "source": [
    "In **Approximate Q-learning**, the Q-table is approximated by a linear function (namely, a Q-function) that maps some set of features that represents each state to its Q values. So, rather than starting with Q values of all zeros, we start with some approximation,\n",
    "\n",
    "$$\n",
    "Q(s, a) \\approx \\begin{bmatrix} w_1 & w_2 & ... & w_n \\end{bmatrix} \\cdot\n",
    "                \\begin{bmatrix} f_1(s, a) \\\\ f_2(s, a) \\\\ ... \\\\ f_n(s, a) \\end{bmatrix}\n",
    "$$\n",
    "\n",
    "then adjust each weight according to the following rule,\n",
    "\n",
    "$$\n",
    "w \\leftarrow w + \\alpha (r_t + \\gamma \\max_{a}Q(s_{t + 1}, a) - Q(s_t, a_t)) f(s, a)\n",
    "$$\n",
    "\n",
    "Notice that the learning rule for approximate Q-learning is quite similar to tabular Q-learning, in which the difference ($r_t + \\gamma \\max_{a}Q(s_{t + 1}, a) - Q(s_t, a_t)$) in Q values is used to adjust the table. "
   ]
  },
  {
   "cell_type": "markdown",
   "metadata": {},
   "source": [
    "The following diagram describes our model for approximate Q-learning. A set of features is linearly transformed to output approximate Q-values for all actions, then softmax follows to compute the probability of each action."
   ]
  },
  {
   "cell_type": "markdown",
   "metadata": {},
   "source": [
    "![linear_softmax](images/linear_softmax.png)"
   ]
  },
  {
   "cell_type": "code",
   "execution_count": 188,
   "metadata": {},
   "outputs": [
    {
     "name": "stdout",
     "output_type": "stream",
     "text": [
      "Box(4,)\n",
      "Discrete(2)\n"
     ]
    }
   ],
   "source": [
    "env = gym.make(\"CartPole-v1\")\n",
    "print(env.observation_space)\n",
    "print(env.action_space)"
   ]
  },
  {
   "cell_type": "code",
   "execution_count": 189,
   "metadata": {
    "collapsed": true
   },
   "outputs": [],
   "source": [
    "def pred_Q(W, s):\n",
    "    return np.dot(W, s)\n",
    "\n",
    "def softmax(x):\n",
    "    e_x = np.exp(x - np.max(x))\n",
    "    return e_x / e_x.sum()\n",
    "\n",
    "def choose_action(W, s):\n",
    "    # softmax is another method of exploration (other than ε-greedy), in which\n",
    "    # probability of each action is computed, and the most probable action is\n",
    "    # selected.\n",
    "    probs = softmax(pred_Q(W, s))    \n",
    "    return np.random.choice(np.arange(len(probs)), p=probs)"
   ]
  },
  {
   "cell_type": "code",
   "execution_count": 190,
   "metadata": {
    "collapsed": true
   },
   "outputs": [],
   "source": [
    "def update_W(W, s, a, r, s_, alpha, gamma):\n",
    "    diff = r + gamma * np.amax(pred_Q(W, s_)) - pred_Q(W, s)[a]\n",
    "    W[a, :] = W[a, :] + alpha * diff * s"
   ]
  },
  {
   "cell_type": "code",
   "execution_count": 191,
   "metadata": {
    "collapsed": true
   },
   "outputs": [],
   "source": [
    "def approx_q_learning(W, env, alpha, gamma, n_iter, n_eps):\n",
    "    reward_log = []\n",
    "    for ep in tqdm(range(n_eps)):\n",
    "        s = env.reset()\n",
    "        i = total_reward = done = 0\n",
    "        while not done and i < n_iter:\n",
    "            a = choose_action(W, s)\n",
    "            s_, r, done, _ = env.step(a)\n",
    "            update_W(W, s, a, r, s_, alpha, gamma)\n",
    "            total_reward += r\n",
    "            s = s_\n",
    "            i += 1\n",
    "        reward_log.append(total_reward)\n",
    "    return reward_log"
   ]
  },
  {
   "cell_type": "code",
   "execution_count": 193,
   "metadata": {},
   "outputs": [
    {
     "data": {
      "application/vnd.jupyter.widget-view+json": {
       "model_id": "6ad2e48d7ce6492f849c2386de464ada",
       "version_major": 2,
       "version_minor": 0
      },
      "text/html": [
       "<p>Failed to display Jupyter Widget of type <code>HBox</code>.</p>\n",
       "<p>\n",
       "  If you're reading this message in the Jupyter Notebook or JupyterLab Notebook, it may mean\n",
       "  that the widgets JavaScript is still loading. If this message persists, it\n",
       "  likely means that the widgets JavaScript library is either not installed or\n",
       "  not enabled. See the <a href=\"https://ipywidgets.readthedocs.io/en/stable/user_install.html\">Jupyter\n",
       "  Widgets Documentation</a> for setup instructions.\n",
       "</p>\n",
       "<p>\n",
       "  If you're reading this message in another frontend (for example, a static\n",
       "  rendering on GitHub or <a href=\"https://nbviewer.jupyter.org/\">NBViewer</a>),\n",
       "  it may mean that your frontend doesn't currently support widgets.\n",
       "</p>\n"
      ],
      "text/plain": [
       "HBox(children=(IntProgress(value=0, max=2000), HTML(value='')))"
      ]
     },
     "metadata": {},
     "output_type": "display_data"
    },
    {
     "name": "stdout",
     "output_type": "stream",
     "text": [
      "\n"
     ]
    },
    {
     "data": {
      "image/png": "[encoded data removed]",
      "text/plain": [
       "<matplotlib.figure.Figure at 0x7f2a68cef7f0>"
      ]
     },
     "metadata": {},
     "output_type": "display_data"
    }
   ],
   "source": [
    "approx_q = np.random.normal(loc=0.0, scale=0.01, size=(env.action_space.n, env.observation_space.shape[0]))\n",
    "reward_log = approx_q_learning(approx_q, env, 1e-4, 0.9, 200, 2000)\n",
    "plt.plot(reward_log)\n",
    "plt.show()"
   ]
  },
  {
   "cell_type": "code",
   "execution_count": 159,
   "metadata": {},
   "outputs": [
    {
     "name": "stdout",
     "output_type": "stream",
     "text": [
      "[[ 0.00952525  0.00692663  0.00924364 -0.05218079]\n",
      " [ 0.01244558  0.00874505  0.00998711 -0.02298688]]\n"
     ]
    }
   ],
   "source": []
  },
  {
   "cell_type": "markdown",
   "metadata": {},
   "source": [
    "## References\n",
    "1. https://medium.com/emergent-future/simple-reinforcement-learning-with-tensorflow-part-0-q-learning-with-tables-and-neural-networks-d195264329d0\n",
    "2. http://www.cs.utexas.edu/~sniekum/classes/343-S18/lectures/lecture12.pdf"
   ]
  }
 ],
 "metadata": {
  "kernelspec": {
   "display_name": "Python (research)",
   "language": "python",
   "name": "research"
  },
  "language_info": {
   "codemirror_mode": {
    "name": "ipython",
    "version": 3
   },
   "file_extension": ".py",
   "mimetype": "text/x-python",
   "name": "python",
   "nbconvert_exporter": "python",
   "pygments_lexer": "ipython3",
   "version": "3.5.4"
  }
 },
 "nbformat": 4,
 "nbformat_minor": 2
}
