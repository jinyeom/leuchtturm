{
 "cells": [
  {
   "cell_type": "markdown",
   "metadata": {},
   "source": [
    "# Variational Autoencoders for MapleStory Character Generation\n",
    "Author: Jin Yeom (jinyeom@utexas.edu)"
   ]
  },
  {
   "cell_type": "markdown",
   "metadata": {},
   "source": [
    "In this notebook, we're going to build a **variational autoencoder** (VAE) model for generating [MapleStory](http://maplestory.nexon.net/landing/) characters. There wasn't any particular reason for the choice of data (I did collect the dataset myself, thinking it would be cool to be able to generate MapleStory characters), but the main goal of this project is to learn how VAE works as a generative model."
   ]
  },
  {
   "cell_type": "code",
   "execution_count": 8,
   "metadata": {},
   "outputs": [],
   "source": [
    "import numpy as np\n",
    "import torch\n",
    "from torch import nn\n",
    "from torch.utils import data\n",
    "from torch.nn import functional as F\n",
    "import torchvision\n",
    "from torchvision import transforms\n",
    "from torchvision import datasets\n",
    "from matplotlib import image as mpimg\n",
    "from matplotlib import pyplot as plt\n",
    "from glob import glob\n",
    "from tqdm import tqdm_notebook as tqdm\n",
    "from PIL import Image"
   ]
  },
  {
   "cell_type": "markdown",
   "metadata": {},
   "source": [
    "## Collecting MapleStory image data"
   ]
  },
  {
   "cell_type": "markdown",
   "metadata": {},
   "source": [
    "I won't share the images that I collected, as they are not mine, but I seemed to have accidentally left the script below that scrapes the same webpages. How careless of me."
   ]
  },
  {
   "cell_type": "code",
   "execution_count": null,
   "metadata": {},
   "outputs": [],
   "source": [
    "# NOTE: do NOT run this script unless it's necessary!\n",
    "\n",
    "import time\n",
    "from datetime import datetime\n",
    "import pathlib\n",
    "from uuid import uuid4\n",
    "from urllib.request import Request, urlopen\n",
    "from urllib.error import HTTPError\n",
    "from bs4 import BeautifulSoup\n",
    "\n",
    "try:\n",
    "    # mkdir datasets/maple-vae if it doesn't exist yet\n",
    "    pathlib.Path(\"datasets/maple-vae\").mkdir(parents=True)\n",
    "except FileExistsError:\n",
    "    print(\"datasets/maple-vae already exists, moving on...\")\n",
    "\n",
    "# URL template for scraping MapleStory avatars from the ranking page\n",
    "url_tmpl = (\"http://maplestory.nexon.net/rankings/overall-ranking/\"\n",
    "            \"legendary?rebootIndex=0&pageIndex={}#ranking\")\n",
    "for page_index in tqdm(range(1, 50000, 5)):\n",
    "    url = url_tmpl.format(page_index)\n",
    "    req = Request(url, headers={\"User-Agent\": \"Mozilla/5.0\"}) # pretend you're human!\n",
    "    soup = BeautifulSoup(urlopen(req), \"html.parser\")\n",
    "    for av in soup.find_all(\"img\", {\"class\": \"avatar\"}):\n",
    "        for i in range(5): # try 5 times\n",
    "            img_req = Request(av[\"src\"], headers={\"User-Agent\": \"Mozilla/5.0\"})\n",
    "            try:\n",
    "                img = urlopen(img_req).read()\n",
    "                with open(f\"datasets/maple-vae/{uuid4().hex}.png\", \"wb\") as f:\n",
    "                    f.write(img)\n",
    "                break\n",
    "            except ConnectionError:\n",
    "                now = datetime.now()\n",
    "                print(f\"[{now}] Connection error, retrying in 3 seconds...\", flush=True)\n",
    "                time.sleep(3)\n",
    "            except HTTPError:\n",
    "                now = datetime.now()\n",
    "                print(f\"[{now}] HTTP error, skipping...\", flush=True)\n",
    "                break\n",
    "        else:\n",
    "            raise\n",
    "    if page_index % 500 == 0:\n",
    "        time.sleep(5)"
   ]
  },
  {
   "cell_type": "markdown",
   "metadata": {},
   "source": [
    "For the sake of efficient iteration through the images, let's pack them into a `.npy` file."
   ]
  },
  {
   "cell_type": "code",
   "execution_count": 23,
   "metadata": {},
   "outputs": [
    {
     "data": {
      "application/vnd.jupyter.widget-view+json": {
       "model_id": "8249debee58d4e73b43ae5186a06c96f",
       "version_major": 2,
       "version_minor": 0
      },
      "text/html": [
       "<p>Failed to display Jupyter Widget of type <code>HBox</code>.</p>\n",
       "<p>\n",
       "  If you're reading this message in the Jupyter Notebook or JupyterLab Notebook, it may mean\n",
       "  that the widgets JavaScript is still loading. If this message persists, it\n",
       "  likely means that the widgets JavaScript library is either not installed or\n",
       "  not enabled. See the <a href=\"https://ipywidgets.readthedocs.io/en/stable/user_install.html\">Jupyter\n",
       "  Widgets Documentation</a> for setup instructions.\n",
       "</p>\n",
       "<p>\n",
       "  If you're reading this message in another frontend (for example, a static\n",
       "  rendering on GitHub or <a href=\"https://nbviewer.jupyter.org/\">NBViewer</a>),\n",
       "  it may mean that your frontend doesn't currently support widgets.\n",
       "</p>\n"
      ],
      "text/plain": [
       "HBox(children=(IntProgress(value=0, max=50000), HTML(value='')))"
      ]
     },
     "metadata": {},
     "output_type": "display_data"
    }
   ],
   "source": [
    "train_set = np.zeros((40000, 3, 96, 96))\n",
    "test_set = np.zeros((10000, 3, 96, 96))\n",
    "for i, f in enumerate(tqdm(glob(\"datasets/maplestory/*.png\"))):\n",
    "    img = np.array(Image.open(f))\n",
    "    alpha = img[:, :, 3] # alpha channel\n",
    "    img[alpha == 0.0] = 255 # whiten the transparent parts\n",
    "    pix = np.transpose(img, (2, 1, 0))[:3] # (channel, height, width)\n",
    "    if i < 40000:\n",
    "        train_set[i, :, :, :] = pix\n",
    "    else:\n",
    "        test_set[i - 40000, :, :, :] = pix\n",
    "np.save(\"datasets/maplestory/maple_train\", train_set)\n",
    "np.save(\"datasets/maplestory/maple_test\", test_set)"
   ]
  },
  {
   "cell_type": "markdown",
   "metadata": {},
   "source": [
    "## Dataset"
   ]
  },
  {
   "cell_type": "code",
   "execution_count": 43,
   "metadata": {},
   "outputs": [],
   "source": [
    "class MapleDataset(data.Dataset):\n",
    "    def __init__(self, root, transform=None, mode=\"train\"):\n",
    "        self.transform = transform\n",
    "        self._images = np.load(f\"{root}/maple_{mode}.npy\")\n",
    "        \n",
    "    def __len__(self):\n",
    "        return len(self._images)\n",
    "    \n",
    "    def __getitem__(self, index):\n",
    "        return (self._images[index] if self.transform is None \n",
    "                else self.transform(self._images[index]))"
   ]
  },
  {
   "cell_type": "code",
   "execution_count": 44,
   "metadata": {},
   "outputs": [],
   "source": [
    "def get_loaders(root, transform, batch_size, num_workers=2):\n",
    "    train_set = MapleDataset(root, transform=transform, mode=\"train\")\n",
    "    test_set = MapleDataset(root, transform=transform, mode=\"test\")\n",
    "    \n",
    "    train_loader = data.DataLoader(train_set,\n",
    "                                   batch_size=batch_size,\n",
    "                                   shuffle=True,\n",
    "                                   num_workers=num_workers)\n",
    "    test_loader = data.DataLoader(test_set,\n",
    "                                  batch_size=batch_size,\n",
    "                                  shuffle=False,\n",
    "                                  num_workers=1)\n",
    "    return train_loader, test_loader"
   ]
  },
  {
   "cell_type": "markdown",
   "metadata": {},
   "source": [
    "Let's take a look at some samples!"
   ]
  },
  {
   "cell_type": "code",
   "execution_count": 56,
   "metadata": {},
   "outputs": [],
   "source": [
    "def imshow(img):\n",
    "    plt.figure()\n",
    "    plt.title(\"Sampled Maplestory characters\")\n",
    "    plt.imshow(np.transpose(img, (2, 1, 0)))"
   ]
  },
  {
   "cell_type": "code",
   "execution_count": 57,
   "metadata": {},
   "outputs": [
    {
     "data": {
      "image/png": "[encoded data removed]",
      "text/plain": [
       "<matplotlib.figure.Figure at 0x11b95f898>"
      ]
     },
     "metadata": {},
     "output_type": "display_data"
    }
   ],
   "source": [
    "transform = transforms.Compose([transforms.RandomHorizontalFlip(),\n",
    "                                transforms.ToTensor(),\n",
    "                                transforms.Normalize((0.5, 0.5, 0.5), (0.5, 0.5, 0.5))])\n",
    "train_loader, test_loader = get_loaders(\"datasets/maplestory\", None, 16)\n",
    "\n",
    "images = iter(train_loader).next()\n",
    "imshow(torchvision.utils.make_grid(images))"
   ]
  },
  {
   "cell_type": "markdown",
   "metadata": {},
   "source": [
    "## Model"
   ]
  },
  {
   "cell_type": "markdown",
   "metadata": {},
   "source": [
    "![VAE](images/VAE.png)"
   ]
  },
  {
   "cell_type": "code",
   "execution_count": null,
   "metadata": {},
   "outputs": [],
   "source": []
  }
 ],
 "metadata": {
  "kernelspec": {
   "display_name": "Python 3",
   "language": "python",
   "name": "python3"
  },
  "language_info": {
   "codemirror_mode": {
    "name": "ipython",
    "version": 3
   },
   "file_extension": ".py",
   "mimetype": "text/x-python",
   "name": "python",
   "nbconvert_exporter": "python",
   "pygments_lexer": "ipython3",
   "version": "3.6.4"
  }
 },
 "nbformat": 4,
 "nbformat_minor": 2
}
