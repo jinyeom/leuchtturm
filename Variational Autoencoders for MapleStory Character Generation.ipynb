{
 "cells": [
  {
   "cell_type": "markdown",
   "metadata": {},
   "source": [
    "# Variational Autoencoders for MapleStory Character Generation\n",
    "Author: Jin Yeom (jinyeom@utexas.edu)"
   ]
  },
  {
   "cell_type": "markdown",
   "metadata": {},
   "source": [
    "In this notebook, we're going to build a **variational autoencoder** (VAE) model for generating [MapleStory](http://maplestory.nexon.net/landing/) characters. There wasn't any particular reason for the choice of data (I did collect the dataset myself, thinking it would be cool to be able to generate MapleStory characters), but the main goal of this project is to learn how VAE works as a generative model."
   ]
  },
  {
   "cell_type": "code",
   "execution_count": 6,
   "metadata": {},
   "outputs": [],
   "source": [
    "import time\n",
    "import pathlib\n",
    "from uuid import uuid4\n",
    "from urllib.request import Request, urlopen\n",
    "from urllib.error import HTTPError\n",
    "from bs4 import BeautifulSoup\n",
    "from tqdm import tqdm_notebook as tqdm\n",
    "import torch\n",
    "from torch import nn\n",
    "from torch.nn import functional as F\n",
    "import torchvision\n",
    "from torchvision import transforms\n",
    "from torchvision import datasets\n",
    "from matplotlib import image as mpimg\n",
    "from matplotlib import pyplot as plt"
   ]
  },
  {
   "cell_type": "markdown",
   "metadata": {},
   "source": [
    "## Collecting MapleStory image data"
   ]
  },
  {
   "cell_type": "markdown",
   "metadata": {},
   "source": [
    "I won't share the images that I collected, as they are not mine, but I seemed to have accidentally left the script below that scrapes the same webpages. How careless of me."
   ]
  },
  {
   "cell_type": "code",
   "execution_count": null,
   "metadata": {},
   "outputs": [],
   "source": [
    "# NOTE: do NOT run this script unless it's necessary!\n",
    "\n",
    "try:\n",
    "    # mkdir datasets/maple-vae if it doesn't exist yet\n",
    "    pathlib.Path(\"datasets/maple-vae\").mkdir(parents=True)\n",
    "except FileExistsError:\n",
    "    print(\"datasets/maple-vae already exists, moving on...\")\n",
    "\n",
    "# URL template for scraping MapleStory avatars from the ranking page\n",
    "url_tmpl = (\"http://maplestory.nexon.net/rankings/overall-ranking/\"\n",
    "            \"legendary?rebootIndex=0&pageIndex={}#ranking\")\n",
    "for page_index in tqdm(range(1, 70000, 5)):\n",
    "    url = url_tmpl.format(page_index)\n",
    "    req = Request(url, headers={\"User-Agent\": \"Mozilla/5.0\"}) # pretend you're human!\n",
    "    soup = BeautifulSoup(urlopen(req), \"html.parser\")\n",
    "    for av in soup.find_all(\"img\", {\"class\": \"avatar\"}):\n",
    "        for i in range(5): # try 5 times\n",
    "            img_req = Request(av[\"src\"], headers={\"User-Agent\": \"Mozilla/5.0\"})\n",
    "            try:\n",
    "                img = urlopen(img_req).read()\n",
    "                with open(f\"datasets/maple-vae/{uuid4().hex}.png\", \"wb\") as f:\n",
    "                    f.write(img)\n",
    "                break\n",
    "            except ConnectionError:\n",
    "                now = time.now()\n",
    "                print(f\"[{now}] Connection error, retrying in 3 seconds...\", flush=True)\n",
    "                time.sleep(3)\n",
    "            except HTTPError:\n",
    "                now = time.now()\n",
    "                print(f\"[{now}] HTTP error, skipping...\", flush=True)\n",
    "                break\n",
    "        else:\n",
    "            raise\n",
    "    if page_index % 500 == 0:\n",
    "        time.sleep(5)"
   ]
  },
  {
   "cell_type": "markdown",
   "metadata": {},
   "source": [
    "## Dataset"
   ]
  },
  {
   "cell_type": "code",
   "execution_count": null,
   "metadata": {},
   "outputs": [],
   "source": []
  },
  {
   "cell_type": "code",
   "execution_count": 9,
   "metadata": {},
   "outputs": [],
   "source": [
    "def imshow(img):\n",
    "    img = img / 2 + 0.5\n",
    "    npimg = img.numpy()\n",
    "    plt.figure(figsize=(16, 8))\n",
    "    plt.title(\"Sampled MapleStory characters\")\n",
    "    plt.imshow(np.transpose(npimg, (1, 2, 0)))"
   ]
  },
  {
   "cell_type": "code",
   "execution_count": null,
   "metadata": {},
   "outputs": [],
   "source": [
    "images, labels = iter(train_loader).next()\n",
    "imshow(torchvision.utils.make_grid(images))"
   ]
  },
  {
   "cell_type": "markdown",
   "metadata": {},
   "source": [
    "## Model"
   ]
  },
  {
   "cell_type": "markdown",
   "metadata": {},
   "source": [
    "![VAE](images/VAE.png)"
   ]
  },
  {
   "cell_type": "code",
   "execution_count": null,
   "metadata": {},
   "outputs": [],
   "source": []
  }
 ],
 "metadata": {
  "kernelspec": {
   "display_name": "Python (research)",
   "language": "python",
   "name": "research"
  },
  "language_info": {
   "codemirror_mode": {
    "name": "ipython",
    "version": 3
   },
   "file_extension": ".py",
   "mimetype": "text/x-python",
   "name": "python",
   "nbconvert_exporter": "python",
   "pygments_lexer": "ipython3",
   "version": "3.6.6"
  }
 },
 "nbformat": 4,
 "nbformat_minor": 2
}
