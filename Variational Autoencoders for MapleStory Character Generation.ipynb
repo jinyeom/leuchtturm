{
 "cells": [
  {
   "cell_type": "markdown",
   "metadata": {},
   "source": [
    "# Variational Autoencoders for MapleStory Character Generation\n",
    "Author: Jin Yeom (jinyeom@utexas.edu)"
   ]
  },
  {
   "cell_type": "markdown",
   "metadata": {},
   "source": [
    "In this notebook, we're going to build a **variational autoencoder** (VAE) model for generating [MapleStory](http://maplestory.nexon.net/landing/) characters. There wasn't any particular reason for the choice of data (I did collect the dataset myself, thinking it would be cool to be able to generate MapleStory characters), but the main goal of this project is to learn how VAE works as a generative model."
   ]
  },
  {
   "cell_type": "code",
   "execution_count": 3,
   "metadata": {},
   "outputs": [],
   "source": [
    "import time\n",
    "from datetime import datetime\n",
    "import pathlib\n",
    "from uuid import uuid4\n",
    "from urllib.request import Request, urlopen\n",
    "from urllib.error import HTTPError\n",
    "from bs4 import BeautifulSoup\n",
    "from tqdm import tqdm_notebook as tqdm\n",
    "import torch\n",
    "from torch import nn\n",
    "from torch.nn import functional as F\n",
    "import torchvision\n",
    "from torchvision import transforms\n",
    "from torchvision import datasets\n",
    "from matplotlib import image as mpimg\n",
    "from matplotlib import pyplot as plt"
   ]
  },
  {
   "cell_type": "markdown",
   "metadata": {},
   "source": [
    "## Collecting MapleStory image data"
   ]
  },
  {
   "cell_type": "markdown",
   "metadata": {},
   "source": [
    "I won't share the images that I collected, as they are not mine, but I seemed to have accidentally left the script below that scrapes the same webpages. How careless of me."
   ]
  },
  {
   "cell_type": "code",
   "execution_count": null,
   "metadata": {},
   "outputs": [
    {
     "name": "stdout",
     "output_type": "stream",
     "text": [
      "datasets/maple-vae already exists, moving on...\n"
     ]
    },
    {
     "data": {
      "application/vnd.jupyter.widget-view+json": {
       "model_id": "9fe39cca8e3743a5bb2444a7fc5b5fbd",
       "version_major": 2,
       "version_minor": 0
      },
      "text/html": [
       "<p>Failed to display Jupyter Widget of type <code>HBox</code>.</p>\n",
       "<p>\n",
       "  If you're reading this message in the Jupyter Notebook or JupyterLab Notebook, it may mean\n",
       "  that the widgets JavaScript is still loading. If this message persists, it\n",
       "  likely means that the widgets JavaScript library is either not installed or\n",
       "  not enabled. See the <a href=\"https://ipywidgets.readthedocs.io/en/stable/user_install.html\">Jupyter\n",
       "  Widgets Documentation</a> for setup instructions.\n",
       "</p>\n",
       "<p>\n",
       "  If you're reading this message in another frontend (for example, a static\n",
       "  rendering on GitHub or <a href=\"https://nbviewer.jupyter.org/\">NBViewer</a>),\n",
       "  it may mean that your frontend doesn't currently support widgets.\n",
       "</p>\n"
      ],
      "text/plain": [
       "HBox(children=(IntProgress(value=0, max=10000), HTML(value='')))"
      ]
     },
     "metadata": {},
     "output_type": "display_data"
    },
    {
     "name": "stdout",
     "output_type": "stream",
     "text": [
      "[2018-07-31 18:57:46.253822] Connection error, retrying in 3 seconds...\n",
      "[2018-07-31 19:27:48.093160] HTTP error, skipping...\n",
      "[2018-07-31 19:43:29.359803] HTTP error, skipping...\n",
      "[2018-07-31 19:46:02.538685] HTTP error, skipping...\n",
      "[2018-07-31 19:49:41.519484] HTTP error, skipping...\n",
      "[2018-07-31 20:05:46.210217] HTTP error, skipping...\n",
      "[2018-07-31 20:11:31.415008] HTTP error, skipping...\n",
      "[2018-07-31 20:12:32.224289] HTTP error, skipping...\n",
      "[2018-07-31 20:13:18.628346] HTTP error, skipping...\n",
      "[2018-07-31 20:17:50.114978] HTTP error, skipping...\n",
      "[2018-07-31 20:22:33.956749] HTTP error, skipping...\n",
      "[2018-07-31 20:26:17.890049] HTTP error, skipping...\n"
     ]
    }
   ],
   "source": [
    "# NOTE: do NOT run this script unless it's necessary!\n",
    "\n",
    "try:\n",
    "    # mkdir datasets/maple-vae if it doesn't exist yet\n",
    "    pathlib.Path(\"datasets/maple-vae\").mkdir(parents=True)\n",
    "except FileExistsError:\n",
    "    print(\"datasets/maple-vae already exists, moving on...\")\n",
    "\n",
    "# URL template for scraping MapleStory avatars from the ranking page\n",
    "url_tmpl = (\"http://maplestory.nexon.net/rankings/overall-ranking/\"\n",
    "            \"legendary?rebootIndex=0&pageIndex={}#ranking\")\n",
    "for page_index in tqdm(range(1, 50000, 5)):\n",
    "    url = url_tmpl.format(page_index)\n",
    "    req = Request(url, headers={\"User-Agent\": \"Mozilla/5.0\"}) # pretend you're human!\n",
    "    soup = BeautifulSoup(urlopen(req), \"html.parser\")\n",
    "    for av in soup.find_all(\"img\", {\"class\": \"avatar\"}):\n",
    "        for i in range(5): # try 5 times\n",
    "            img_req = Request(av[\"src\"], headers={\"User-Agent\": \"Mozilla/5.0\"})\n",
    "            try:\n",
    "                img = urlopen(img_req).read()\n",
    "                with open(f\"datasets/maple-vae/{uuid4().hex}.png\", \"wb\") as f:\n",
    "                    f.write(img)\n",
    "                break\n",
    "            except ConnectionError:\n",
    "                now = datetime.now()\n",
    "                print(f\"[{now}] Connection error, retrying in 3 seconds...\", flush=True)\n",
    "                time.sleep(3)\n",
    "            except HTTPError:\n",
    "                now = datetime.now()\n",
    "                print(f\"[{now}] HTTP error, skipping...\", flush=True)\n",
    "                break\n",
    "        else:\n",
    "            raise\n",
    "    if page_index % 500 == 0:\n",
    "        time.sleep(5)"
   ]
  },
  {
   "cell_type": "markdown",
   "metadata": {},
   "source": [
    "## Dataset"
   ]
  },
  {
   "cell_type": "code",
   "execution_count": null,
   "metadata": {},
   "outputs": [],
   "source": []
  },
  {
   "cell_type": "code",
   "execution_count": 9,
   "metadata": {},
   "outputs": [],
   "source": [
    "def imshow(img):\n",
    "    img = img / 2 + 0.5\n",
    "    npimg = img.numpy()\n",
    "    plt.figure(figsize=(16, 8))\n",
    "    plt.title(\"Sampled MapleStory characters\")\n",
    "    plt.imshow(np.transpose(npimg, (1, 2, 0)))"
   ]
  },
  {
   "cell_type": "code",
   "execution_count": null,
   "metadata": {},
   "outputs": [],
   "source": [
    "images, labels = iter(train_loader).next()\n",
    "imshow(torchvision.utils.make_grid(images))"
   ]
  },
  {
   "cell_type": "markdown",
   "metadata": {},
   "source": [
    "## Model"
   ]
  },
  {
   "cell_type": "markdown",
   "metadata": {},
   "source": [
    "![VAE](images/VAE.png)"
   ]
  },
  {
   "cell_type": "code",
   "execution_count": null,
   "metadata": {},
   "outputs": [],
   "source": []
  }
 ],
 "metadata": {
  "kernelspec": {
   "display_name": "Python 3",
   "language": "python",
   "name": "python3"
  },
  "language_info": {
   "codemirror_mode": {
    "name": "ipython",
    "version": 3
   },
   "file_extension": ".py",
   "mimetype": "text/x-python",
   "name": "python",
   "nbconvert_exporter": "python",
   "pygments_lexer": "ipython3",
   "version": "3.6.4"
  }
 },
 "nbformat": 4,
 "nbformat_minor": 2
}
