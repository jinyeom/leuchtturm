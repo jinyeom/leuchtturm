{
 "cells": [
  {
   "cell_type": "markdown",
   "metadata": {},
   "source": [
    "<img src=\"images/stable_marriage.png\" align=right width=30%></img>\n",
    "# College Admissions and the Stability of Marriage\n",
    "Author: Jin Yeom (jinyeom@utexas.edu)\n",
    "\n",
    "## Contents\n",
    "- [Stable marriage problem](#Stable-marriage-problem)\n",
    "- [College admission problem](#College-admission-problem)\n",
    "- [References](#References)"
   ]
  },
  {
   "cell_type": "code",
   "execution_count": 1,
   "metadata": {},
   "outputs": [],
   "source": [
    "import random\n",
    "from pprint import pprint\n",
    "from copy import deepcopy\n",
    "from typing import Mapping, Sequence, Tuple\n",
    "from collections import defaultdict"
   ]
  },
  {
   "cell_type": "markdown",
   "metadata": {},
   "source": [
    "In this notebook, we'll solve a little problem my girlfriend's sorority is having: matching new littles and bigs. Fortunately, the same problem has been solved long time ago by mathematicians named David Gale and Lloyd Shapley [1]. They called this problem the **stable marriage problem**, or the **college admissions problem** for more general cases."
   ]
  },
  {
   "cell_type": "markdown",
   "metadata": {},
   "source": [
    "## Stable marriage problem"
   ]
  },
  {
   "cell_type": "markdown",
   "metadata": {},
   "source": [
    "*Given n men and n women, where each person has ranked all members of the opposite sex in order of preference, marry the men and women together such that there are no two people of opposite sex who would both rather have each other than their current partners. When there are no such pairs of people, the set of marriages is deemed stable.*"
   ]
  },
  {
   "cell_type": "code",
   "execution_count": 7,
   "metadata": {},
   "outputs": [],
   "source": [
    "# Example from https://en.wikipedia.org/wiki/Stable_marriage_problem\n",
    "# The preferences are modified to make the problem a little more challenging.\n",
    "suiter_prefs = {\"A\": [\"Y\", \"X\", \"Z\"],\n",
    "                \"B\": [\"Y\", \"Z\", \"X\"],\n",
    "                \"C\": [\"X\", \"Z\", \"Y\"]}\n",
    "\n",
    "reviewer_prefs = {\"X\": [\"B\", \"A\", \"C\"],\n",
    "                  \"Y\": [\"C\", \"B\", \"A\"],\n",
    "                  \"Z\": [\"C\", \"A\", \"B\"]}"
   ]
  },
  {
   "cell_type": "code",
   "execution_count": 8,
   "metadata": {},
   "outputs": [
    {
     "name": "stdout",
     "output_type": "stream",
     "text": [
      "{'A': 'X', 'B': 'Y', 'C': 'Z'}\n"
     ]
    }
   ],
   "source": [
    "def gale_shapley(suiter_prefs: Mapping[str, Sequence[str]], \n",
    "                 reviewer_prefs: Mapping[str, Sequence[str]]) -> Mapping[str, str]:\n",
    "    suiters = list(suiter_prefs.keys())\n",
    "    reviewers = list(reviewer_prefs.keys())\n",
    "    # NOTE: this may seem wasteful, but it's either this or linear-time\n",
    "    # search over suiters within each loop; we wouldn't want that, would we?\n",
    "    suiter_matches = dict([(s, None) for s in suiters])\n",
    "    reviewer_matches = dict([(r, None) for r in reviewers])\n",
    "    while suiters:\n",
    "        suiter = suiters.pop(0)\n",
    "        reviewer = suiter_prefs[suiter][0]\n",
    "        # if the current reviewer is not matched yet, match them\n",
    "        if reviewer not in suiter_matches.values():\n",
    "            suiter_matches[suiter] = reviewer\n",
    "            reviewer_matches[reviewer] = suiter\n",
    "        # otherwise, compare current matches of the two with each other\n",
    "        else:\n",
    "            suiter_ = reviewer_matches[reviewer]\n",
    "            if reviewer_prefs[reviewer].index(suiter) < reviewer_prefs[reviewer].index(suiter_):\n",
    "                suiter_matches[suiter_] = None\n",
    "                suiter_matches[suiter] = reviewer\n",
    "                reviewer_matches[reviewer] = suiter\n",
    "                suiters.append(suiter_)\n",
    "            else:\n",
    "                suiter_prefs[suiter].remove(reviewer)\n",
    "                suiters.append(suiter)\n",
    "    return suiter_matches\n",
    "\n",
    "# let's test it with the simple example from above\n",
    "pprint(gale_shapley(suiter_prefs, reviewer_prefs))"
   ]
  },
  {
   "cell_type": "markdown",
   "metadata": {},
   "source": [
    "Now, let's test the algorithm with a larger problem size."
   ]
  },
  {
   "cell_type": "code",
   "execution_count": 9,
   "metadata": {
    "scrolled": true
   },
   "outputs": [
    {
     "name": "stdout",
     "output_type": "stream",
     "text": [
      "{'Abigail': ['Faith', 'Haley', 'Gaby', 'Emily'],\n",
      " 'Beth': ['Faith', 'Gaby', 'Haley', 'Emily'],\n",
      " 'Chloe': ['Faith', 'Haley', 'Emily', 'Gaby'],\n",
      " 'Daisy': ['Faith', 'Emily', 'Gaby', 'Haley']}\n",
      "{'Emily': ['Beth', 'Daisy', 'Abigail', 'Chloe'],\n",
      " 'Faith': ['Beth', 'Daisy', 'Abigail', 'Chloe'],\n",
      " 'Gaby': ['Daisy', 'Beth', 'Chloe', 'Abigail'],\n",
      " 'Haley': ['Daisy', 'Abigail', 'Beth', 'Chloe']}\n"
     ]
    }
   ],
   "source": [
    "suiters = [\"Abigail\", \"Beth\", \"Chloe\", \"Daisy\"]\n",
    "reviewers = [\"Emily\", \"Faith\", \"Gaby\", \"Haley\"]\n",
    "suiter_prefs = dict([(s, random.sample(reviewers, len(reviewers))) for s in suiters])\n",
    "reviewer_prefs = dict([(r, random.sample(suiters, len(suiters))) for r in reviewers])\n",
    "\n",
    "pprint(suiter_prefs)\n",
    "pprint(reviewer_prefs)"
   ]
  },
  {
   "cell_type": "code",
   "execution_count": 10,
   "metadata": {},
   "outputs": [
    {
     "name": "stdout",
     "output_type": "stream",
     "text": [
      "{'Abigail': 'Haley', 'Beth': 'Faith', 'Chloe': 'Gaby', 'Daisy': 'Emily'}\n"
     ]
    }
   ],
   "source": [
    "pprint(gale_shapley(suiter_prefs, reviewer_prefs))"
   ]
  },
  {
   "cell_type": "markdown",
   "metadata": {},
   "source": [
    "## College admissions problem"
   ]
  },
  {
   "cell_type": "markdown",
   "metadata": {},
   "source": [
    "~~College admissions problem is a more general variation of stable marriage problem~~ (this statement is proven to be not necessarily true [2]), in which \"suiters\" and \"reviewers\" do not have to be of the same numbers, and each suiter (or reviewer) is not required to have all reviewers ranked in its preferences (and vice versa). Each reviwer also has a capacity of how many suiters it can be matched with at a time. This problem is also known as the hospital/resident problem."
   ]
  },
  {
   "cell_type": "code",
   "execution_count": 11,
   "metadata": {},
   "outputs": [],
   "source": [
    "def prefs(A: Sequence[str], \n",
    "          B: Sequence[str], \n",
    "          size: int) -> Tuple[Mapping[str, Sequence[str]]]:\n",
    "    r\"\"\"Generate a tuple of random preferences of given size for each other\"\"\"\n",
    "    a_prefs = dict([(a, random.sample(B, size)) for a in A])\n",
    "    b_prefs = dict([(b, random.sample(A, size)) for b in B])\n",
    "    return a_prefs, b_prefs"
   ]
  },
  {
   "cell_type": "code",
   "execution_count": 12,
   "metadata": {},
   "outputs": [
    {
     "name": "stdout",
     "output_type": "stream",
     "text": [
      "{'Abigail': ['Faith', 'Emily', 'Gaby'],\n",
      " 'Beth': ['Haley', 'Emily', 'Faith'],\n",
      " 'Chloe': ['Gaby', 'Emily', 'Faith'],\n",
      " 'Daisy': ['Faith', 'Haley', 'Gaby']}\n",
      "{'Emily': ['Chloe', 'Abigail', 'Daisy'],\n",
      " 'Faith': ['Beth', 'Daisy', 'Chloe'],\n",
      " 'Gaby': ['Beth', 'Daisy', 'Abigail'],\n",
      " 'Haley': ['Daisy', 'Abigail', 'Beth']}\n",
      "{'Abigail': 1, 'Beth': 1, 'Chloe': 1, 'Daisy': 1}\n"
     ]
    }
   ],
   "source": [
    "suiter_prefs, reviewer_prefs = prefs(suiters, reviewers, 3)\n",
    "capacities = dict([(s, random.choice([1, 2])) for s in suiters])\n",
    "pprint(suiter_prefs)\n",
    "pprint(reviewer_prefs)\n",
    "pprint(capacities)"
   ]
  },
  {
   "cell_type": "code",
   "execution_count": 27,
   "metadata": {},
   "outputs": [],
   "source": [
    "def gale_shapley_cap(hospital_prefs: Mapping[str, Sequence[str]],\n",
    "                     resident_prefs: Mapping[str, Sequence[str]],\n",
    "                     capacities: Mapping[str, int]) -> Mapping[str, Sequence[str]]:\n",
    "    r\"\"\"Gale-Shapley algorithm for solving the college admissions problem. \n",
    "    Note that this algorithm is different from Gale-Shapley algorithm for \n",
    "    solving the stable marriage problem.\n",
    "    \n",
    "    Args:\n",
    "        hospital_prefs: a dict for preferences of each hospital\n",
    "        resident_prefs: a dict for preferences of each resident\n",
    "        capacities: a dict for capacities of each hospital\n",
    "        \n",
    "    Returns:\n",
    "        a dict that maps each hospital with a list of residents\n",
    "    \"\"\"\n",
    "    matches = defaultdict(list)\n",
    "    unmatched_residents = list(resident_prefs.keys())\n",
    "    while unmatched_residents:\n",
    "        resident = unmatched_residents[0]\n",
    "        hospital = resident_prefs[resident][0]\n",
    "        matches[hospital].append(resident)\n",
    "        \n",
    "        if len(matches[hospital]) > capacities[hospital]:\n",
    "            # if the hospital is matched with more residents than it can hold,\n",
    "            # remove the least preferred resident from its matches\n",
    "            least_pref = max(hospital_prefs[hospital].index(r) \n",
    "                             for r in hospital_prefs[hospital] \n",
    "                             if r in matches[hospital])\n",
    "            matches[hospital].remove(hospital_prefs[hospital][least_pref])\n",
    "            \n",
    "        if len(matches[hospital]) == capacities[hospital]:            \n",
    "            least_pref = max(hospital_prefs[hospital].index(r) \n",
    "                             for r in hospital_prefs[hospital] \n",
    "                             if r in matches[hospital])\n",
    "            for resident in hospital_prefs[hospital][least_pref+1:]:\n",
    "                hospital_prefs[hospital].remove(resident)\n",
    "                if hospital in resident_prefs[resident]:\n",
    "                    resident_prefs[resident].remove(hospital)\n",
    "        \n",
    "        # update the unmatched residents\n",
    "        unmatched_residents = [r for r in resident_prefs if resident_prefs[r] and \n",
    "                               not any([r in rs for rs in matches.values()])]\n",
    "        \n",
    "    for h, rs in matches.items():\n",
    "        matches[h] = sorted(rs, key=hospital_prefs[h].index)\n",
    "    return matches"
   ]
  },
  {
   "cell_type": "code",
   "execution_count": 28,
   "metadata": {},
   "outputs": [
    {
     "ename": "ValueError",
     "evalue": "max() arg is an empty sequence",
     "output_type": "error",
     "traceback": [
      "\u001b[0;31m---------------------------------------------------------------------------\u001b[0m",
      "\u001b[0;31mValueError\u001b[0m                                Traceback (most recent call last)",
      "\u001b[0;32m<ipython-input-28-d50c3caf4270>\u001b[0m in \u001b[0;36m<module>\u001b[0;34m()\u001b[0m\n\u001b[0;32m----> 1\u001b[0;31m \u001b[0mpprint\u001b[0m\u001b[0;34m(\u001b[0m\u001b[0mgale_shapley_cap\u001b[0m\u001b[0;34m(\u001b[0m\u001b[0msuiter_prefs\u001b[0m\u001b[0;34m,\u001b[0m \u001b[0mreviewer_prefs\u001b[0m\u001b[0;34m,\u001b[0m \u001b[0mcapacities\u001b[0m\u001b[0;34m)\u001b[0m\u001b[0;34m)\u001b[0m\u001b[0;34m\u001b[0m\u001b[0m\n\u001b[0m",
      "\u001b[0;32m<ipython-input-27-80c12e0cf898>\u001b[0m in \u001b[0;36mgale_shapley_cap\u001b[0;34m(hospital_prefs, resident_prefs, capacities)\u001b[0m\n\u001b[1;32m     31\u001b[0m         \u001b[0;32mif\u001b[0m \u001b[0mlen\u001b[0m\u001b[0;34m(\u001b[0m\u001b[0mmatches\u001b[0m\u001b[0;34m[\u001b[0m\u001b[0mhospital\u001b[0m\u001b[0;34m]\u001b[0m\u001b[0;34m)\u001b[0m \u001b[0;34m==\u001b[0m \u001b[0mcapacities\u001b[0m\u001b[0;34m[\u001b[0m\u001b[0mhospital\u001b[0m\u001b[0;34m]\u001b[0m\u001b[0;34m:\u001b[0m\u001b[0;34m\u001b[0m\u001b[0m\n\u001b[1;32m     32\u001b[0m             least_pref = max(hospital_prefs[hospital].index(r) \n\u001b[0;32m---> 33\u001b[0;31m                              \u001b[0;32mfor\u001b[0m \u001b[0mr\u001b[0m \u001b[0;32min\u001b[0m \u001b[0mhospital_prefs\u001b[0m\u001b[0;34m[\u001b[0m\u001b[0mhospital\u001b[0m\u001b[0;34m]\u001b[0m\u001b[0;34m\u001b[0m\u001b[0m\n\u001b[0m\u001b[1;32m     34\u001b[0m                              if r in matches[hospital])\n\u001b[1;32m     35\u001b[0m             \u001b[0;32mfor\u001b[0m \u001b[0mresident\u001b[0m \u001b[0;32min\u001b[0m \u001b[0mhospital_prefs\u001b[0m\u001b[0;34m[\u001b[0m\u001b[0mhospital\u001b[0m\u001b[0;34m]\u001b[0m\u001b[0;34m[\u001b[0m\u001b[0mleast_pref\u001b[0m\u001b[0;34m+\u001b[0m\u001b[0;36m1\u001b[0m\u001b[0;34m:\u001b[0m\u001b[0;34m]\u001b[0m\u001b[0;34m:\u001b[0m\u001b[0;34m\u001b[0m\u001b[0m\n",
      "\u001b[0;31mValueError\u001b[0m: max() arg is an empty sequence"
     ]
    }
   ],
   "source": [
    "pprint(gale_shapley_cap(suiter_prefs, reviewer_prefs, capacities))"
   ]
  },
  {
   "cell_type": "markdown",
   "metadata": {},
   "source": [
    "## References"
   ]
  },
  {
   "cell_type": "markdown",
   "metadata": {},
   "source": [
    "1. D. Gale and L. S. Shapley, \"College Admissions and the Stability of Marriage\", The American Mathematical Monthly, Vol. 69, No. 1 (Jan., 1962), pp. 9-15, Mathematical Association of America\n",
    "2. Roth, A. E. \"The College Admissions Problem Is Not Equivalent to the Marriage Problem.\" Journal of Economic Theory 36 (August 1985): 277–288."
   ]
  }
 ],
 "metadata": {
  "kernelspec": {
   "display_name": "Python 3",
   "language": "python",
   "name": "python3"
  },
  "language_info": {
   "codemirror_mode": {
    "name": "ipython",
    "version": 3
   },
   "file_extension": ".py",
   "mimetype": "text/x-python",
   "name": "python",
   "nbconvert_exporter": "python",
   "pygments_lexer": "ipython3",
   "version": "3.6.6"
  }
 },
 "nbformat": 4,
 "nbformat_minor": 2
}
