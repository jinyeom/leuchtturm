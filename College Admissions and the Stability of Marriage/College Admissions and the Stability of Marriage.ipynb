{
 "cells": [
  {
   "cell_type": "markdown",
   "metadata": {},
   "source": [
    "<img src=\"images/stable_marriage.png\" align=right width=30%>\n",
    "# College Admissions and the Stability of Marriage\n",
    "Author: Jin Yeom (jinyeom@utexas.edu)\n",
    "\n",
    "## Contents\n",
    "- [Stable marriage problem](#Stable-marriage-problem)\n",
    "- [College admission problem](#College-admission-problem)\n",
    "- [References](#References)"
   ]
  },
  {
   "cell_type": "code",
   "execution_count": 23,
   "metadata": {},
   "outputs": [],
   "source": [
    "import random\n",
    "from pprint import pprint\n",
    "from copy import deepcopy\n",
    "from typing import Mapping, Sequence, Tuple\n",
    "from collections import defaultdict"
   ]
  },
  {
   "cell_type": "markdown",
   "metadata": {},
   "source": [
    "In this notebook, we'll solve a little problem my girlfriend's sorority is having: matching new littles and bigs. Fortunately, the same problem has been solved long time ago by mathematicians named David Gale and Lloyd Shapley. They called this problem the **stable marriage problem**, or the **college admissions problem** for more general cases."
   ]
  },
  {
   "cell_type": "markdown",
   "metadata": {},
   "source": [
    "## Stable marriage problem"
   ]
  },
  {
   "cell_type": "markdown",
   "metadata": {},
   "source": [
    "*Given n men and n women, where each person has ranked all members of the opposite sex in order of preference, marry the men and women together such that there are no two people of opposite sex who would both rather have each other than their current partners. When there are no such pairs of people, the set of marriages is deemed stable.*"
   ]
  },
  {
   "cell_type": "code",
   "execution_count": 14,
   "metadata": {},
   "outputs": [],
   "source": [
    "# Example from https://en.wikipedia.org/wiki/Stable_marriage_problem\n",
    "# The preferences are modified to make the problem a little more challenging.\n",
    "suiter_prefs = {\"A\": [\"Y\", \"X\", \"Z\"],\n",
    "                \"B\": [\"Y\", \"Z\", \"X\"],\n",
    "                \"C\": [\"X\", \"Z\", \"Y\"]}\n",
    "\n",
    "reviewer_prefs = {\"X\": [\"B\", \"A\", \"C\"],\n",
    "                  \"Y\": [\"C\", \"B\", \"A\"],\n",
    "                  \"Z\": [\"C\", \"A\", \"B\"]}"
   ]
  },
  {
   "cell_type": "code",
   "execution_count": 15,
   "metadata": {},
   "outputs": [
    {
     "name": "stdout",
     "output_type": "stream",
     "text": [
      "{'A': 'X', 'B': 'Y', 'C': 'Z'}\n"
     ]
    }
   ],
   "source": [
    "def gale_shapley(suiter_prefs: Mapping[str, Sequence[str]], \n",
    "                 reviewer_prefs: Mapping[str, Sequence[str]]) -> Mapping[str, str]:\n",
    "    suiters = list(suiter_prefs.keys())\n",
    "    reviewers = list(reviewer_prefs.keys())\n",
    "    # NOTE: this may seem wasteful, but it's either this or linear-time\n",
    "    # search over suiters within each loop; we wouldn't want that, would we?\n",
    "    suiter_matches = dict([(s, None) for s in suiters])\n",
    "    reviewer_matches = dict([(r, None) for r in reviewers])\n",
    "    while suiters:\n",
    "        suiter = suiters.pop(0)\n",
    "        reviewer = suiter_prefs[suiter][0]\n",
    "        # if the current reviewer is not matched yet, match them\n",
    "        if reviewer not in suiter_matches.values():\n",
    "            suiter_matches[suiter] = reviewer\n",
    "            reviewer_matches[reviewer] = suiter\n",
    "        # otherwise, compare current matches of the two with each other\n",
    "        else:\n",
    "            suiter_ = reviewer_matches[reviewer]\n",
    "            if reviewer_prefs[reviewer].index(suiter) < reviewer_prefs[reviewer].index(suiter_):\n",
    "                suiter_matches[suiter_] = None\n",
    "                suiter_matches[suiter] = reviewer\n",
    "                reviewer_matches[reviewer] = suiter\n",
    "                suiters.append(suiter_)\n",
    "            else:\n",
    "                suiter_prefs[suiter].remove(reviewer)\n",
    "                suiters.append(suiter)\n",
    "    return suiter_matches\n",
    "\n",
    "pprint(gale_shapley(suiter_prefs, reviewer_prefs))"
   ]
  },
  {
   "cell_type": "markdown",
   "metadata": {},
   "source": [
    "Now, let's test the algorithm with a larger problem size."
   ]
  },
  {
   "cell_type": "code",
   "execution_count": 16,
   "metadata": {
    "scrolled": true
   },
   "outputs": [
    {
     "name": "stdout",
     "output_type": "stream",
     "text": [
      "{'Abigail': ['Emily', 'Gaby', 'Faith', 'Haley'],\n",
      " 'Beth': ['Faith', 'Gaby', 'Emily', 'Haley'],\n",
      " 'Chloe': ['Faith', 'Haley', 'Gaby', 'Emily'],\n",
      " 'Daisy': ['Gaby', 'Faith', 'Emily', 'Haley']}\n",
      "{'Emily': ['Abigail', 'Daisy', 'Chloe', 'Beth'],\n",
      " 'Faith': ['Beth', 'Chloe', 'Abigail', 'Daisy'],\n",
      " 'Gaby': ['Beth', 'Chloe', 'Abigail', 'Daisy'],\n",
      " 'Haley': ['Daisy', 'Beth', 'Abigail', 'Chloe']}\n"
     ]
    }
   ],
   "source": [
    "suiters = [\"Abigail\", \"Beth\", \"Chloe\", \"Daisy\"]\n",
    "reviewers = [\"Emily\", \"Faith\", \"Gaby\", \"Haley\"]\n",
    "suiter_prefs = dict([(s, random.sample(reviewers, len(reviewers))) for s in suiters])\n",
    "reviewer_prefs = dict([(r, random.sample(suiters, len(suiters))) for r in reviewers])\n",
    "\n",
    "pprint(suiter_prefs)\n",
    "pprint(reviewer_prefs)"
   ]
  },
  {
   "cell_type": "code",
   "execution_count": 17,
   "metadata": {},
   "outputs": [
    {
     "name": "stdout",
     "output_type": "stream",
     "text": [
      "{'Abigail': 'Emily', 'Beth': 'Faith', 'Chloe': 'Haley', 'Daisy': 'Gaby'}\n"
     ]
    }
   ],
   "source": [
    "pprint(gale_shapley(suiter_prefs, reviewer_prefs))"
   ]
  },
  {
   "cell_type": "markdown",
   "metadata": {},
   "source": [
    "## College admissions problem"
   ]
  },
  {
   "cell_type": "markdown",
   "metadata": {},
   "source": [
    "~~College admissions problem is a more general variation of stable marriage problem~~ (this statement is proven to be not necessarily true), in which \"suiters\" and \"reviewers\" do not have to be of the same numbers, and each suiter (or reviewer) is not required to have all reviewers ranked in its preferences (and vice versa). Each reviwer also has a capacity of how many suiters it can be matched with at a time."
   ]
  },
  {
   "cell_type": "code",
   "execution_count": 25,
   "metadata": {},
   "outputs": [],
   "source": [
    "def prefs(A: Sequence[str], \n",
    "          B: Sequence[str], \n",
    "          size: int) -> Tuple[Mapping[str, Sequence[str]]]:\n",
    "    r\"\"\"Generate a tuple of random preferences of given size for each other\"\"\"\n",
    "    a_prefs = dict([(a, random.sample(B, size)) for a in A])\n",
    "    b_prefs = dict([(b, random.sample(A, size)) for b in B])\n",
    "    return a_prefs, b_prefs"
   ]
  },
  {
   "cell_type": "code",
   "execution_count": 26,
   "metadata": {},
   "outputs": [
    {
     "name": "stdout",
     "output_type": "stream",
     "text": [
      "{'Abigail': ['Gaby', 'Emily'],\n",
      " 'Beth': ['Faith', 'Emily'],\n",
      " 'Chloe': ['Haley', 'Emily'],\n",
      " 'Daisy': ['Gaby', 'Faith']}\n",
      "{'Emily': ['Abigail', 'Beth'],\n",
      " 'Faith': ['Beth', 'Abigail'],\n",
      " 'Gaby': ['Daisy', 'Chloe'],\n",
      " 'Haley': ['Chloe', 'Daisy']}\n"
     ]
    }
   ],
   "source": [
    "suiter_prefs, reviewer_prefs = prefs(suiters, reviewers, 2)\n",
    "pprint(suiter_prefs)\n",
    "pprint(reviewer_prefs)"
   ]
  },
  {
   "cell_type": "code",
   "execution_count": null,
   "metadata": {},
   "outputs": [],
   "source": [
    "def galeshapley"
   ]
  },
  {
   "cell_type": "markdown",
   "metadata": {},
   "source": [
    "## References"
   ]
  },
  {
   "cell_type": "markdown",
   "metadata": {},
   "source": [
    "- D. Gale and L. S. Shapley, \"College Admissions and the Stability of Marriage\", The American Mathematical Monthly, Vol. 69, No. 1 (Jan., 1962), pp. 9-15, Mathematical Association of America\n",
    "- Roth, A. E. \"The College Admissions Problem Is Not Equivalent to the Marriage Problem.\" Journal of Economic Theory 36 (August 1985): 277–288."
   ]
  }
 ],
 "metadata": {
  "kernelspec": {
   "display_name": "Python 3",
   "language": "python",
   "name": "python3"
  },
  "language_info": {
   "codemirror_mode": {
    "name": "ipython",
    "version": 3
   },
   "file_extension": ".py",
   "mimetype": "text/x-python",
   "name": "python",
   "nbconvert_exporter": "python",
   "pygments_lexer": "ipython3",
   "version": "3.6.5"
  }
 },
 "nbformat": 4,
 "nbformat_minor": 2
}
