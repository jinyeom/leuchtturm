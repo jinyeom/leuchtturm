{
 "cells": [
  {
   "cell_type": "markdown",
   "metadata": {},
   "source": [
    "<img src=\"images/stable_marriage.png\" align=right width=30%>\n",
    "# College Admissions and the Stability of Marriage\n",
    "Author: Jin Yeom (jinyeom@utexas.edu)\n",
    "\n",
    "## Contents\n",
    "- [Stable marriage problem](#Stable-marriage-problem)\n",
    "- [College admission problem](#College-admission-problem)\n",
    "- [References](#References)"
   ]
  },
  {
   "cell_type": "code",
   "execution_count": 1,
   "metadata": {},
   "outputs": [],
   "source": [
    "import random\n",
    "from pprint import pprint\n",
    "from copy import deepcopy\n",
    "from typing import Mapping, Sequence\n",
    "from collections import defaultdict"
   ]
  },
  {
   "cell_type": "markdown",
   "metadata": {},
   "source": [
    "In this notebook, we'll solve a little problem my girlfriend's sorority is having: matching new littles and bigs. Fortunately, the same problem has been solved long time ago by mathematicians named David Gale and Lloyd Shapley. They called this problem the **stable marriage problem**, or the **college admissions problem** for more general cases."
   ]
  },
  {
   "cell_type": "markdown",
   "metadata": {},
   "source": [
    "## Stable marriage problem"
   ]
  },
  {
   "cell_type": "markdown",
   "metadata": {},
   "source": [
    "*Given n men and n women, where each person has ranked all members of the opposite sex in order of preference, marry the men and women together such that there are no two people of opposite sex who would both rather have each other than their current partners. When there are no such pairs of people, the set of marriages is deemed stable.*"
   ]
  },
  {
   "cell_type": "code",
   "execution_count": 2,
   "metadata": {},
   "outputs": [],
   "source": [
    "# Example from https://en.wikipedia.org/wiki/Stable_marriage_problem\n",
    "# The preferences are modified to make the problem a little more challenging.\n",
    "suiter_prefs = {\"A\": [\"Y\", \"X\", \"Z\"],\n",
    "                \"B\": [\"Y\", \"Z\", \"X\"],\n",
    "                \"C\": [\"X\", \"Z\", \"Y\"]}\n",
    "\n",
    "reviewer_prefs = {\"X\": [\"B\", \"A\", \"C\"],\n",
    "                  \"Y\": [\"C\", \"B\", \"A\"],\n",
    "                  \"Z\": [\"C\", \"A\", \"B\"]}"
   ]
  },
  {
   "cell_type": "code",
   "execution_count": 3,
   "metadata": {},
   "outputs": [
    {
     "name": "stdout",
     "output_type": "stream",
     "text": [
      "{'A': 'X', 'B': 'Y', 'C': 'Z'}\n"
     ]
    }
   ],
   "source": [
    "def gale_shapley(suiter_prefs: Mapping[str, Sequence[str]], \n",
    "                 reviewer_prefs: Mapping[str, Sequence[str]]):\n",
    "    suiters = list(suiter_prefs.keys())\n",
    "    reviewers = list(reviewer_prefs.keys())\n",
    "    # NOTE: this may seem wasteful, but it's either this or linear-time\n",
    "    # search over suiters within each loop; we wouldn't want that, would we?\n",
    "    suiter_matches = dict([(s, None) for s in suiters])\n",
    "    reviewer_matches = dict([(r, None) for r in reviewers])\n",
    "    while suiters:\n",
    "        suiter = suiters.pop(0)\n",
    "        reviewer = suiter_prefs[suiter][0]\n",
    "        # if the current reviewer is not matched yet, match them\n",
    "        if reviewer not in suiter_matches.values():\n",
    "            suiter_matches[suiter] = reviewer\n",
    "            reviewer_matches[reviewer] = suiter\n",
    "        # otherwise, compare current matches of the two with each other\n",
    "        else:\n",
    "            suiter_ = reviewer_matches[reviewer]\n",
    "            if reviewer_prefs[reviewer].index(suiter) < reviewer_prefs[reviewer].index(suiter_):\n",
    "                suiter_matches[suiter_] = None\n",
    "                suiter_matches[suiter] = reviewer\n",
    "                reviewer_matches[reviewer] = suiter\n",
    "                suiters.append(suiter_)\n",
    "            else:\n",
    "                suiter_prefs[suiter].remove(reviewer)\n",
    "                suiters.append(suiter)\n",
    "    return suiter_matches\n",
    "\n",
    "pprint(gale_shapley(suiter_prefs, reviewer_prefs))"
   ]
  },
  {
   "cell_type": "markdown",
   "metadata": {},
   "source": [
    "Now, let's test the algorithm with a larger problem size."
   ]
  },
  {
   "cell_type": "code",
   "execution_count": 4,
   "metadata": {
    "scrolled": true
   },
   "outputs": [
    {
     "name": "stdout",
     "output_type": "stream",
     "text": [
      "{'Abigail': ['Haley', 'Faith', 'Emily', 'Gaby'],\n",
      " 'Beth': ['Faith', 'Haley', 'Gaby', 'Emily'],\n",
      " 'Chloe': ['Haley', 'Gaby', 'Faith', 'Emily'],\n",
      " 'Daisy': ['Emily', 'Haley', 'Faith', 'Gaby']}\n",
      "{'Emily': ['Abigail', 'Daisy', 'Beth', 'Chloe'],\n",
      " 'Faith': ['Beth', 'Chloe', 'Abigail', 'Daisy'],\n",
      " 'Gaby': ['Chloe', 'Daisy', 'Beth', 'Abigail'],\n",
      " 'Haley': ['Chloe', 'Abigail', 'Beth', 'Daisy']}\n"
     ]
    }
   ],
   "source": [
    "suiters = [\"Abigail\", \"Beth\", \"Chloe\", \"Daisy\"]\n",
    "reviewers = [\"Emily\", \"Faith\", \"Gaby\", \"Haley\"]\n",
    "suiter_prefs = dict([(s, random.sample(reviewers, len(reviewers))) for s in suiters])\n",
    "reviewer_prefs = dict([(r, random.sample(suiters, len(suiters))) for r in reviewers])\n",
    "\n",
    "pprint(suiter_prefs)\n",
    "pprint(reviewer_prefs)"
   ]
  },
  {
   "cell_type": "code",
   "execution_count": 5,
   "metadata": {},
   "outputs": [
    {
     "name": "stdout",
     "output_type": "stream",
     "text": [
      "{'Abigail': 'Emily', 'Beth': 'Faith', 'Chloe': 'Haley', 'Daisy': 'Gaby'}\n"
     ]
    }
   ],
   "source": [
    "pprint(gale_shapley(suiter_prefs, reviewer_prefs))"
   ]
  },
  {
   "cell_type": "markdown",
   "metadata": {},
   "source": [
    "## College admissions problem"
   ]
  },
  {
   "cell_type": "markdown",
   "metadata": {},
   "source": []
  },
  {
   "cell_type": "code",
   "execution_count": null,
   "metadata": {},
   "outputs": [],
   "source": [
    "res_prefs = dict([(b, np.random.choice(littles, size=2, replace=False).tolist()) for b in bigs])\n",
    "hos_prefs = dict([(l, np.random.choice(bigs, size=2, replace=False).tolist()) for l in littles])"
   ]
  },
  {
   "cell_type": "markdown",
   "metadata": {},
   "source": [
    "## References"
   ]
  },
  {
   "cell_type": "markdown",
   "metadata": {},
   "source": [
    "- D. Gale and L. S. Shapley, College Admissions and the Stability of Marriage, *The American Mathematical Monthly, Vol. 69, No. 1 (Jan., 1962), pp. 9-15*, Mathematical Association of America"
   ]
  }
 ],
 "metadata": {
  "kernelspec": {
   "display_name": "Python 3",
   "language": "python",
   "name": "python3"
  },
  "language_info": {
   "codemirror_mode": {
    "name": "ipython",
    "version": 3
   },
   "file_extension": ".py",
   "mimetype": "text/x-python",
   "name": "python",
   "nbconvert_exporter": "python",
   "pygments_lexer": "ipython3",
   "version": "3.6.5"
  }
 },
 "nbformat": 4,
 "nbformat_minor": 2
}
