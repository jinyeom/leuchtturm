{
 "cells": [
  {
   "cell_type": "markdown",
   "metadata": {},
   "source": [
    "# Neural Relational Inference for Interacting Systems\n",
    "Author: Jin Yeom (jinyeom@utexas.edu)"
   ]
  },
  {
   "cell_type": "markdown",
   "metadata": {},
   "source": [
    "This notebook attempts to understand [this paper](https://arxiv.org/abs/1802.04687) (Kipf et al., 2018) by implementing the Neural Relational Inference (NRI) algorithm with PyTorch. Note that code for generating data is imported from the paper's [original implementation](https://github.com/hudl/relational-inference)."
   ]
  },
  {
   "cell_type": "code",
   "execution_count": 1,
   "metadata": {},
   "outputs": [],
   "source": [
    "import time\n",
    "from typing import Tuple, Sequence\n",
    "import numpy as np\n",
    "from numpy import ndarray as N\n",
    "from matplotlib import pyplot as plt"
   ]
  },
  {
   "cell_type": "code",
   "execution_count": 34,
   "metadata": {},
   "outputs": [],
   "source": [
    "# from https://github.com/hudl/relational-inference/blob/master/data/synthetic_sim.py\n",
    "\n",
    "class SpringSim(object):\n",
    "    def __init__(self, \n",
    "            n_balls: int = 5, \n",
    "            box_size: float = 5.0, \n",
    "            loc_std: float = 0.5, \n",
    "            vel_norm: float = 0.5,\n",
    "            interaction_strength: float = 0.1, \n",
    "            noise_var: float = 0.0):\n",
    "        self.n_balls = n_balls\n",
    "        self.box_size = box_size\n",
    "        self.loc_std = loc_std\n",
    "        self.vel_norm = vel_norm\n",
    "        self.interaction_strength = interaction_strength\n",
    "        self.noise_var = noise_var\n",
    "\n",
    "        self._spring_types = np.array([0.0, 0.5, 1.0])\n",
    "        self._delta_T = 0.001\n",
    "        self._max_F = 0.1 / self._delta_T\n",
    "\n",
    "    def energy(self, \n",
    "            loc: N, \n",
    "            vel: N, \n",
    "            edges: N) -> float:\n",
    "        with np.errstate(divide='ignore'):\n",
    "            K = 0.5 * (vel ** 2).sum()\n",
    "            U = 0.0\n",
    "            for i in range(loc.shape[1]):\n",
    "                for j in range(loc.shape[1]):\n",
    "                    if i != j:\n",
    "                        r = loc[:, i] - loc[:, j]\n",
    "                        dist = np.sqrt((r ** 2).sum())\n",
    "                        U += 0.5 * self.interaction_strength * edges[i, j] * (dist ** 2) / 2\n",
    "            return U + K\n",
    "\n",
    "    def _clamp(self,\n",
    "            loc: N,\n",
    "            vel: N) -> Tuple[N, N]:\n",
    "        assert np.all(loc < self.box_size * 3)\n",
    "        assert np.all(loc > -self.box_size * 3)\n",
    "\n",
    "        over = loc > self.box_size\n",
    "        loc[over] = 2 * self.box_size - loc[over]\n",
    "        assert np.all(loc <= self.box_size)\n",
    "        \n",
    "        vel[over] = -np.abs(vel[over])\n",
    "        under = loc < -self.box_size\n",
    "        loc[under] = -2 * self.box_size - loc[under]\n",
    "        assert np.all(loc >= -self.box_size)\n",
    "        \n",
    "        vel[under] = np.abs(vel[under])\n",
    "        return loc, vel\n",
    "\n",
    "    def _l2(self, \n",
    "            A: N, \n",
    "            B: N) -> float:\n",
    "        A_norm = (A ** 2).sum(axis=1).reshape(A.shape[0], 1)\n",
    "        B_norm = (B ** 2).sum(axis=1).reshape(1, B.shape[0])\n",
    "        dist = A_norm + B_norm - 2 * A.dot(B.transpose())\n",
    "        return dist\n",
    "\n",
    "    def sample_trajectory(self,\n",
    "            T: int = 10000,\n",
    "            sample_freq: int = 10,\n",
    "            spring_prob: Tuple[float] = (0.5, 0.0, 0.5)) -> Tuple[N, N, N]:\n",
    "        n = self.n_balls\n",
    "        assert T % sample_freq == 0\n",
    "        T_save = int(T / sample_freq - 1)\n",
    "        diag_mask = np.ones((n, n), dtype=bool)\n",
    "        np.fill_diagonal(diag_mask, 0)\n",
    "        counter = 0\n",
    "        \n",
    "        # Sample edges\n",
    "        edges = np.random.choice(self._spring_types,\n",
    "                                 size=(self.n_balls, self.n_balls),\n",
    "                                 p=spring_prob)\n",
    "        edges = np.tril(edges) + np.tril(edges, -1).T\n",
    "        np.fill_diagonal(edges, 0.0)\n",
    "        \n",
    "        # Initialize location and velocity\n",
    "        loc = np.zeros((T_save, 2, n))\n",
    "        vel = np.zeros((T_save, 2, n))\n",
    "        loc_next = np.random.randn(2, n) * self.loc_std\n",
    "        vel_next = np.random.randn(2, n)\n",
    "        v_norm = np.sqrt((vel_next ** 2).sum(axis=0)).reshape(1, -1)\n",
    "        vel_next = vel_next * self.vel_norm / v_norm\n",
    "        loc[0, :, :], vel[0, :, :] = self._clamp(loc_next, vel_next)\n",
    "\n",
    "        with np.errstate(divide='ignore'):\n",
    "            forces_size = -self.interaction_strength * edges\n",
    "            np.fill_diagonal(forces_size, 0.0)\n",
    "            F = (forces_size.reshape(1, n, n) *\n",
    "                 np.concatenate((np.subtract.outer(loc_next[0, :],\n",
    "                                 loc_next[0, :]).reshape(1, n, n),\n",
    "                                 np.subtract.outer(loc_next[1, :],\n",
    "                                 loc_next[1, :]).reshape(1, n, n)))).sum(axis=-1)\n",
    "            F[F > self._max_F] = self._max_F\n",
    "            F[F < -self._max_F] = -self._max_F\n",
    "\n",
    "            vel_next += self._delta_T * F\n",
    "            for i in range(1, T):\n",
    "                loc_next += self._delta_T * vel_next\n",
    "                loc_next, vel_next = self._clamp(loc_next, vel_next)\n",
    "\n",
    "                if i % sample_freq == 0:\n",
    "                    loc[counter, :, :], vel[counter, :, :] = loc_next, vel_next\n",
    "                    counter += 1\n",
    "\n",
    "                forces_size = - self.interaction_strength * edges\n",
    "                np.fill_diagonal(forces_size, 0)\n",
    "                F = (forces_size.reshape(1, n, n) *\n",
    "                     np.concatenate((np.subtract.outer(loc_next[0, :],\n",
    "                                     loc_next[0, :]).reshape(1, n, n),\n",
    "                                     np.subtract.outer(loc_next[1, :],\n",
    "                                     loc_next[1, :]).reshape(1, n, n)))).sum(axis=-1)\n",
    "                F[F > self._max_F] = self._max_F\n",
    "                F[F < -self._max_F] = -self._max_F                \n",
    "                vel_next += self._delta_T * F\n",
    "                \n",
    "            # Add noise to observations\n",
    "            loc += np.random.randn(T_save, 2, self.n_balls) * self.noise_var\n",
    "            vel += np.random.randn(T_save, 2, self.n_balls) * self.noise_var\n",
    "            return loc, vel, edges"
   ]
  },
  {
   "cell_type": "code",
   "execution_count": 46,
   "metadata": {},
   "outputs": [
    {
     "name": "stdout",
     "output_type": "stream",
     "text": [
      "Simulation time: 0.21265172958374023\n"
     ]
    },
    {
     "data": {
      "image/png": "[encoded data removed]",
      "text/plain": [
       "<matplotlib.figure.Figure at 0x7f82c7b3cc88>"
      ]
     },
     "metadata": {},
     "output_type": "display_data"
    },
    {
     "data": {
      "image/png": "[encoded data removed]",
      "text/plain": [
       "<matplotlib.figure.Figure at 0x7f82c7861ba8>"
      ]
     },
     "metadata": {},
     "output_type": "display_data"
    },
    {
     "data": {
      "image/png": "[encoded data removed]",
      "text/plain": [
       "<matplotlib.figure.Figure at 0x7f82c7c60278>"
      ]
     },
     "metadata": {},
     "output_type": "display_data"
    }
   ],
   "source": [
    "sim = SpringSim()\n",
    "\n",
    "start_time = time.time()\n",
    "loc, vel, edges = sim.sample_trajectory(T=5000, sample_freq=100)\n",
    "duration = time.time() - start_time\n",
    "print(f\"Simulation time: {duration}\")\n",
    "\n",
    "plt.matshow(edges)\n",
    "\n",
    "plt.figure()\n",
    "axes = plt.gca()\n",
    "axes.set_xlim([-5., 5.])\n",
    "axes.set_ylim([-5., 5.])\n",
    "for i in range(loc.shape[-1]):\n",
    "    plt.plot(loc[:, 0, i], loc[:, 1, i])\n",
    "    plt.plot(loc[0, 0, i], loc[0, 1, i], 'd')\n",
    "    \n",
    "plt.figure()\n",
    "energies = [sim.energy(loc[i, :, :], vel[i, :, :], edges) for i in range(loc.shape[0])]\n",
    "plt.plot(energies)\n",
    "plt.show()"
   ]
  },
  {
   "cell_type": "code",
   "execution_count": 48,
   "metadata": {
    "collapsed": true
   },
   "outputs": [],
   "source": [
    "# from https://github.com/hudl/relational-inference/blob/master/data/synthetic_sim.py\n",
    "\n",
    "class ChargedParticlesSim(object):\n",
    "    def __init__(self, \n",
    "            n_balls: int = 5, \n",
    "            box_size: float = 5.0, \n",
    "            loc_std: float = 1.0, \n",
    "            vel_norm: float = 0.5,\n",
    "            interaction_strength: float = 1.0, \n",
    "            noise_var: float = 0.0):\n",
    "        self.n_balls = n_balls\n",
    "        self.box_size = box_size\n",
    "        self.loc_std = loc_std\n",
    "        self.vel_norm = vel_norm\n",
    "        self.interaction_strength = interaction_strength\n",
    "        self.noise_var = noise_var\n",
    "\n",
    "        self._charge_types = np.array([-1.0, 0.0, 1.0])\n",
    "        self._delta_T = 0.001\n",
    "        self._max_F = 0.1 / self._delta_T\n",
    "\n",
    "    def _l2(self, \n",
    "            A: N, \n",
    "            B: N) -> Tuple[N, N]:\n",
    "        A_norm = (A ** 2).sum(axis=1).reshape(A.shape[0], 1)\n",
    "        B_norm = (B ** 2).sum(axis=1).reshape(1, B.shape[0])\n",
    "        dist = A_norm + B_norm - 2 * A.dot(B.transpose())\n",
    "        return dist\n",
    "\n",
    "    def energy(self, \n",
    "            loc: N, \n",
    "            vel: N, \n",
    "            edges: N) -> float:\n",
    "        with np.errstate(divide='ignore'):\n",
    "            K = 0.5 * (vel ** 2).sum()\n",
    "            U = 0.0\n",
    "            for i in range(loc.shape[1]):\n",
    "                for j in range(loc.shape[1]):\n",
    "                    if i != j:\n",
    "                        r = loc[:, i] - loc[:, j]\n",
    "                        dist = np.sqrt((r ** 2).sum())\n",
    "                        U += 0.5 * self.interaction_strength * edges[i, j] / dist\n",
    "            return U + K\n",
    "\n",
    "    def _clamp(self, \n",
    "            loc: N, \n",
    "            vel: N) -> Tuple[N, N]:\n",
    "        assert np.all(loc < self.box_size * 3)\n",
    "        assert np.all(loc > -self.box_size * 3)\n",
    "\n",
    "        over = loc > self.box_size\n",
    "        loc[over] = 2 * self.box_size - loc[over]\n",
    "        assert np.all(loc <= self.box_size)\n",
    "\n",
    "        vel[over] = -np.abs(vel[over])\n",
    "        under = loc < -self.box_size\n",
    "        loc[under] = -2 * self.box_size - loc[under]\n",
    "        assert np.all(loc >= -self.box_size)\n",
    "        \n",
    "        vel[under] = np.abs(vel[under])\n",
    "        return loc, vel\n",
    "\n",
    "    def sample_trajectory(self, \n",
    "            T: int = 10000, \n",
    "            sample_freq: int = 10,\n",
    "            charge_prob: Tuple[float] = (0.5, 0.0, 0.5)) -> Tuple[N, N, N]:\n",
    "        n = self.n_balls\n",
    "        assert T % sample_freq == 0\n",
    "        T_save = int(T / sample_freq - 1)\n",
    "        diag_mask = np.ones((n, n), dtype=bool)\n",
    "        np.fill_diagonal(diag_mask, 0)\n",
    "        counter = 0\n",
    "        \n",
    "        # Sample edges\n",
    "        charges = np.random.choice(self._charge_types, \n",
    "                                   size=(self.n_balls, 1),\n",
    "                                   p=charge_prob)\n",
    "        edges = charges.dot(charges.transpose())\n",
    "        \n",
    "        # Initialize location and velocity\n",
    "        loc = np.zeros((T_save, 2, n))\n",
    "        vel = np.zeros((T_save, 2, n))\n",
    "        loc_next = np.random.randn(2, n) * self.loc_std\n",
    "        vel_next = np.random.randn(2, n)\n",
    "        v_norm = np.sqrt((vel_next ** 2).sum(axis=0)).reshape(1, -1)\n",
    "        vel_next = vel_next * self.vel_norm / v_norm\n",
    "        loc[0, :, :], vel[0, :, :] = self._clamp(loc_next, vel_next)\n",
    "\n",
    "        with np.errstate(divide='ignore'):\n",
    "            # half step leapfrog\n",
    "            l2 = self._l2(loc_next.transpose(), loc_next.transpose())\n",
    "            l2_dist_power3 = np.power(l2, 1.5)\n",
    "\n",
    "            # size of forces up to a 1/|r| factor\n",
    "            # since I later multiply by an unnormalized r vector\n",
    "            forces_size = self.interaction_strength * edges / l2_dist_power3\n",
    "            np.fill_diagonal(forces_size, 0.0)\n",
    "            assert np.abs(forces_size[diag_mask]).min() > 1e-10\n",
    "            F = (forces_size.reshape(1, n, n) *\n",
    "                 np.concatenate((np.subtract.outer(loc_next[0, :], \n",
    "                                                   loc_next[0, :]).reshape(1, n, n),\n",
    "                                 np.subtract.outer(loc_next[1, :], \n",
    "                                                   loc_next[1, :]).reshape(1, n, n))))\n",
    "            F = F.sum(axis=-1)\n",
    "            F[F > self._max_F] = self._max_F\n",
    "            F[F < -self._max_F] = -self._max_F\n",
    "\n",
    "            vel_next += self._delta_T * F\n",
    "            for i in range(1, T):\n",
    "                loc_next += self._delta_T * vel_next\n",
    "                loc_next, vel_next = self._clamp(loc_next, vel_next)\n",
    "\n",
    "                if i % sample_freq == 0:\n",
    "                    loc[counter, :, :], vel[counter, :, :] = loc_next, vel_next\n",
    "                    counter += 1\n",
    "\n",
    "                l2 = self._l2(loc_next.transpose(), loc_next.transpose())\n",
    "                l2_dist_power3 = np.power(l2, 1.5)\n",
    "                forces_size = self.interaction_strength * edges / l2_dist_power3\n",
    "                np.fill_diagonal(forces_size, 0)\n",
    "\n",
    "                F = (forces_size.reshape(1, n, n) *\n",
    "                     np.concatenate((np.subtract.outer(loc_next[0, :], \n",
    "                                                       loc_next[0, :]).reshape(1, n, n),\n",
    "                                     np.subtract.outer(loc_next[1, :],\n",
    "                                                       loc_next[1, :]).reshape(1, n, n))))\n",
    "                F = F.sum(axis=-1)\n",
    "                F[F > self._max_F] = self._max_F\n",
    "                F[F < -self._max_F] = -self._max_F\n",
    "                vel_next += self._delta_T * F\n",
    "                \n",
    "            # Add noise to observations\n",
    "            loc += np.random.randn(T_save, 2, self.n_balls) * self.noise_var\n",
    "            vel += np.random.randn(T_save, 2, self.n_balls) * self.noise_var\n",
    "            return loc, vel, edges"
   ]
  },
  {
   "cell_type": "code",
   "execution_count": 55,
   "metadata": {},
   "outputs": [
    {
     "name": "stdout",
     "output_type": "stream",
     "text": [
      "Simulation time: 0.31437039375305176\n"
     ]
    },
    {
     "data": {
      "image/png": "[encoded data removed]",
      "text/plain": [
       "<matplotlib.figure.Figure at 0x7f82c7db99b0>"
      ]
     },
     "metadata": {},
     "output_type": "display_data"
    },
    {
     "data": {
      "image/png": "[encoded data removed]",
      "text/plain": [
       "<matplotlib.figure.Figure at 0x7f82c7dbc240>"
      ]
     },
     "metadata": {},
     "output_type": "display_data"
    },
    {
     "data": {
      "image/png": "[encoded data removed]",
      "text/plain": [
       "<matplotlib.figure.Figure at 0x7f82c7b59320>"
      ]
     },
     "metadata": {},
     "output_type": "display_data"
    }
   ],
   "source": [
    "sim = ChargedParticlesSim()\n",
    "\n",
    "start_time = time.time()\n",
    "loc, vel, edges = sim.sample_trajectory(T=5000, sample_freq=100)\n",
    "duration = time.time() - start_time\n",
    "print(f\"Simulation time: {duration}\")\n",
    "\n",
    "plt.matshow(edges)\n",
    "\n",
    "plt.figure()\n",
    "axes = plt.gca()\n",
    "axes.set_xlim([-5., 5.])\n",
    "axes.set_ylim([-5., 5.])\n",
    "for i in range(loc.shape[-1]):\n",
    "    plt.plot(loc[:, 0, i], loc[:, 1, i])\n",
    "    plt.plot(loc[0, 0, i], loc[0, 1, i], 'd')\n",
    "    \n",
    "plt.figure()\n",
    "energies = [sim.energy(loc[i, :, :], vel[i, :, :], edges) for i in range(loc.shape[0])]\n",
    "plt.plot(energies)\n",
    "plt.show()"
   ]
  },
  {
   "cell_type": "code",
   "execution_count": null,
   "metadata": {
    "collapsed": true
   },
   "outputs": [],
   "source": []
  },
  {
   "cell_type": "markdown",
   "metadata": {},
   "source": [
    "## References\n",
    "- arXiv:1802.04687v2 \\[stat.ML\\]"
   ]
  }
 ],
 "metadata": {
  "kernelspec": {
   "display_name": "Python 3",
   "language": "python",
   "name": "python3"
  },
  "language_info": {
   "codemirror_mode": {
    "name": "ipython",
    "version": 3
   },
   "file_extension": ".py",
   "mimetype": "text/x-python",
   "name": "python",
   "nbconvert_exporter": "python",
   "pygments_lexer": "ipython3",
   "version": "3.6.3"
  }
 },
 "nbformat": 4,
 "nbformat_minor": 2
}
