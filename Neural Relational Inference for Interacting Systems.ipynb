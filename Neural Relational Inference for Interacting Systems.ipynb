{
 "cells": [
  {
   "cell_type": "markdown",
   "metadata": {},
   "source": [
    "<img src=\"images/nri_sm.png\" width=25% align=\"right\"/>\n",
    "# Neural Relational Inference for Interacting Systems\n",
    "Notebook Author: Jin Yeom (jinyeom@utexas.edu)  \n",
    "Original Authors: Thomas Kipf, Ethan Fetaya, Kuan-Chieh Wang, Max Welling, Richard Zemal"
   ]
  },
  {
   "cell_type": "markdown",
   "metadata": {},
   "source": [
    "This notebook attempts to understand [this paper](https://arxiv.org/abs/1802.04687) (Kipf et al., 2018) by implementing the Neural Relational Inference (NRI) algorithm with PyTorch. Note that code for generating data is imported from the paper's [original implementation](https://github.com/hudl/relational-inference)."
   ]
  },
  {
   "cell_type": "code",
   "execution_count": 26,
   "metadata": {},
   "outputs": [],
   "source": [
    "import time\n",
    "from typing import Tuple, Sequence\n",
    "import numpy as np\n",
    "from matplotlib import pyplot as plt\n",
    "from matplotlib import animation as anime\n",
    "from IPython.display import HTML\n",
    "import seaborn as sns\n",
    "sns.set()\n",
    "import torch\n",
    "from torch import nn\n",
    "from torch.nn import functional as F"
   ]
  },
  {
   "cell_type": "markdown",
   "metadata": {},
   "source": [
    "## Data Generation"
   ]
  },
  {
   "cell_type": "markdown",
   "metadata": {},
   "source": [
    "Run the following script below to generate the particle simulation datasets we'll be using.\n",
    "\n",
    "*NOTE: it seems that there is a bug in ipython that doesn't allow display of `stdout` stream immediately, which means there is no way to know how long this process of data generation takes. Until the bug is fixed, I recommend running this script on terminal! Just to provide a bit of estimation, this process (50000 train; 10000 valid; 10000 test; 5 balls) takes at least **3 hours** to generate on a Macbook Pro.*"
   ]
  },
  {
   "cell_type": "code",
   "execution_count": null,
   "metadata": {},
   "outputs": [],
   "source": [
    "%%bash\n",
    "mkdir -p datasets/nri/\n",
    "cd datasets/nri/\n",
    "# git clone https://github.com/ethanfetaya/NRI.git # for HTTPS\n",
    "git clone git@github.com:ethanfetaya/NRI.git\n",
    "python NRI/data/generate_dataset.py \\\n",
    "    --simulation=springs \\\n",
    "    --num-train=50000 \\\n",
    "    --num-valid=10000 \\\n",
    "    --num-test=10000 \\\n",
    "    --length=5000 \\\n",
    "    --length-test=10000 \\\n",
    "    --sample-freq=100 \\\n",
    "    --n-balls=5 \\\n",
    "    --seed=42\n",
    "rm -rf NRI"
   ]
  },
  {
   "cell_type": "markdown",
   "metadata": {},
   "source": [
    "### Visualization"
   ]
  },
  {
   "cell_type": "code",
   "execution_count": 5,
   "metadata": {},
   "outputs": [],
   "source": [
    "def load_dataset(dataset):\n",
    "    loc_train = np.load(f\"datasets/nri/springs/loc_train_{dataset}.npy\")\n",
    "    loc_valid = np.load(f\"datasets/nri/springs/loc_valid_{dataset}.npy\")\n",
    "    loc_test = np.load(f\"datasets/nri/springs/loc_test_{dataset}.npy\")\n",
    "    return loc_train, loc_valid, loc_test"
   ]
  },
  {
   "cell_type": "code",
   "execution_count": 88,
   "metadata": {},
   "outputs": [],
   "source": [
    "def visualize_sample(dataset):\n",
    "    sample_idx = np.random.randint(dataset.shape[0])\n",
    "    sample = dataset[sample_idx]\n",
    "\n",
    "    fig = plt.figure()\n",
    "    ax = plt.axes(xlim=(-3, 3), ylim=(-3, 3))\n",
    "    scatter, = ax.plot([], [], 'o')\n",
    "\n",
    "    def init():\n",
    "        scatter.set_data([], [])\n",
    "        return scatter,\n",
    "\n",
    "    def animate(i):\n",
    "        scatter.set_data(sample[i, 0], sample[i, 1])\n",
    "        return scatter,\n",
    "\n",
    "    return anime.FuncAnimation(fig,\n",
    "                               animate, \n",
    "                               init_func=init,\n",
    "                               frames=sample.shape[0], \n",
    "                               interval=25,\n",
    "                               blit=True)"
   ]
  },
  {
   "cell_type": "code",
   "execution_count": 89,
   "metadata": {},
   "outputs": [
    {
     "name": "stdout",
     "output_type": "stream",
     "text": [
      "(50000, 49, 2, 5)\n"
     ]
    },
    {
     "data": {
      "text/html": [
       "<video width=\"432\" height=\"288\" controls autoplay loop>\n",
       "  <source type=\"video/mp4\" src=\"data:video/mp4;base64,AAAAHGZ0eXBNNFYgAAACAGlzb21pc28yYXZjMQAAAAhmcmVlAAAZeW1kYXQAAAKuBgX//6rcRem9\n",
       "5tlIt5Ys2CDZI+7veDI2NCAtIGNvcmUgMTQ4IHIyNjQzIDVjNjU3MDQgLSBILjI2NC9NUEVHLTQg\n",
       "QVZDIGNvZGVjIC0gQ29weWxlZnQgMjAwMy0yMDE1IC0gaHR0cDovL3d3dy52aWRlb2xhbi5vcmcv\n",
       "eDI2NC5odG1sIC0gb3B0aW9uczogY2FiYWM9MSByZWY9MyBkZWJsb2NrPTE6MDowIGFuYWx5c2U9\n",
       "MHgzOjB4MTEzIG1lPWhleCBzdWJtZT03IHBzeT0xIHBzeV9yZD0xLjAwOjAuMDAgbWl4ZWRfcmVm\n",
       "PTEgbWVfcmFuZ2U9MTYgY2hyb21hX21lPTEgdHJlbGxpcz0xIDh4OGRjdD0xIGNxbT0wIGRlYWR6\n",
       "b25lPTIxLDExIGZhc3RfcHNraXA9MSBjaHJvbWFfcXBfb2Zmc2V0PS0yIHRocmVhZHM9OSBsb29r\n",
       "YWhlYWRfdGhyZWFkcz0xIHNsaWNlZF90aHJlYWRzPTAgbnI9MCBkZWNpbWF0ZT0xIGludGVybGFj\n",
       "ZWQ9MCBibHVyYXlfY29tcGF0PTAgY29uc3RyYWluZWRfaW50cmE9MCBiZnJhbWVzPTMgYl9weXJh\n",
       "bWlkPTIgYl9hZGFwdD0xIGJfYmlhcz0wIGRpcmVjdD0xIHdlaWdodGI9MSBvcGVuX2dvcD0wIHdl\n",
       "aWdodHA9MiBrZXlpbnQ9MjUwIGtleWludF9taW49MjUgc2NlbmVjdXQ9NDAgaW50cmFfcmVmcmVz\n",
       "aD0wIHJjX2xvb2thaGVhZD00MCByYz1jcmYgbWJ0cmVlPTEgY3JmPTIzLjAgcWNvbXA9MC42MCBx\n",
       "cG1pbj0wIHFwbWF4PTY5IHFwc3RlcD00IGlwX3JhdGlvPTEuNDAgYXE9MToxLjAwAIAAAAetZYiE\n",
       "AC///vau/MsrRwuVLh1Ze7NR8uhJcv2IMH1oAAADAADVayF8HlAfiCtA4zV1nAO034bNZg2rl32A\n",
       "OQlw/O9bOEKBL/FwAAVhyMdBEfpP4EWmVW2wfBrTeIxxy9vUHH/NNqeEoIaNIPdf3OBufK0rutRE\n",
       "/xjaUmm/vaN98r9Smci1uRQ4M2EJcOu9VHqye924nt+yhNLo1dSxazSO43BS7YJrx+JD5tZ2iIPi\n",
       "yhqpv/XB5yjiCr50DzyxuK4e5zYIX9uIEFrGazCjZq1hbCxP0ytHteoW1J3ZHBhq+mWixmOFCCnK\n",
       "kjdWuDPc0JiPPDZ/MFzjvapRNT3zGI14n1StjUmlrYdjtILGbEmnLxPHHxr21Kv7MOX9yCKdUcdp\n",
       "CjUGID7zQf7WBvXj4HQA4nzng/MzsaBZCcLGhkNUKc5CXjvRANIyAIaVdjrIvRu4WhyN58dJ4+Gg\n",
       "oF8td+RlBGCdbrk8yFyrPN+8M8HTA/KgBlhmxQupTN8HH5zwACgjytG0k604lB9Y786Nf8EHkwda\n",
       "fZpS5bHe4xjKb7HQRzV/cwk8L7HxsUoH2CRHZ6hdtEf9MeAMNwN10GDChlIJ8/gpa0oaD6+gZqeT\n",
       "T4SsB+B03OT3RmA3ThpjcBx/IEc/EkODECdD/EkyTuSikib7OqrxHc4q4gEOz9FmiVF/qzd60q3D\n",
       "Ylf9fSJhYObTajF0IEwD+vLoJUZA9VXKyKWVpAGaCMM11bWXSCGOLM7sBX2/inmnVer4hT/kzPJ8\n",
       "IFi3+LfK3bETLzl+n1lR2n7CTNnTyMBjng4Vx9P0Z4tIKAdN84VIJd3oRh2YUdFwX/isFdVXOCMH\n",
       "a7+BpWU7BCwlUJLxRLzf/Nj25HLQ91XCmuV63GOYwya//8T+wG2CTOJokQKJMpfaHwT/0qZvku/9\n",
       "NiiO6ITEXAYM/25kY/mwPSyVF5DAi17HTiaKUSCxvX5FoUKk8CnXRjPly8lX4wVswCLXbp/IlePo\n",
       "z4naPFi9AOw/u9pwYxNpsmelszsNXEx/RzxudFKdYzxNRl6Vx71fdWTfHTRfU4UCYS1h+jn9mA/w\n",
       "WJy9LBtQ6Z/RKh/eSoDc62qg/wA8cjhKgqG3wx6Qxk/NDs+rG+fiZ8SqsO4KxaLQiZS8jeO8HO4Y\n",
       "0NuQJVtCjpszOk0LuSch01NptURjQGbOtU74Y1aNnDB5sDp1t9t10HbCfmFcyENqduzBYs8KZHS0\n",
       "bq5L8xZc5QYhyt72bTa43uANM4FW9YUKYjn8uqVxZF6xaiZ5mceLBN1HyCnZH9HTHJM2uvd5h1MI\n",
       "J/na/x3GSk7XpfpzyoKvSf9pEBDFab1L3+5Lumpmwak80GKutcgXAjgvc9r9NhrbdAWuJT9RUVmN\n",
       "q9GtZhkZFGxgUnEMkRgBiaWDaNC3j7Fjga3bCjwHBFLqUVOvOOGZM5x1povIRJV3HVx7pnaCdrUM\n",
       "bdeRIduJJjg5ZrZdY4C4GiXrWiTaeijCzKagHQvpSvTBPP/+mUzhMFgHOpesT7KjO44yc9KKN2LF\n",
       "NZd1L5xeWVbHBW+FOREElmeEL7YCwKakmxfmLJSApnHLzVZm4f9NySoxRjhEjVUETciwwO5MIB5r\n",
       "EjxKDdbqAFTLGwFg9GK5fGUv6xUgh6pTKJHXEyW2+FT+4/kPPlCZqa6J4+xH8XjQ3h+WentCk2RF\n",
       "KUtW7o7ELv2/92O3YUG6JDM4PQFLfDvZvtbqA4ippsv5fG0IDqxHzVrbxURBbL//vTOYINbVtCyj\n",
       "EPWrwxotrBlMUvv/0LCaHCrBzovCuCZGHRSRyRSUh2xTxEppUisMlu9mdFw/GLb9ZqEdBiEELydU\n",
       "qfYB65aD0EuES7evDAllF1a4/iiavO2TlNM+HA8PhlIHg+9/ReHB7frbQ1A/TAlBs1VoeMj9eLkU\n",
       "lbyxGqgFaOy359YVqjgyv5NYRdNBo/Zo0IICxv8j5nZ2GWUGvc+4tWmkDX3vzZyGvrhOHJIH+app\n",
       "hBMnwmHYpSbVG3MC4LnPfyfDs+o36mAQ34V9hLyKtfcrHfZoVx288xKfJea6G8BkiKmatixzrf9Y\n",
       "aAnqfS/E8m4ntV6+VI7/0wl0soLsrCzG1gDQWyMjixFeTjsJp7nUauSlwQ7fg9hbPNzojBbLEI5g\n",
       "YLbX3xFuAhECq9N/oVDhxIJl/EOjhHYV2xhJbwayqFSImKQES1jJEIjfzJWXG360GNw/PHZH0AHp\n",
       "zRKDWnInbtpFPWn5nYg3fhI+rnJYQs5P77o6h5sqtgJw4WH2WnQTYXnff/EbsVueuPv7zL9jYN/j\n",
       "Dww/hx6rUlKFaplxv4bZe8cmiGMgk/MncZK9hjN+llO/py00R26avN+qVSwyT1lgP6aPzUF+j46P\n",
       "6NdXMv53ON5ZudVeGHCf3JtyFJTOGy8Fs3/1jKXCd0utmuVN+TElUtlnzf2y6Mw2KIYgFZvtsvxd\n",
       "dKGT1zb2aU0D1JartJ50+7lSNcEfCY8e8zuLpsADFx2uoKDZZBAiwcd39/pqeKscwO1EUYxtlO6e\n",
       "WHKjk8YMGcjMF1LA4XEr39UyLkEK4vb2BzDxB3WZUGXh3KQMZcJzy84yHfV4cawKIHSiTGDozEEU\n",
       "g4l5I1r2JeLxdkwgGQAZ4pCqC8nF4T+JAAAAfUGaIWxDP/6eEAG5ut4AUuE6Z63jnTNKhHtWeO/A\n",
       "8RqcJKBWqMZjqTgcmp79I/6F4zNmWJ2xpYcMTAU71u4tln/ef7HRMzis8/kBXkCkmcik+c4ddpnv\n",
       "C1DDsadVRRX4cXl9NCl1Fdtsf8mIduBrfn1PkhQ9xDEEf/sK/tKOAAAAkEGaRTwhkymEM//+nhAA\n",
       "VrffnhCS+l6V3LWgSiwBgQhO7p53v7AC3vpGWWOVZYgLqXLKYex/BRU3QUmYZS3T5MI1ERq0fEe0\n",
       "AFPAmqbuGYCOLfaMK7ai60e/R9yUNk5OuaSmai/JsSkLtpmoTvSMJLT5VNOWHQxtS8FE2m6mIk0u\n",
       "K65ht4pr1fm95sXrFbrSmQAAADtBnmNqU8J/AAtW4AmdFhLRBAL94iRoLmIAixbNOTh89LwgBnFc\n",
       "yaLOK/kgI3hbXKU9Heo/VlhTrxIUwAAAACYBnoJ0Qj8ADX867egm2Wj4pr2z9cw2IXEFbg/vxR/g\n",
       "t4v1UpAw4QAAACUBnoRqQj8ADYRPUbzvxViWJE31B22BhagY12T+HkSfvFzpihDdAAAAskGaiUmo\n",
       "QWiZTAhf//6MsAGUdUEQjQRkEKptOhBkNKqIS8uPBcAW1xOEOY970MdjtWK+wB8ETUx0/n0GSSet\n",
       "AR/+kX6RNcGJvlgIJKcIYZ7spxvQ9vRop1aTVoD7f8LED7+4hj9SYX1TvH43P3ut8vi5QQthuBUo\n",
       "oxxBJq4KN7uIlWIZaIy/v2UtrG2keW9LhEPhk5ojuRnmi+t1mSb59cYkZ7+GeqDffPz02zJwsQ3i\n",
       "ExcAAABSQZ6nRREsJ/8AFr2Mt1aJaFm66AAXRzPmZ622B+XGaywEUE9WgO88GLPZ4ZafdQH1FeaT\n",
       "AJbhDuK+Rgmo4qcQxVTOGl7ATZhSoM4A3BcdvJbgyQAAAEABnsZ0Qj8ADX868RKACdutjDgsxMOt\n",
       "oNQIoWsqNvsvodMTMw44HGdlBQRbZ7ajLdcvnqV6NNNia5y2a6i8GW0IAAAAMQGeyGpCPwAbDd9p\n",
       "4aJcWALF2Gyj1bYZRACzVFSv8eb0UvnumYF3xQ+YhTD5602cvAgAAABwQZrKSahBbJlMCF///oyw\n",
       "AGyqz1FWqLA9ACfKmw891GTJV5StDlEETU+w9x8YZLESWS73YZxDmqOvR6TpDjn70JPJ989uQ2xw\n",
       "pCHHI9/vvJZdZEx0YiHZzob0jaEoPDmbcnZsRIIwGfXQuMuieLDWwQAAAHhBmutJ4QpSZTAhn/6e\n",
       "EABWKviaABt88F8apB+HvnB2dbHIl0s/dB78W/1YLp+KKlBib0wGBdL9jmgyn7fKU7T3TWxzv4OM\n",
       "WIG8vf26KOeDlWzMUC21PixITQsEE56SVyae4WdIl25X/llPTqq04ujJD4wG7z6WbpAAAACHQZsM\n",
       "SeEOiZTAhn/+nhAAWJSapZJB/0NWxaAA0h20qcRUBt2VZ+naOxSEWWz315Pv81IK6YGCxL0L36c9\n",
       "YUj9/fGXr9Jmlm3NgzDMTccOeQguieQr/Z+Ggr3m5HepCJIr3PdpHk/zkajR1yhWzvfheVGpgXbU\n",
       "1h3P1wksp/T7qqO3NodWFUsYAAAAyUGbMEnhDyZTAhn//p4QAFZY78/GvEAQSp7S8HQlcNVBGdrS\n",
       "pgoQlQ/uWAGO+Xu7YTIlOj9/Jxbi8q92b4YNwWJX/S1M8mSaVGRXKjoX9f0UfwQ23UjmFWVySVed\n",
       "nhqr4zzTpLL6PBbd2bxMJj3whE1bISqSRNUDU8zlXjuYJvup9lrQO/LRZoauH2yRdvEHJNCI4KSq\n",
       "ud8M2ZLIaF37C+FhuO34cXJyQRQL8eU3ibExJ+/qogFEksFX53JMdbD1yZJs61JNaCv5UQAAAD9B\n",
       "n05FETwn/wAXNzXVGl0uQACMBLJW2gF63SachDgTLit8ZY2kZo8vDuODNCFOA57N15xcQhgMYPn4\n",
       "sZqVXyEAAAAzAZ9tdEI/ABuX4FRrDzRfQFWSbKQsEJAY0jigViDTRQALJGw143nYYMv05w6fHCKE\n",
       "Wdt1AAAALgGfb2pCPwAboIdIL4Ri8gpnt8QL1gfxgRD7P0AJadto7I4YjSqmlOFE8oexorwAAABl\n",
       "QZt0SahBaJlMCGf//p4QAFYrep9wQAFgE0ziojJlH+hpJO8cCRDrmFHdCz675SGEhLPHR7vYT2QG\n",
       "OVypclZ4JZhtu99RSESQbL5NOBLIdtL0YRCoqmJMJ9AZbWwqAr3J9E7syoAAAAAyQZ+SRREsJ/8A\n",
       "F0qHGQIEqO/Q8JI37iL4oeYshMQOIEABxZRsS3nGT/91D7YavFsoLUMAAAArAZ+xdEI/ABuQIY5L\n",
       "qHFXZBE/YVWmlliT6gAU8HN60qruhbMDyvo1NVdkUAAAACoBn7NqQj8AG6CIxuCLXvbKldRHeLfs\n",
       "26QmyRP5GAsK/0bbxTPV9Mf3Zt4AAACDQZu4SahBbJlMCGf//p4QAFj3355JyRwBW/HF10jpPw3B\n",
       "YIxwIfn/hi1sjv1uy2m0N/Xhq+daPeTOt7eVp0buguWB5eXf4nQ+qdV8CrjWzVF4whBIZDJd3xL5\n",
       "V/JTFlU+oVp9XUBS95v5QSXF9HE5cu2isw2uZpbzgD+iWTf16LhBfHEAAAA0QZ/WRRUsJ/8AF+ng\n",
       "cMPhh1ytpff3LcTC6j57AJxk8j6dQgA/Y82DBOdsmO2/3tO6Zo77gAAAACkBn/V0Qj8AG54TGpXv\n",
       "98JCnQ5J7FnJQwRnuh0WdogxJIaa7ruH5s9tyQAAACgBn/dqQj8AHFh7UvUkL3U9biVX7A0da8UJ\n",
       "bav8Jc4s9HoAgWw4DlidAAAAdkGb/EmoQWyZTAhn//6eEABYa3iXeVeQTXPwqaRYBST7d7nDA+9S\n",
       "fSSnHtXxiCeFfdLkEyjKHrv+Yld+GXq2FBepDnyx/yXyA9zKHQo6IWMFvGm+sGhIEsw/l6Nqq3ns\n",
       "M5+pqvHQ5DreU7cFSD4VNy5V3xPoF1MAAAA2QZ4aRRUsJ/8AF+abXp3LR7SNTmM/zCK8F6yAGskq\n",
       "MZ0aHGhjQrZEpiTB/gchPPx+sWk1jnspAAAAKQGeOXRCPwAcS2ZNhLM8T3WZuCkkJUA50CEANiDs\n",
       "vg+fg83EpjF/WD3AAAAAJwGeO2pCPwAcTbS3E7RD+OU6N+WFj7ouzqFLF4TOnyf2en0cgx6N/wAA\n",
       "AFtBmiBJqEFsmUwIZ//+nhAAWHvQunbx554Q/RUFjjg4WtAlFgDAHtrjXh3KFUPxRvaBE6Di2ACw\n",
       "zb4GwjixwWoAntm/OXUAt0zPZDzUSWXkljo9YXKGCNIgzMnBAAAAOEGeXkUVLCf/ABfmdHyE7hOE\n",
       "Fu+dEAblLUWAATeIN39nNqZS7PC2qPuXIrrl72Zc9VHO2FyBIeUcAAAAJwGefXRCPwAcWNaRIE+X\n",
       "E0KTQYjhwGsVWDMtm6/ZwsJNWDh/tiI68AAAACUBnn9qQj8AHE0GNQOeaPvSPNUPydb9FAVAJfmT\n",
       "LlpTihayN/g9AAAAZ0GaZEmoQWyZTAhn//6eEABa2P/zBYANoMvpDDS2y0jNaAECzxKn8I9Mvjre\n",
       "zaay8pIO/gW9jvTHh3scbdm+2+2nuBUogTdypuyMCOILo2aP7lxM4oSfGfVZe/qSHjwRdeCqNf40\n",
       "fUgAAABCQZ6CRRUsJ/8AGHf+w2n26MJD8CcjgAQZpWXeDRXS+VJ2tokniWYGFz53bp0HFCj6KqAr\n",
       "T/+LFMousyzplFsm30IPAAAALQGeoXRCPwAdCu/IXp80f7IAL66sV49UckOgjaf13l50SiWtFtBg\n",
       "liIS1n0oYgAAADgBnqNqQj8AHPNk75wAHGyFU9kK536JCEA0c0cJ+fYD1sGGgT8YynyHWS2Hw+tG\n",
       "k9OqJ0azy2jh5QAAAKZBmqhJqEFsmUwIX//+jLAAtv2b2bE88k6lAAXUbSNE/z3rGTskp84rNUs9\n",
       "eSF0zD1kQOfbhRNHc4rCT8VYmrep7Basxq1jb3+rBbhm/G98zQjh8IQzRmmAx/gNAFh39PCSYPho\n",
       "cT/rlVooSZ4btXyJsRP9bI2X+bjQM/3kdMKPBFWPFtLSVnjaqY2csGgecQjR8nVE73GXelkpMi0x\n",
       "ui+bHmEBkcpvAAAAREGexkUVLCf/ABknUaChBo3xZ3xSS4AJxUgfTGU/S9bGBTPUefmpDaXtEkMQ\n",
       "wq8Ewt6zLIwe4ZnfrGPkHn0FL/1H8cUhAAAAKQGe5XRCPwAcn4HAN9+2pIw0F6AaSZr/kYIaINZK\n",
       "ooLBWSrFpjt4akg5AAAANgGe52pCPwAduFSl9+/KyrEwAfzqh5oggrZCPkwNVqOnBewCsYRvlCln\n",
       "BpIcnmxtBMCxiP8/gAAAAFpBmulJqEFsmUwIX//+jLAAtwaY9ab60ATulE05Yh383K0gqCHI3FOW\n",
       "S4OeNwI96MqPzcJWs0lXAI1pL4BX22IYieKE+dPZs4y4DyVOage/muIIEITgFZDyywYAAABuQZsN\n",
       "SeEKUmUwIV/+OEAC1acjH+uvAES/boAPlcY8SW+ZXX6/Olst5Bs2NUenFpq3mg1RbutdDEEULDAn\n",
       "e3ZdtwxavB0yvgAHsg8T8lY8eT1DRw+btsdkFxCIoIDj53cjEhzum+8uGHPnB0EMsxEAAABHQZ8r\n",
       "RTRMJ/8AMkiGcE+aHG4UyABxvIp4vJjm+2VABRMPxbWkYbZkLDRwru/NHIgIaGnuW/CskS4akOTQ\n",
       "2sz1KyR2kycg/MAAAABBAZ9KdEI/ADrAtnBlJDlqGQi7+rAATqFrNge8I83n/18MfpkRUA3/0tXB\n",
       "a9vndMc3TAxhdg5Q7ncuDgc6HUn7dpAAAAAsAZ9MakI/ADtoiG6q4DVQBfzIXEFL8AAtBmJX48jK\n",
       "Y5+4+6UKp4Y2lGzlbPEAAABSQZtOSahBaJlMCFf//jhAAtWoQQJYwz5oA5hzQukVTEjaKEymt5W8\n",
       "Gl8A9V9eXR3dirGZASgM8ti6IghU6R9oS7ntdF53595ERoyucTB7W7OvgQAAAE5Bm29J4QpSZTAh\n",
       "P/3xAAbl54hPrQ/eftnkAQ5dZm3IJkrIgyAuM4gjVXRec411BcyLPj08oGYPJ7LHWoNR339FymuA\n",
       "qcdpGu+N3NC3csUAAAAsQZuQSeEOiZTAhH/94QALGkH3kNx4ouHSMd5IASj9/hF+smrT2nkDTTMf\n",
       "LOAAAAVSbW9vdgAAAGxtdmhkAAAAAAAAAAAAAAAAAAAD6AAABMkAAQAAAQAAAAAAAAAAAAAAAAEA\n",
       "AAAAAAAAAAAAAAAAAAABAAAAAAAAAAAAAAAAAABAAAAAAAAAAAAAAAAAAAAAAAAAAAAAAAAAAAAA\n",
       "AAAAAgAABHx0cmFrAAAAXHRraGQAAAADAAAAAAAAAAAAAAABAAAAAAAABMkAAAAAAAAAAAAAAAAA\n",
       "AAAAAAEAAAAAAAAAAAAAAAAAAAABAAAAAAAAAAAAAAAAAABAAAAAAbAAAAEgAAAAAAAkZWR0cwAA\n",
       "ABxlbHN0AAAAAAAAAAEAAATJAAACAAABAAAAAAP0bWRpYQAAACBtZGhkAAAAAAAAAAAAAAAAAAAo\n",
       "AAAAMQBVxAAAAAAALWhkbHIAAAAAAAAAAHZpZGUAAAAAAAAAAAAAAABWaWRlb0hhbmRsZXIAAAAD\n",
       "n21pbmYAAAAUdm1oZAAAAAEAAAAAAAAAAAAAACRkaW5mAAAAHGRyZWYAAAAAAAAAAQAAAAx1cmwg\n",
       "AAAAAQAAA19zdGJsAAAAs3N0c2QAAAAAAAAAAQAAAKNhdmMxAAAAAAAAAAEAAAAAAAAAAAAAAAAA\n",
       "AAAAAbABIABIAAAASAAAAAAAAAABAAAAAAAAAAAAAAAAAAAAAAAAAAAAAAAAAAAAAAAAAAAAGP//\n",
       "AAAAMWF2Y0MBZAAV/+EAGGdkABWs2UGwloQAAAMABAAAAwFAPFi2WAEABmjr48siwAAAABx1dWlk\n",
       "a2hA8l8kT8W6OaUbzwMj8wAAAAAAAAAYc3R0cwAAAAAAAAABAAAAMQAAAQAAAAAUc3RzcwAAAAAA\n",
       "AAABAAAAAQAAAXBjdHRzAAAAAAAAACwAAAACAAACAAAAAAEAAAUAAAAAAQAAAgAAAAABAAAAAAAA\n",
       "AAEAAAEAAAAAAQAABQAAAAABAAACAAAAAAEAAAAAAAAAAQAAAQAAAAADAAACAAAAAAEAAAUAAAAA\n",
       "AQAAAgAAAAABAAAAAAAAAAEAAAEAAAAAAQAABQAAAAABAAACAAAAAAEAAAAAAAAAAQAAAQAAAAAB\n",
       "AAAFAAAAAAEAAAIAAAAAAQAAAAAAAAABAAABAAAAAAEAAAUAAAAAAQAAAgAAAAABAAAAAAAAAAEA\n",
       "AAEAAAAAAQAABQAAAAABAAACAAAAAAEAAAAAAAAAAQAAAQAAAAABAAAFAAAAAAEAAAIAAAAAAQAA\n",
       "AAAAAAABAAABAAAAAAEAAAUAAAAAAQAAAgAAAAABAAAAAAAAAAEAAAEAAAAAAQAAAgAAAAABAAAF\n",
       "AAAAAAEAAAIAAAAAAQAAAAAAAAABAAABAAAAAAMAAAIAAAAAHHN0c2MAAAAAAAAAAQAAAAEAAAAx\n",
       "AAAAAQAAANhzdHN6AAAAAAAAAAAAAAAxAAAKYwAAAIEAAACUAAAAPwAAACoAAAApAAAAtgAAAFYA\n",
       "AABEAAAANQAAAHQAAAB8AAAAiwAAAM0AAABDAAAANwAAADIAAABpAAAANgAAAC8AAAAuAAAAhwAA\n",
       "ADgAAAAtAAAALAAAAHoAAAA6AAAALQAAACsAAABfAAAAPAAAACsAAAApAAAAawAAAEYAAAAxAAAA\n",
       "PAAAAKoAAABIAAAALQAAADoAAABeAAAAcgAAAEsAAABFAAAAMAAAAFYAAABSAAAAMAAAABRzdGNv\n",
       "AAAAAAAAAAEAAAAsAAAAYnVkdGEAAABabWV0YQAAAAAAAAAhaGRscgAAAAAAAAAAbWRpcmFwcGwA\n",
       "AAAAAAAAAAAAAAAtaWxzdAAAACWpdG9vAAAAHWRhdGEAAAABAAAAAExhdmY1Ni40MC4xMDE=\n",
       "\">\n",
       "  Your browser does not support the video tag.\n",
       "</video>"
      ],
      "text/plain": [
       "<IPython.core.display.HTML object>"
      ]
     },
     "execution_count": 89,
     "metadata": {},
     "output_type": "execute_result"
    },
    {
     "data": {
      "image/png": "[encoded data removed]",
      "text/plain": [
       "<Figure size 432x288 with 1 Axes>"
      ]
     },
     "metadata": {},
     "output_type": "display_data"
    }
   ],
   "source": [
    "train, valid, test = load_dataset(\"springs5\")\n",
    "print(train.shape) # (N, T, dims, particles)\n",
    "    \n",
    "anim = visualize_sample(train)\n",
    "HTML(anim.to_html5_video())"
   ]
  },
  {
   "cell_type": "markdown",
   "metadata": {},
   "source": [
    "## Graph Neural Network"
   ]
  },
  {
   "cell_type": "markdown",
   "metadata": {},
   "source": [
    "Graph neural networks (GNN) are a speicalized class of neural networks that operate on graph ($G = (V, E)$) data by passing local messages among nodes. There are variations of message passing methods; in our case, the message passing operator is defined as below,"
   ]
  },
  {
   "cell_type": "markdown",
   "metadata": {},
   "source": [
    "$$\n",
    "\\begin{align*}\n",
    "v \\rightarrow e &: h^l_{(i, j)} = f^l_{e}([h^l_i, h^l_j]) \\\\\n",
    "e \\rightarrow v &: h^{l + 1}_j = f^l_{v}([\\sum_{i \\in N_j}h^l_{(i, j)}])\n",
    "\\end{align*}\n",
    "$$"
   ]
  },
  {
   "cell_type": "markdown",
   "metadata": {},
   "source": [
    "Each pair of nodes that are connected by an edge sends a message with an output of some function $f_e$ (e.g., a neural network) given a concatenated embeddings of the two nodes. Then for each destination node of each edge, its edge signals are aggregated in a sum that is transformed by another function $f_v$. When there are multiple layers of this operator, a message from a node can reach further than just its neighboring nodes."
   ]
  },
  {
   "cell_type": "code",
   "execution_count": null,
   "metadata": {},
   "outputs": [],
   "source": [
    "def node2edge(h: torch.Tensor, \n",
    "              m_in: torch.Tensor, \n",
    "              m_out: torch.Tensor) -> torch.Tensor:\n",
    "    # assuming that the shape of x is (t, f, n),\n",
    "    h_in = torch.matmul(m_in, h)\n",
    "    h_out = torch.matmul(m_out, h)\n",
    "    return torch.cat([h_in, h_out], dim=2)\n",
    "\n",
    "def edge2node(h: torch.Tensor, m_in: torch.Tensor) -> torch.Tensor:\n",
    "    # since M_in for edges is the transpose of M_in for nodes,\n",
    "    return torch.matmul(m_in.t(), h)"
   ]
  },
  {
   "cell_type": "code",
   "execution_count": null,
   "metadata": {},
   "outputs": [],
   "source": [
    "class TwoLayerFcNet(nn.Module):\n",
    "    r\"\"\"\n",
    "    Two-layered fully connected neural network with dropout and \n",
    "    batch normalization, as described in the NRI paper (Kipf, et al.).\n",
    "    \"\"\"\n",
    "    def __init__(self, \n",
    "                 in_dim: int, \n",
    "                 hid_dim: int, \n",
    "                 out_dim: int, \n",
    "                 dropout_rate: float = 0.5):\n",
    "        super(TwoLayerFcNet, self).__init__()\n",
    "        self.fc0 = nn.Linear(in_dim, hid_dim, bias=True)\n",
    "        self.dropout = nn.Dropout(dropout_rate)\n",
    "        self.fc1 = nn.Linear(hid_dim, out_dim, bias=False)\n",
    "        self.bn = nn.BatchNorm1d(out_dim)\n",
    "    \n",
    "    def forward(self, x):\n",
    "        x = F.elu(self.fc0(x))\n",
    "        x = self.dropout(x)\n",
    "        x = F.elu(self.fc1(x))\n",
    "        return self.bn(x)"
   ]
  },
  {
   "cell_type": "markdown",
   "metadata": {},
   "source": [
    "These two components can now be used for building the NRI model.  \n",
    "\n",
    "*Note that a 1D convolutional neural network can be used instead of a fully-connected network. But we'll get to that later.*"
   ]
  },
  {
   "cell_type": "markdown",
   "metadata": {},
   "source": [
    "## Neural Relational Inference"
   ]
  },
  {
   "cell_type": "markdown",
   "metadata": {},
   "source": [
    "![model](images/nri.png)"
   ]
  },
  {
   "cell_type": "markdown",
   "metadata": {},
   "source": [
    "**Neural Relational Inference** (NRI) model is quite similar to the variational autoencoder in that it consists of an encoder, sampling and a decoder. The encoder takes node embeddings during time $1, ..., T$ and makes an inference on interaction types of each edge (a matrix with shape of $E \\times I$, where $E$ is the number of edges and $I$ is the number of interaction types), from which a graph structure is determined by sampling; then the decoder iteratively predicts $\\Delta x^t$ given $x^t$, $t = 1, ..., T$."
   ]
  },
  {
   "cell_type": "code",
   "execution_count": 39,
   "metadata": {},
   "outputs": [],
   "source": [
    "class Encoder(nn.Module):\n",
    "    def __init__(self, \n",
    "                 in_dim: int, \n",
    "                 hid_dim: int, \n",
    "                 out_dim: int):\n",
    "        super(Encoder, self).__init__()\n",
    "        self.f_emb = TwoLayerFcNet(in_dim, hid_dim, hid_dim)\n",
    "        self.f_e1 = TwoLayerFcNet(hid_dim * 2, hid_dim, hid_dim)\n",
    "        self.f_v1 = TwoLayerFcNet(hid_dim, hid_dim, hid_dim)\n",
    "        self.f_e2 = TwoLayerFcNet(hid_dim * 2, hid_dim, hid_dim)\n",
    "        \n",
    "    def forward(self, x, m_in, m_out):\n",
    "        h = self.f_emb(x)\n",
    "        h_e = self.f_e1(node2edge(h_v, m_in, m_out))\n",
    "        h_v = self.f_v1(edge2node(h_e, m_in))\n",
    "        h_e = self.f_e2(node2edge(h_v, m_in, m_out))\n",
    "        return F.softmax(h_e)"
   ]
  },
  {
   "cell_type": "code",
   "execution_count": null,
   "metadata": {},
   "outputs": [],
   "source": [
    "class Decoder(nn.Module):\n",
    "    def __init__(self):\n",
    "        super(Decoder, self).__init__()"
   ]
  },
  {
   "cell_type": "code",
   "execution_count": null,
   "metadata": {},
   "outputs": [],
   "source": [
    "class NRI(nn.Module):\n",
    "    def __init__(self):\n",
    "        super()"
   ]
  },
  {
   "cell_type": "markdown",
   "metadata": {},
   "source": [
    "## Extending with VQ-VAE"
   ]
  },
  {
   "cell_type": "markdown",
   "metadata": {},
   "source": [
    "As the NRI model attempts to learn discrete representations of graphs, one can imagine a direct extension of the NRI algorithm with [VQ-VAE](https://arxiv.org/abs/1711.00937v2) (Oord, et al.), a simple generative model that learns discrete representations."
   ]
  },
  {
   "cell_type": "markdown",
   "metadata": {},
   "source": [
    "## References\n",
    "- Neural Relational Inference for Interacting Systems, [arXiv:1802.04687v2 \\[stat.ML\\]](https://arxiv.org/abs/1802.04687)\n",
    "- Neural Discrete Representation Learning, [arXiv:1711.00937v2 \\[cs.LG\\]](https://arxiv.org/abs/1711.00937v2)"
   ]
  }
 ],
 "metadata": {
  "kernelspec": {
   "display_name": "Python (research)",
   "language": "python",
   "name": "research"
  },
  "language_info": {
   "codemirror_mode": {
    "name": "ipython",
    "version": 3
   },
   "file_extension": ".py",
   "mimetype": "text/x-python",
   "name": "python",
   "nbconvert_exporter": "python",
   "pygments_lexer": "ipython3",
   "version": "3.6.6"
  }
 },
 "nbformat": 4,
 "nbformat_minor": 2
}
