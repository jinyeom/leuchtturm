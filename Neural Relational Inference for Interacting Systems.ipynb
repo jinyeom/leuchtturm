{
 "cells": [
  {
   "cell_type": "markdown",
   "metadata": {},
   "source": [
    "<img src=\"images/nri_sm.png\" width=25% align=\"right\"/>\n",
    "# Neural Relational Inference for Interacting Systems\n",
    "Notebook Author: Jin Yeom (jinyeom@utexas.edu)  \n",
    "Original Authors: Thomas Kipf, Ethan Fetaya, Kuan-Chieh Wang, Max Welling, Richard Zemal\n",
    "\n",
    "## Contents\n",
    "- [Configuration](#Configuration)\n",
    "- [Data Generation](#Data-Generation)\n",
    "- [Dataset and Loaders](#Dataset-and-Loaders)\n",
    "- [Graph Neural Network](#Graph-Neural-Network)\n",
    "- [Neural Relational Inference](#Neural-Relational-Inference)\n",
    "- [References](#References)"
   ]
  },
  {
   "cell_type": "markdown",
   "metadata": {},
   "source": [
    "This notebook attempts to understand [this paper](https://arxiv.org/abs/1802.04687) (Kipf et al., 2018) by implementing the Neural Relational Inference (NRI) algorithm with PyTorch. Note that code for generating data is imported from the paper's [original implementation](https://github.com/hudl/relational-inference)."
   ]
  },
  {
   "cell_type": "code",
   "execution_count": 14,
   "metadata": {},
   "outputs": [],
   "source": [
    "import time\n",
    "from typing import Tuple, Sequence\n",
    "import numpy as np\n",
    "from matplotlib import pyplot as plt\n",
    "from matplotlib import animation as anime\n",
    "from IPython.display import HTML\n",
    "import torch\n",
    "from torch import nn\n",
    "from torch.nn import functional as F"
   ]
  },
  {
   "cell_type": "markdown",
   "metadata": {},
   "source": [
    "## Configuration"
   ]
  },
  {
   "cell_type": "code",
   "execution_count": 12,
   "metadata": {},
   "outputs": [
    {
     "name": "stdout",
     "output_type": "stream",
     "text": [
      "device: cpu\n"
     ]
    }
   ],
   "source": [
    "device = torch.device(\"cuda\" if torch.cuda.is_available() else \"cpu\")\n",
    "print(\"device:\", device)"
   ]
  },
  {
   "cell_type": "markdown",
   "metadata": {},
   "source": [
    "## Data Generation"
   ]
  },
  {
   "cell_type": "markdown",
   "metadata": {},
   "source": [
    "Run the following script below to generate the particle simulation datasets we'll be using.\n",
    "\n",
    "*NOTE: it seems that there is a bug in ipython that doesn't allow display of `stdout` stream immediately, which means there is no way to know how long this process of data generation takes. Until the bug is fixed, I recommend running this script on terminal! Just to provide a bit of estimation, this process (50000 train; 10000 valid; 10000 test; 5 balls) takes at least **3 hours** to generate on a Macbook Pro.*"
   ]
  },
  {
   "cell_type": "code",
   "execution_count": 3,
   "metadata": {},
   "outputs": [
    {
     "name": "stdout",
     "output_type": "stream",
     "text": [
      "Process is interrupted.\n"
     ]
    }
   ],
   "source": [
    "%%bash\n",
    "mkdir -p datasets/nri/\n",
    "cd datasets/nri/\n",
    "# git clone https://github.com/ethanfetaya/NRI.git # for HTTPS\n",
    "git clone git@github.com:ethanfetaya/NRI.git\n",
    "python NRI/data/generate_dataset.py \\\n",
    "    --simulation=springs \\\n",
    "    --num-train=50000 \\\n",
    "    --num-valid=10000 \\\n",
    "    --num-test=10000 \\\n",
    "    --length=5000 \\\n",
    "    --length-test=10000 \\\n",
    "    --sample-freq=100 \\\n",
    "    --n-balls=5 \\\n",
    "    --seed=42\n",
    "rm -rf NRI"
   ]
  },
  {
   "cell_type": "markdown",
   "metadata": {},
   "source": [
    "## Dataset and Loaders"
   ]
  },
  {
   "cell_type": "code",
   "execution_count": 15,
   "metadata": {},
   "outputs": [],
   "source": [
    "class ParticleDataset(torch.utils.data.Dataset):\n",
    "    def __init__(self, root, mode=\"train\"):\n",
    "        ds_name = os.path.basename(root)\n",
    "        self._dataset = np.load(f\"{root}/loc_{mode}_{ds_name}.npy\")\n",
    "\n",
    "    def __len__(self):\n",
    "        return len(self._dataset) # number of samples\n",
    "    \n",
    "    def __getitem__(self, index):\n",
    "        return torch.Tensor(self._dataset[index, :, :, :])"
   ]
  },
  {
   "cell_type": "code",
   "execution_count": 17,
   "metadata": {},
   "outputs": [],
   "source": [
    "def get_loaders(root, batch_size, num_workers):\n",
    "    train_set = ParticleDataset(root, mode=\"train\")\n",
    "    valid_set = ParticleDataset(root, mode=\"valid\")  \n",
    "    test_set = ParticleDataset(root, mode=\"test\")\n",
    "    \n",
    "    train_loader = torch.utils.data.DataLoader(train_set,\n",
    "                                               batch_size=batch_size,\n",
    "                                               shuffle=True,\n",
    "                                               num_workers=num_workers)\n",
    "    valid_loader = torch.utils.data.DataLoader(valid_set,\n",
    "                                               batch_size=batch_size,\n",
    "                                               shuffle=True,\n",
    "                                               num_workers=num_workers)\n",
    "    test_loader = torch.utils.data.DataLoader(test_set,\n",
    "                                              batch_size=batch_size,\n",
    "                                              shuffle=False,\n",
    "                                              num_workers=1)\n",
    "    return train_loader, valid_loader, test_loader"
   ]
  },
  {
   "cell_type": "markdown",
   "metadata": {},
   "source": [
    "Now, let's take a look at what each sample looks like."
   ]
  },
  {
   "cell_type": "code",
   "execution_count": 7,
   "metadata": {},
   "outputs": [],
   "source": [
    "def visualize_sample(dataset):\n",
    "    sample_idx = np.random.randint(dataset.shape[0])\n",
    "    sample = dataset[sample_idx]\n",
    "\n",
    "    fig = plt.figure()\n",
    "    ax = plt.axes(xlim=(-3, 3), ylim=(-3, 3))\n",
    "    ax.set_title(f\"Training sample {sample_idx}\")\n",
    "    scatter, = ax.plot([], [], 'o')\n",
    "\n",
    "    def init():\n",
    "        scatter.set_data([], [])\n",
    "        return scatter,\n",
    "\n",
    "    def animate(i):\n",
    "        scatter.set_data(sample[i, 0], sample[i, 1])\n",
    "        return scatter,\n",
    "\n",
    "    anim = anime.FuncAnimation(fig,\n",
    "                               animate, \n",
    "                               init_func=init,\n",
    "                               frames=sample.shape[0], \n",
    "                               interval=25,\n",
    "                               blit=True)\n",
    "    plt.close() # to prevent `fig` to show\n",
    "    return anim"
   ]
  },
  {
   "cell_type": "code",
   "execution_count": 8,
   "metadata": {},
   "outputs": [
    {
     "name": "stdout",
     "output_type": "stream",
     "text": [
      "(50000, 49, 2, 5)\n"
     ]
    },
    {
     "data": {
      "text/html": [
       "<video width=\"432\" height=\"288\" controls autoplay loop>\n",
       "  <source type=\"video/mp4\" src=\"data:video/mp4;base64,AAAAHGZ0eXBNNFYgAAACAGlzb21pc28yYXZjMQAAAAhmcmVlAAAcuW1kYXQAAAKgBgX//5zcRem9\n",
       "5tlIt5Ys2CDZI+7veDI2NCAtIGNvcmUgMTUyIC0gSC4yNjQvTVBFRy00IEFWQyBjb2RlYyAtIENv\n",
       "cHlsZWZ0IDIwMDMtMjAxNyAtIGh0dHA6Ly93d3cudmlkZW9sYW4ub3JnL3gyNjQuaHRtbCAtIG9w\n",
       "dGlvbnM6IGNhYmFjPTEgcmVmPTMgZGVibG9jaz0xOjA6MCBhbmFseXNlPTB4MzoweDExMyBtZT1o\n",
       "ZXggc3VibWU9NyBwc3k9MSBwc3lfcmQ9MS4wMDowLjAwIG1peGVkX3JlZj0xIG1lX3JhbmdlPTE2\n",
       "IGNocm9tYV9tZT0xIHRyZWxsaXM9MSA4eDhkY3Q9MSBjcW09MCBkZWFkem9uZT0yMSwxMSBmYXN0\n",
       "X3Bza2lwPTEgY2hyb21hX3FwX29mZnNldD0tMiB0aHJlYWRzPTkgbG9va2FoZWFkX3RocmVhZHM9\n",
       "MSBzbGljZWRfdGhyZWFkcz0wIG5yPTAgZGVjaW1hdGU9MSBpbnRlcmxhY2VkPTAgYmx1cmF5X2Nv\n",
       "bXBhdD0wIGNvbnN0cmFpbmVkX2ludHJhPTAgYmZyYW1lcz0zIGJfcHlyYW1pZD0yIGJfYWRhcHQ9\n",
       "MSBiX2JpYXM9MCBkaXJlY3Q9MSB3ZWlnaHRiPTEgb3Blbl9nb3A9MCB3ZWlnaHRwPTIga2V5aW50\n",
       "PTI1MCBrZXlpbnRfbWluPTI1IHNjZW5lY3V0PTQwIGludHJhX3JlZnJlc2g9MCByY19sb29rYWhl\n",
       "YWQ9NDAgcmM9Y3JmIG1idHJlZT0xIGNyZj0yMy4wIHFjb21wPTAuNjAgcXBtaW49MCBxcG1heD02\n",
       "OSBxcHN0ZXA9NCBpcF9yYXRpbz0xLjQwIGFxPTE6MS4wMACAAAAJbmWIhAAv//72rvzLK0cLlS4d\n",
       "WXuzUfLoSXL9iDB9aAAAAwAA1WshfBJn/UClpJBB9hk5Y31qUbjG62YO+jXHSf5/M4rubBjpaW6V\n",
       "XN+vnz5Eg42aV88Bj272hvwtvHRugUNRh8CvH+Jj/FetBdCSxCzZMnQ8QMW2rsaqK8ax25gO/TSS\n",
       "91FP+Vcskuow+N6b5pV7oq9DD6aPagXVtzBlt+Yps27nDLfEqbzm8Ru+VI4s8S/C+YW67Wtc/w50\n",
       "GovLUlSpM8I3Ps9mw0g6T/geL3NrliXdbRtNJay4E08w3vayoARXqkpbRzE4GqrkxS6k4iMOnI1U\n",
       "5jQC1IeOBdIzFGuUVd7TfwubUODlaK4qhVxeJZnz/pOExUnavJLtdshfQIhwxDd8c1/0PYZDrBGJ\n",
       "E2jHsgbXw68MlcP4Kgo65VjI3N0/6dy6vqyE1dZWrdF0PUXS1C1XvXLo4HWIRoagheIM4nbvvTWS\n",
       "fUdQdMFMF5mQtFqpNyw8qTvysWw7rmxZH93sEjkCqj60/LKirMm65I655a4Tbad03ZrsWWjAJ8Od\n",
       "PV8WqoYcE9+eYlejax/hktsg2jLMsy4a1sQwY0dv4p7Ym/CsFqAH3w0yzrSqwR5aEkpiQpK/X1bH\n",
       "1ZF575YamPW2/iXLGBzdb7B1sePFELoaeJi0+SXqCIQ3H/XzCC3G75KN9pc60LrNR5RPtIielXdK\n",
       "m3asnycMTaG5l3Kb36Tq8m44hxVMYnbaOSvlLtcQtPveMoTH7F/HDeU96gx7II/J2gVIHkwaeFkd\n",
       "iXnGYf7P0xmFgvvSWqMNI3IDJSZf9kMNAs8kLtZ+pi9ox7gqgCL/nW0OvcqZLM3BTdw6/PPcL+dP\n",
       "vOtqw9VrMoRi+Pw9WngVVli4/yzTD+sbISlwmNPf3Exg0H0oiGRbn2SmEcd8DDSJdjRIGU0LhOQL\n",
       "gnYZnv7US/oc15HihlU4TiXN3XoE+68BgsT+aAplFMUzsNI1dSgbNiXoWVBXxAgQkRXVsa+rmaJx\n",
       "GtigRzS+ByfrEHj5dba4VSrJmDulmZZI7dvUKf8+rBq8U7YdFLmnkm57f2bSQNTloN2ime3e3Sn5\n",
       "1o5DpPjGG0NrfqMmc3/UmQnBR0IyUOdAs0THuaSHwYZtVzSCnq2GXxtQXz7Qsqfe0LKgoirxvyVK\n",
       "A3HkLE5gir2UwYH4aDhj4S+2mOVCHZWAAB80tp0mHREkdyOREf9N/+7HFkZH66VwHmZVFHEH6GxS\n",
       "nrXji3Dr9a+qGw4g/K89YUFF+9WdkMN2TLKEXuvM+jHGpZTfk1tKhSJgGmYOQU0POGHYUqO8VQaq\n",
       "CCqXkvjHojQALnomFnvkNZYQvC6IYCnl76l8FzSHF9suMiIqgAjm7VYFGGgA4jfSG7RIDz9sBqkj\n",
       "128lCiQ1iBrvRwzknpwcENzit9UBQCCgstjXd0FmeWgw2++3JmbntyeH7BMHyDoBtieNT/qwOTHF\n",
       "7otrnurH8BHVIZGgGfb29H/bwWoAC4W9AxuwMJy+y9lRlSNxTV0GjSBowzw+HJnRT4ksDXuQcuoF\n",
       "1Igp4vizYypqvc5w+3ZCzKhlyP92HNbU/BGgVSbiMlFH7zvTYI3x9KoX6/e9x2tkDEHjCWe7VV8E\n",
       "Z1Au+hzvP93+828+yTpU0uBkfS/Vy18RwW+Pp3KfHGlqSKNZHzyp+1fbYPC4/RXZ7gy6Q7D7yXC7\n",
       "v30A23hgSR8pcpWSNHPmaM7bw8S2KKEnIS/2AT58Zm2x7ZkOqST6/iQ5Fn3b2qlpxXySpM3GlTnK\n",
       "6m1vufUhyzh6lqjvmdciOKaa50qyNU4aGd77/m0/80/MBMbKLFLcI51R8GXMJuPTYRg+YQEmIlQr\n",
       "+QKIju8N8cCjgnCQ0dfiBTVgw3QTbsNO8dfYp2DLn37V406xetrTw6v7hBAf3vLVZVjW70uSEzMq\n",
       "GzAUg/P6GmdrofvM2N3liGU8DQA8VBSXwsooAziYDybgrhOmGMwHQAAAiQmh84OB1rKUBKDa/r8F\n",
       "j/XGsKeQd/pl02zg9tZo9j3vQ32E44lGQrZ/3gw2Er8OGpmp3Bfz3xhxh876IkItdwt9GonSSXha\n",
       "vUUlYdf1MT3HWxLYp7xcaE6363/GOMSYLcgYx/0wFze35q1bHcY1eQQUXTAhfivX4CIN+KMs29/o\n",
       "vTRlamg8TbkxswT016E1wiyUK8Wp0uPRXvRT7g0uPu5FnQV2OMbRnoFVrAiSV91fHBOJWmrvIAIn\n",
       "UDFoLT7ja2nHKjuEnJCuOZGBWNZgwoEs7f26pPiYjCurBaBS2ZFYokqPdnPtjnCQRMY8vqzV2iRn\n",
       "YJg6fFnwG/jkMUbmgnXHSqaDmJJugJXIjgAgmHAeOrjJ9VP2EFJT05kYxtZjSIEZQLRCr/JdxexJ\n",
       "vPc2x1EOn3msmtCn4IolMG2743uBtoTBWO8rEymHxkHURe/8OUxfZMFzZF8elsed/uqXPMKuNK53\n",
       "j3YB/YKNkdmv3y9CPEz2hCC8fm977EyMBBVEaunATotwUt3YYUHAAjLtmeXQ9AQevq3wVv4JGY7m\n",
       "NwA105i9/X97xMX2DUmcN4ChNv2swZfLBInAYyKNi7JvMrto6CORLZl9ast0EFDnPWqq43tl3g7h\n",
       "eYf+KqBmJyH03v+wrZ0+89zYmNNDwBqVJOfcEv99j/awlEuRZIJsrnq7R2T7EVscQtZ4fE59jdkQ\n",
       "PwW/6yOd3Kj6fYe5vO+PeVLVHkuOQ0qMeroLKHKdpY+qv05oWXBM9caKRJLlMxq6XlC5FFrqgmDI\n",
       "FbZx2k/Wkd8aZxxO15KRxs9BJ+F8wzZ/79Z417q4BQ4DgQcNcojO5t8bAV8QEEbd0fLKG1xx0dy9\n",
       "uaavUOioWI5wD+Q/70Hf8ozNaN/I4ERNPb+qHL0AT0igdLUIDFDxdYpHRtLEeIl1YrVbCwp4XprJ\n",
       "4SDROMu8sQds4hZwZBmMVKU44Xy3MK+xhoL7MIEr9xgTcZruffxxWFzTB3jeqBH+rf3FrUC+rlJg\n",
       "0+GyvGTRL7IXgrXX8QMc60Bd2MSX8jy7G6PyENt+CdN3TVgfgTb6tXmySdZsr3RsHgofv3JA9wZh\n",
       "436mOK5vYvEZ0fiQRPsM5/701z4NhdXCCq1u7orwNOgGkKZNplIU9u83c9IbfixX4Zrypd4dVlwD\n",
       "YUaVUbu31WGofvE/qi+HEgCUhdXPfeEmfzzSqfWrEnuVEfXRGjGj2dhrnIVvwt7bCEpQhGCBSqpo\n",
       "AOuBAAABUUGaIWxC//6MsITic+dLIAQehEB5bjE/BTAZ9Sv3rFrUvna9n8ewn1EbyXhHAP1FwueS\n",
       "u5tn1TRS1Snag5y7/HKK14k9cknp7lTE63Qe8ESAPNyIbM+4DHxFx+nvKq0LNprjVMRgu/555PD5\n",
       "u2JMlW+aco7Y4r05+jPfxMp3K7ZaboHTMK9+lVcbdq9Tig5MJkLB+uVaDDTPCLsuy80wEHK04kJV\n",
       "62bfIhroGP9HOEQVh6k01qVQcFFtIRra6sOF1u17xMPMNy1SVESrIu3SyBcB+dyCSML4+nVBnrZ0\n",
       "irQBR2lzt0EUDuGkTek+YOV1scYlibwsnxR6vTqqSsE6Ib5XexRlVACN1TXpv/9Ox2u+DiLCfZ7N\n",
       "5tQB6kkogkV5Ik9Gv13nMoqHt8ZLzxreprmKuFEaFK/ryoC0RXprf0N2APE5ho7pmVQcQTBuz89s\n",
       "BeEAAADLQZpDPCGTKYQv//6MsCmJZawCDkcK5PvDTxThBhqpuGTnr7wkWcs7Z3QNFcswDXOctJGc\n",
       "547y/nwlVKcN8s9ikh226Xi6FozBZSUMeOIPclawNPJQIpngIpNIcf4jsX6meqpVRvRcb43rpxfp\n",
       "JFOhHPvC+TDyavOsHXd3aU3zrUq9sY8powfKopvxEtLoqRtyrBF9vSVZGSJWs3Q+T4KImdVGxU48\n",
       "cuD575EhPbe/f8Q4yoQzDax4Ye5K2nB13gveV/wAW0Rw9ccwAzsAAABMAZ5iakI/AvILkYpiDvdF\n",
       "gvgfIsACYg3zwEnoN4RFnmWcatyRetWU27qsEvsDocbyW90fseiUDGjP0qsKpvKF0DuHBxBaMDH+\n",
       "UzsMaAAAAJVBmmVJ4Q8mUwU8K//+OECKRQIBqIUHWbz1+cnptzC8+3ajGm9LSu2gz3+GqJtgoyFp\n",
       "R6mMY7GnIZRbWp+5BJCgPRIKrhyvGHCCWPFem5AMoGu/XR+BLdbojNXENV934YBqFVNhgpRzis8L\n",
       "2p4iKb9pOC9wg2MyGdvNTMMUj1PZfqGpTWSy0aiG/fBpVeJ4yuIm1bmv8QAAAEoBnoRqQj8C8guC\n",
       "Qy0BOCXq4QAlTWvuRT1tPAG8WKRfkRgX11fc7b+48L5BQ5fPCn/A/aIqWq5vOGiPZsdv2gG/iStM\n",
       "wESEnEIvYQAAAJlBmoZJ4Q8mUwIV//44QHquqAEEeZ9Cc0FdQGZJq72snsVxmMOF5oPSRPhM1ABC\n",
       "Bmv9VBY4ifXdCzt+FCasvefvgPzNtmpradSfdZT4z9/nx9Fh1RLSHYwV6qZfbqlaey9E5Qsu/ORe\n",
       "sRm052ZkdvuJCH2mArPknPlQQv45T7Qe4GM8GvkJ4DIansjMmR5RIDKWc3vfii5/h5UAAACDQZqn\n",
       "SeEPJlMCFf/+OEB7C8SATF5n0JzQV1AZlpizrcnsVxmMOF5oPQcSlnXPSoRNhghOhVPm1A3Fs+ZQ\n",
       "ZInTi7mrwSdJl1yNjP3+fEt26ZdWH2bPq0Z9YUYqhwbPDNP9J55qfqYbXQwsKvike/2Syz8y8j0y\n",
       "ZReIdSiIHR/ozdDL/oEAAACFQZrISeEPJlMCF//+jptqgACiPQ4A4vdMQ50iQj0KHIkcJyG37Ikc\n",
       "pGJwuKas9RrLmrptr6q9+esTG/fBpM74TQ9bNbv8E695RubsaD0tSdTMUZEA9RMOEfG4jAdi1bPZ\n",
       "kjTeFPecwwXuF7zXrnDYTQ3BauVb/hS7GrIEBKz/zZJLCQBVfAAAAIRBmulJ4Q8mUwIX//6MsCPe\n",
       "9DADnzYPiNFuqJuY3Jcjr7RZF6Qfp+Vc8oBdqTQLJWIOqQbwBIBHw5u7/qPIozvkfJuCZEdLM4DT\n",
       "k29oejaOe6FDtb0mwVoz6ubbuv8E7eGG04UtNjK5oZX1Z54ZgU7W5mQgET5mEcLBgZUHte0SezZg\n",
       "YzUAAACNQZsKSeEPJlMCF//+jLAjvJ2AOSV3mFKJTIxrKzXvuAXJ7DDu525ah5J8zaidCxP4DtGD\n",
       "lchT25D9pdVF5mPpZ0/d27dvItiCI6RABCT/qtqeT68JMrqK1Rq1in75InWI5UDqiwFmeO5mYNDT\n",
       "EqO9SfLFGSVyoEn8SeAEKE/JSR2dD5EZw1b8iDfAiGBBAAAAhEGbLEnhDyZTBRE8L//+jLAjuzIA\n",
       "L8V/CIOZEsAGbR1NnnIAga+Mp9L6/xOw+clHWc9gpHbNzw5uXuBrs01TPjC5jmhXpH06N3tI80Om\n",
       "g0YWVoz+ERGST7V3U+Zp/uJDAzyG11WToSs213dfP/VTmNMR/NuCp3GFYA0z4ZShLpRZyoeFRAAA\n",
       "AEQBn0tqQj8BwA3OQufgfK1ACYg3zwuPHJrCPmTkQQPQulwUpzh6FqHhdUnFMtl87aqGANdLvexs\n",
       "D58ZgZvv6ioRy4upjQAAAH1Bm01J4Q8mUwIX//6MsCPWhWAL8V/CIOZTZmTT0E/IXKFbyAkheYuS\n",
       "7VRPtYkLrwhMo9JW7ZIqC8MTVr5hGWiGpXRh6HcsAm7Asohh4Ef8nVRld93g/12971pU8jhcKhZB\n",
       "3OtJ7fDDdG26gl4fy9AI1lBbdWR5+9ewfWMFRQAAAH9Bm25J4Q8mUwIX//6MsCPe1TgDlF/wiDmU\n",
       "5UIqgNkhhbjte726mDzkAP94Hw1NXu8oMcjoTu7du2SKgvDE1a+YRlohqV0V/40RzI8qHHdWVr/3\n",
       "rbfPU4eVAj/TpdcwHhkeAC7tMHdkPZUWl3/qwtWtVnL/s59QSdS5RhP8MbmBAAAAnkGbkEnhDyZT\n",
       "BRE8L//+jLAjvJ2AOUaGHxB1XxU9+AAWHvHZ0HB8iHlREK2c66Zu2oLLGS1SqTAPbRzIopZOCozn\n",
       "o9JW7ZIqC8MTVr5hGWiGpXRcWzRNg7/5SzIgvMdj83pnpVGHh4Smhmkf+Sj9BmZhumDLLVk3ecuX\n",
       "eiNrpfKeWr4wkN/W2ell0kZ/NLOHfUpBSSr5cQ2jkhHtdepfAAAASgGfr2pCPwHADcsneFh/4Hyd\n",
       "QAlYN872pUuvcoRQ5e/+zWDjzEvN7VLuYHGaKASNpSDomgjlfe9Y3oryW2B9ea2TwhVQlc1Mlisg\n",
       "AAAAnkGbs0nhDyZTAhf//oywI7ydgDlGj6QohxW7mqtdjrTq463iEUtKHZqECwTjQntUp28Aak/s\n",
       "PnPR6St2yRUF4YmrXzCMtENSujDsOt4SJmR/G5EuYSArvsjdi8lAFrq+cpdvQenALFex6YWwe5Xn\n",
       "+vsMTnXEDsy0/mAEN8VqeWbdKP3alKuvpjHCd7KqBgDT+G+7PsAesX2FpIL8gJeAAAAAREGf0UUR\n",
       "PCf/AuUyuDGK0D0hP6pNg4iMbkCO9nTK+6lZZ/H13MPXfVp+XWRekN4rhxPL5dJnxQrvSJiBMzrV\n",
       "XfBBY0bhAAAAPwGf8mpCPwNdNGIuD4ePc8EogB9YpWVzBYwlG9UY3QRCpKTPFRBL7PUgASzE5SuE\n",
       "eN4opZ5hytYKMoRrwAwFTAAAAIZBm/RJqEFomUwIX//+jLAb73IAL7MVKgvrjBAead7WIFnu336C\n",
       "IybOcJ4q9Wx0y5YADMDqmdhBluYpQcGZMqYggRP0Z7a/XTM7kPZx5NL8GGc7jREg+YEfPV9Vz+sg\n",
       "NI+197+HSsSTI6vAIDN+tGFLyIUVWM59So8ipcer93/Z2ORBOwiTgAAAAEpBmhVJ4QpSZTAhn/6e\n",
       "EACtf0fQY0V0xSC2kLL3lybxNerOPSNZ5ku7PPJxJG5gJGjsqxnwPTBE0FwdFN0J0KATtwnT9haY\n",
       "7SJy8QAAAEVBmjdJ4Q6JlMFNEwz//p4QAKx35zbYk/pFRC+RmlP8dfZNBd4+0WCFPAD4j6fvr5dj\n",
       "r9++3r2UgrBfBBdpSkQSAn8t3oAAAAAjAZ5WakI/ADdWHlflaN2DRtfXqnNjeQFguEsidrC34pCc\n",
       "DE8AAABjQZpaSeEPJlMCGf/+nhAArOa/rfqUKyTBpq/+ot9Ybt92EHVDlNN9/RWukmLWnHLR2diG\n",
       "rQ8Lhp1ufH4dI0G74FElb7+VC9hn1k+mwjvogih7BtwbIRecMwXtjyn2CA8MLNoVAAAAMkGeeEUR\n",
       "PCf/AC6ZiikFJuCw4xqxZYW2T+sxs8vRfWx1SaUguhE/0AJG8DwNHE/8CZxQAAAAKwGemWpCPwA3\n",
       "VjvfDSAAhtebQeKoYxCe/xlTW/XVQakfp/ecY3Y8dqg6AWEAAABaQZqdSahBaJlMCF///oywAK3x\n",
       "YTz5PWdk4t3w+AasHR0EUbl+acVxpFrwH6gECvjLCBW3RcTd+xhTp1xHvcgCtD9fgsuSKiTwspRG\n",
       "QS4IsFUtp+QIqdxihbWUAAAAKkGeu0URLCf/AC6R6HhH6A9Rv8OODppt9aFdbzh/fDeP7lXYZhcl\n",
       "DIheuQAAAB0BntxqQj8AN0zyDlP6Ri7fkMtNPePNsxbzsJPxgQAAAEdBmt9JqEFsmUwUTC///oyw\n",
       "AK3YL7yIbbZyQi4gNUVH51Me0jFQDaUMCm10AJiKXf9iWMOvWSg1ZBX7+TPCpq0jt23Zvc0MUAAA\n",
       "ACEBnv5qQj8AN0zyD/6UvrSQaf3Kpl672o62NyFT83xaFRAAAAA6QZrhSeEKUmUwUsL//oywAK3y\n",
       "D8pXaEHqS51+wGKu/wPLxhgM1Qk727HyrbHS6PDOZAQm4OZJFtvLFwAAACMBnwBqQj8AN0zyEAEs\n",
       "IUsz8frBc+kAE3mj27eu4zZfCCmwgAAAAE5BmwRJ4Q6JlMCF//6MsACuBZ0+EYfD5lyBE8v6AIsZ\n",
       "QsbH9trccU0g+sNl8tqHai8qNYFjKYFhW8dWuqWkzXYcIiqS11/lfPNt+vQdC10AAAAtQZ8iRRU8\n",
       "J/8ALpcA7XmHXj4W1ZoZh5oPu9HAHmI8ryC7ZSbvjDvmK4QpbKjgAAAAIgGfQ2pCPwA3RT3LuxwI\n",
       "cS+x8ujy3KyWoRiPcSyUsf8XqVEAAABaQZtFSahBaJlMCGf//p4QAVjDrmMc6ivCQ1Tza4sEqVr0\n",
       "QRX0/5mQsyyhIRdY7x74H+YC1WV7DEZzTQhMa+v6td6JvB09ZSCOauxm4BUH8HuL8ao8hCftFm3B\n",
       "AAAAMUGbaEnhClJlMCF//oywAVvlXP0hqW9CH+kvBfWXoLRbWZdDjUfz8h9gi9AAAh+Z5HkAAAAp\n",
       "QZ+GRTRMJ/8AXS3+iepn7tja/gB9U/x+4fHQjsvyVHfTlx8MdnOQqd0AAAAhAZ+nakI/AG6mPX8h\n",
       "Id5aGXBi368cCzu/NPxYNkEWeT84AAAAKUGbqkmoQWiZTBTwv/6MsAATAL4AjQjZOarsjdGj6Y9q\n",
       "w82kNfG1JssMAAAAHAGfyWpCPwAGImPYF7LOYTbgRcpqn839pinPf7EAAAAzQZvMSeEKUmUwUsL/\n",
       "/oywABMEMF/q6+XnyPAswodxn9L6uEnnjswLT5NQFPs69S4thdZ4AAAAHwGf62pCPwAGIKatS8gj\n",
       "jMhxPl0Bsj71L4WTmSfr5yAAAAAxQZvuSeEOiZTBRMK//jhABUfa26BR/wOijFzXp9F84y7Ew322\n",
       "QtbLMJP/xtM5/BQ9YwAAACABng1qQj8AbopqwWlirvIw8lAyFyXKc5TbkqIrGF8f0QAAADVBmhBJ\n",
       "4Q8mUwU8I//94QAKNw0gA41MfR3/00Ie/Y3+CWv6h/NC8M+slXy9U8L4A2GYj039NwAAACgBni9q\n",
       "Qj8AN1Mg+NvnFHehIu5wbTq31saa6oGmIP8AAmWzmtQgYjUgAAAFGm1vb3YAAABsbXZoZAAAAAAA\n",
       "AAAAAAAAAAAAA+gAAATJAAEAAAEAAAAAAAAAAAAAAAABAAAAAAAAAAAAAAAAAAAAAQAAAAAAAAAA\n",
       "AAAAAAAAQAAAAAAAAAAAAAAAAAAAAAAAAAAAAAAAAAAAAAAAAAIAAAREdHJhawAAAFx0a2hkAAAA\n",
       "AwAAAAAAAAAAAAAAAQAAAAAAAATJAAAAAAAAAAAAAAAAAAAAAAABAAAAAAAAAAAAAAAAAAAAAQAA\n",
       "AAAAAAAAAAAAAAAAQAAAAAGwAAABIAAAAAAAJGVkdHMAAAAcZWxzdAAAAAAAAAABAAAEyQAAAgAA\n",
       "AQAAAAADvG1kaWEAAAAgbWRoZAAAAAAAAAAAAAAAAAAAKAAAADEAVcQAAAAAAC1oZGxyAAAAAAAA\n",
       "AAB2aWRlAAAAAAAAAAAAAAAAVmlkZW9IYW5kbGVyAAAAA2dtaW5mAAAAFHZtaGQAAAABAAAAAAAA\n",
       "AAAAAAAkZGluZgAAABxkcmVmAAAAAAAAAAEAAAAMdXJsIAAAAAEAAAMnc3RibAAAALNzdHNkAAAA\n",
       "AAAAAAEAAACjYXZjMQAAAAAAAAABAAAAAAAAAAAAAAAAAAAAAAGwASAASAAAAEgAAAAAAAAAAQAA\n",
       "AAAAAAAAAAAAAAAAAAAAAAAAAAAAAAAAAAAAAAAAABj//wAAADFhdmNDAWQAFf/hABhnZAAVrNlB\n",
       "sJaEAAADAAQAAAMBQDxYtlgBAAZo6+PLIsAAAAAcdXVpZGtoQPJfJE/FujmlG88DI/MAAAAAAAAA\n",
       "GHN0dHMAAAAAAAAAAQAAADEAAAEAAAAAFHN0c3MAAAAAAAAAAQAAAAEAAAE4Y3R0cwAAAAAAAAAl\n",
       "AAAAAgAAAgAAAAABAAADAAAAAAEAAAEAAAAAAQAAAwAAAAABAAABAAAAAAUAAAIAAAAAAQAAAwAA\n",
       "AAABAAABAAAAAAIAAAIAAAAAAQAAAwAAAAABAAABAAAAAAEAAAQAAAAAAgAAAQAAAAACAAACAAAA\n",
       "AAEAAAMAAAAAAQAAAQAAAAABAAAEAAAAAAIAAAEAAAAAAQAABAAAAAACAAABAAAAAAEAAAMAAAAA\n",
       "AQAAAQAAAAABAAADAAAAAAEAAAEAAAAAAQAABAAAAAACAAABAAAAAAEAAAIAAAAAAQAABAAAAAAC\n",
       "AAABAAAAAAEAAAMAAAAAAQAAAQAAAAABAAADAAAAAAEAAAEAAAAAAQAAAwAAAAABAAABAAAAAAEA\n",
       "AAMAAAAAAQAAAQAAAAAcc3RzYwAAAAAAAAABAAAAAQAAADEAAAABAAAA2HN0c3oAAAAAAAAAAAAA\n",
       "ADEAAAwWAAABVQAAAM8AAABQAAAAmQAAAE4AAACdAAAAhwAAAIkAAACIAAAAkQAAAIgAAABIAAAA\n",
       "gQAAAIMAAACiAAAATgAAAKIAAABIAAAAQwAAAIoAAABOAAAASQAAACcAAABnAAAANgAAAC8AAABe\n",
       "AAAALgAAACEAAABLAAAAJQAAAD4AAAAnAAAAUgAAADEAAAAmAAAAXgAAADUAAAAtAAAAJQAAAC0A\n",
       "AAAgAAAANwAAACMAAAA1AAAAJAAAADkAAAAsAAAAFHN0Y28AAAAAAAAAAQAAACwAAABidWR0YQAA\n",
       "AFptZXRhAAAAAAAAACFoZGxyAAAAAAAAAABtZGlyYXBwbAAAAAAAAAAAAAAAAC1pbHN0AAAAJal0\n",
       "b28AAAAdZGF0YQAAAAEAAAAATGF2ZjU3LjU2LjEwMQ==\n",
       "\">\n",
       "  Your browser does not support the video tag.\n",
       "</video>"
      ],
      "text/plain": [
       "<IPython.core.display.HTML object>"
      ]
     },
     "execution_count": 8,
     "metadata": {},
     "output_type": "execute_result"
    }
   ],
   "source": [
    "train, valid, test = load_dataset(\"springs5\")\n",
    "print(train.shape) # (N, T, dims, particles)\n",
    "    \n",
    "anim = visualize_sample(train)\n",
    "HTML(anim.to_html5_video())"
   ]
  },
  {
   "cell_type": "markdown",
   "metadata": {},
   "source": [
    "## Graph Neural Network"
   ]
  },
  {
   "cell_type": "markdown",
   "metadata": {},
   "source": [
    "Graph neural networks (GNN) are a speicalized class of neural networks that operate on graph ($G = (V, E)$) data by passing local messages among nodes. There are variations of message passing methods; in our case, the message passing operator is defined as below,"
   ]
  },
  {
   "cell_type": "markdown",
   "metadata": {},
   "source": [
    "$$\n",
    "\\begin{align*}\n",
    "v \\rightarrow e &: h^l_{(i, j)} = f^l_{e}([h^l_i, h^l_j]) \\\\\n",
    "e \\rightarrow v &: h^{l + 1}_j = f^l_{v}([\\sum_{i \\in N_j}h^l_{(i, j)}])\n",
    "\\end{align*}\n",
    "$$"
   ]
  },
  {
   "cell_type": "markdown",
   "metadata": {},
   "source": [
    "Each pair of nodes that are connected by an edge sends a message with an output of some function $f_e$ (e.g., a neural network) given concatenated embeddings of the two nodes. Then for each destination node of each edge, its edge signals are aggregated in a sum that is transformed by another function $f_v$. When there are multiple layers of this operator, a message from a node can reach further than just its neighboring nodes."
   ]
  },
  {
   "cell_type": "code",
   "execution_count": 9,
   "metadata": {},
   "outputs": [],
   "source": [
    "def node2edge(h, m_in, m_out):\n",
    "    # assuming that the shape of x is (t, f, n),\n",
    "    h_in = torch.matmul(m_in, h)\n",
    "    h_out = torch.matmul(m_out, h)\n",
    "    return torch.cat([h_in, h_out], dim=2)\n",
    "\n",
    "def edge2node(h, m_in):\n",
    "    # since M_in for edges is the transpose of M_in for nodes,\n",
    "    return torch.matmul(m_in.t(), h)"
   ]
  },
  {
   "cell_type": "code",
   "execution_count": 10,
   "metadata": {},
   "outputs": [],
   "source": [
    "class TwoLayerFcNet(nn.Module):\n",
    "    r\"\"\"Two-layered fully connected neural network with dropout and \n",
    "    batch normalization, as described in the NRI paper (Kipf, et al.).\n",
    "    \"\"\"\n",
    "    def __init__(self, in_features, hid_features, out_features, dropout_rate=0.5):\n",
    "        super(TwoLayerFcNet, self).__init__()\n",
    "        self.fc0 = nn.Linear(in_features, hid_features, bias=True)\n",
    "        self.dropout = nn.Dropout(dropout_rate)\n",
    "        self.fc1 = nn.Linear(hid_features, out_features, bias=False)\n",
    "        self.bn = nn.BatchNorm1d(out_features)\n",
    "    \n",
    "    def forward(self, x):\n",
    "        x = F.elu(self.fc0(x))\n",
    "        x = self.dropout(x)\n",
    "        x = F.elu(self.fc1(x))\n",
    "        return self.bn(x)"
   ]
  },
  {
   "cell_type": "markdown",
   "metadata": {},
   "source": [
    "These two components can now be used for building the NRI model.  \n",
    "\n",
    "*Note that a 1D convolutional neural network can be used instead of a fully-connected network. But we'll get to that later.*"
   ]
  },
  {
   "cell_type": "markdown",
   "metadata": {},
   "source": [
    "## Neural Relational Inference"
   ]
  },
  {
   "cell_type": "markdown",
   "metadata": {},
   "source": [
    "![model](images/nri.png)"
   ]
  },
  {
   "cell_type": "markdown",
   "metadata": {},
   "source": [
    "**Neural Relational Inference** (NRI) model is quite similar to the variational autoencoder in that it consists of an encoder, sampling and a decoder. The encoder takes node embeddings during time $1, ..., T$ and makes an inference on interaction types of each edge (a matrix with shape of $E \\times I$, where $E$ is the number of edges and $I$ is the number of interaction types), from which a graph structure is determined by sampling; then the decoder iteratively predicts $\\Delta x^t$ given $x^t$, $t = 1, ..., T$."
   ]
  },
  {
   "cell_type": "code",
   "execution_count": null,
   "metadata": {},
   "outputs": [],
   "source": [
    "class Encoder(nn.Module):\n",
    "    def __init__(self, \n",
    "                 in_dim: int, \n",
    "                 hid_dim: int, \n",
    "                 out_dim: int):\n",
    "        super(Encoder, self).__init__()\n",
    "        self.f_emb = TwoLayerFcNet(in_dim, hid_dim, hid_dim)\n",
    "        self.f_e1 = TwoLayerFcNet(hid_dim * 2, hid_dim, hid_dim)\n",
    "        self.f_v1 = TwoLayerFcNet(hid_dim, hid_dim, hid_dim)\n",
    "        self.f_e2 = TwoLayerFcNet(hid_dim * 2, hid_dim, hid_dim)\n",
    "        \n",
    "    def forward(self, x, m_in, m_out):\n",
    "        h = self.f_emb(x)\n",
    "        h_e = self.f_e1(node2edge(h_v, m_in, m_out))\n",
    "        h_v = self.f_v1(edge2node(h_e, m_in))\n",
    "        h_e = self.f_e2(node2edge(h_v, m_in, m_out))\n",
    "        return F.softmax(h_e)"
   ]
  },
  {
   "cell_type": "code",
   "execution_count": null,
   "metadata": {},
   "outputs": [],
   "source": [
    "class Decoder(nn.Module):\n",
    "    def __init__(self):\n",
    "        super(Decoder, self).__init__()"
   ]
  },
  {
   "cell_type": "code",
   "execution_count": null,
   "metadata": {},
   "outputs": [],
   "source": [
    "class NRI(nn.Module):\n",
    "    def __init__(self):\n",
    "        super()"
   ]
  },
  {
   "cell_type": "markdown",
   "metadata": {},
   "source": [
    "## Extending with VQ-VAE"
   ]
  },
  {
   "cell_type": "markdown",
   "metadata": {},
   "source": [
    "As the NRI model attempts to learn discrete representations of graphs, one can imagine a direct extension of the NRI algorithm with [VQ-VAE](https://arxiv.org/abs/1711.00937v2) (Oord, et al.), a simple generative model that learns discrete representations."
   ]
  },
  {
   "cell_type": "markdown",
   "metadata": {},
   "source": [
    "## References"
   ]
  },
  {
   "cell_type": "markdown",
   "metadata": {},
   "source": [
    "- Neural Relational Inference for Interacting Systems, [arXiv:1802.04687v2 \\[stat.ML\\]](https://arxiv.org/abs/1802.04687)\n",
    "- Neural Discrete Representation Learning, [arXiv:1711.00937v2 \\[cs.LG\\]](https://arxiv.org/abs/1711.00937v2)"
   ]
  }
 ],
 "metadata": {
  "kernelspec": {
   "display_name": "Python 3",
   "language": "python",
   "name": "python3"
  },
  "language_info": {
   "codemirror_mode": {
    "name": "ipython",
    "version": 3
   },
   "file_extension": ".py",
   "mimetype": "text/x-python",
   "name": "python",
   "nbconvert_exporter": "python",
   "pygments_lexer": "ipython3",
   "version": "3.6.4"
  }
 },
 "nbformat": 4,
 "nbformat_minor": 2
}
