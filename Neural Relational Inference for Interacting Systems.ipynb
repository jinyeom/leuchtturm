{
 "cells": [
  {
   "cell_type": "markdown",
   "metadata": {},
   "source": [
    "# Neural Relational Inference for Interacting Systems\n",
    "Notebook Author: Jin Yeom (jinyeom@utexas.edu)  \n",
    "Original Authors: Thomas Kipf, Ethan Fetaya, Kuan-Chieh Wang, Max Welling, Richard Zemal"
   ]
  },
  {
   "cell_type": "markdown",
   "metadata": {},
   "source": [
    "This notebook attempts to understand [this paper](https://arxiv.org/abs/1802.04687) (Kipf et al., 2018) by implementing the Neural Relational Inference (NRI) algorithm with PyTorch. Note that code for generating data is imported from the paper's [original implementation](https://github.com/hudl/relational-inference)."
   ]
  },
  {
   "cell_type": "code",
   "execution_count": 4,
   "metadata": {},
   "outputs": [],
   "source": [
    "import time\n",
    "from typing import Tuple, Sequence\n",
    "\n",
    "import numpy as np\n",
    "from numpy import ndarray as N\n",
    "from matplotlib import pyplot as plt\n",
    "import torch\n",
    "from torch import nn\n",
    "from torch.nn import functional as F"
   ]
  },
  {
   "cell_type": "markdown",
   "metadata": {},
   "source": [
    "## Data Generation"
   ]
  },
  {
   "cell_type": "markdown",
   "metadata": {},
   "source": [
    "Below are scripts for generating trajectory data from particle simulations. Both `SpringSim` and `ChargedParticleSim` are adopted from the original implementation, and are also cleaned up for readability."
   ]
  },
  {
   "cell_type": "code",
   "execution_count": 5,
   "metadata": {
    "collapsed": true
   },
   "outputs": [],
   "source": [
    "# from https://github.com/hudl/relational-inference/blob/master/data/synthetic_sim.py\n",
    "\n",
    "class SpringSim(object):\n",
    "    def __init__(self, \n",
    "            n_balls: int = 5, \n",
    "            box_size: float = 5.0, \n",
    "            loc_std: float = 0.5, \n",
    "            vel_norm: float = 0.5,\n",
    "            interaction_strength: float = 0.1, \n",
    "            noise_var: float = 0.0):\n",
    "        self.n_balls = n_balls\n",
    "        self.box_size = box_size\n",
    "        self.loc_std = loc_std\n",
    "        self.vel_norm = vel_norm\n",
    "        self.interaction_strength = interaction_strength\n",
    "        self.noise_var = noise_var\n",
    "\n",
    "        self._spring_types = np.array([0.0, 0.5, 1.0])\n",
    "        self._delta_t = 0.001\n",
    "        self._max_f = 0.1 / self._delta_t\n",
    "\n",
    "    def energy(self, \n",
    "            loc: N, \n",
    "            vel: N, \n",
    "            edges: N) -> float:\n",
    "        with np.errstate(divide='ignore'):\n",
    "            k = 0.5 * (vel ** 2).sum()\n",
    "            u = 0.0\n",
    "            for i in range(loc.shape[1]):\n",
    "                for j in range(loc.shape[1]):\n",
    "                    if i != j:\n",
    "                        r = loc[:, i] - loc[:, j]\n",
    "                        dist = np.sqrt((r ** 2).sum())\n",
    "                        u += 0.5 * self.interaction_strength * edges[i, j] * (dist ** 2) / 2\n",
    "            return u + k\n",
    "\n",
    "    def _clamp(self,\n",
    "            loc: N,\n",
    "            vel: N) -> Tuple[N, N]:\n",
    "        assert np.all(loc < self.box_size * 3)\n",
    "        assert np.all(loc > -self.box_size * 3)\n",
    "\n",
    "        over = loc > self.box_size\n",
    "        loc[over] = 2 * self.box_size - loc[over]\n",
    "        assert np.all(loc <= self.box_size)\n",
    "        \n",
    "        vel[over] = -np.abs(vel[over])\n",
    "        under = loc < -self.box_size\n",
    "        loc[under] = -2 * self.box_size - loc[under]\n",
    "        assert np.all(loc >= -self.box_size)\n",
    "        \n",
    "        vel[under] = np.abs(vel[under])\n",
    "        return loc, vel\n",
    "\n",
    "    def _l2(self, \n",
    "            a: N, \n",
    "            b: N) -> float:\n",
    "        a_norm = (a ** 2).sum(axis=1).reshape(a.shape[0], 1)\n",
    "        b_norm = (b ** 2).sum(axis=1).reshape(1, b.shape[0])\n",
    "        dist = a_norm + b_norm - 2 * a.dot(b.transpose())\n",
    "        return dist\n",
    "\n",
    "    def sample_trajectory(self,\n",
    "            t: int = 10000,\n",
    "            sample_freq: int = 10,\n",
    "            spring_prob: Tuple[float] = (0.5, 0.0, 0.5)) -> Tuple[N, N, N]:\n",
    "        n = self.n_balls\n",
    "        assert t % sample_freq == 0\n",
    "        t_save = int(t / sample_freq - 1)\n",
    "        diag_mask = np.ones((n, n), dtype=bool)\n",
    "        np.fill_diagonal(diag_mask, 0)\n",
    "        counter = 0\n",
    "        \n",
    "        # Sample edges\n",
    "        edges = np.random.choice(self._spring_types,\n",
    "                                 size=(self.n_balls, self.n_balls),\n",
    "                                 p=spring_prob)\n",
    "        edges = np.tril(edges) + np.tril(edges, -1).T\n",
    "        np.fill_diagonal(edges, 0.0)\n",
    "        \n",
    "        # Initialize location and velocity\n",
    "        loc = np.zeros((t_save, 2, n))\n",
    "        vel = np.zeros((t_save, 2, n))\n",
    "        loc_next = np.random.randn(2, n) * self.loc_std\n",
    "        vel_next = np.random.randn(2, n)\n",
    "        v_norm = np.sqrt((vel_next ** 2).sum(axis=0)).reshape(1, -1)\n",
    "        vel_next = vel_next * self.vel_norm / v_norm\n",
    "        loc[0, :, :], vel[0, :, :] = self._clamp(loc_next, vel_next)\n",
    "\n",
    "        with np.errstate(divide='ignore'):\n",
    "            forces_size = -self.interaction_strength * edges\n",
    "            np.fill_diagonal(forces_size, 0.0)\n",
    "            f = (forces_size.reshape(1, n, n) *\n",
    "                 np.concatenate((np.subtract.outer(loc_next[0, :],\n",
    "                                 loc_next[0, :]).reshape(1, n, n),\n",
    "                                 np.subtract.outer(loc_next[1, :],\n",
    "                                 loc_next[1, :]).reshape(1, n, n)))).sum(axis=-1)\n",
    "            f[f > self._max_f] = self._max_f\n",
    "            f[f < -self._max_f] = -self._max_f\n",
    "\n",
    "            vel_next += self._delta_t * f\n",
    "            for i in range(1, t):\n",
    "                loc_next += self._delta_t * vel_next\n",
    "                loc_next, vel_next = self._clamp(loc_next, vel_next)\n",
    "\n",
    "                if i % sample_freq == 0:\n",
    "                    loc[counter, :, :], vel[counter, :, :] = loc_next, vel_next\n",
    "                    counter += 1\n",
    "\n",
    "                forces_size = - self.interaction_strength * edges\n",
    "                np.fill_diagonal(forces_size, 0)\n",
    "                f = (forces_size.reshape(1, n, n) *\n",
    "                     np.concatenate((np.subtract.outer(loc_next[0, :],\n",
    "                                     loc_next[0, :]).reshape(1, n, n),\n",
    "                                     np.subtract.outer(loc_next[1, :],\n",
    "                                     loc_next[1, :]).reshape(1, n, n)))).sum(axis=-1)\n",
    "                f[f > self._max_f] = self._max_f\n",
    "                f[f < -self._max_f] = -self._max_f                \n",
    "                vel_next += self._delta_t * f\n",
    "                \n",
    "            # Add noise to observations\n",
    "            loc += np.random.randn(t_save, 2, self.n_balls) * self.noise_var\n",
    "            vel += np.random.randn(t_save, 2, self.n_balls) * self.noise_var\n",
    "            return loc, vel, edges"
   ]
  },
  {
   "cell_type": "code",
   "execution_count": 9,
   "metadata": {},
   "outputs": [
    {
     "ename": "SyntaxError",
     "evalue": "invalid syntax (<ipython-input-9-14c6a8914df7>, line 6)",
     "output_type": "error",
     "traceback": [
      "\u001b[0;36m  File \u001b[0;32m\"<ipython-input-9-14c6a8914df7>\"\u001b[0;36m, line \u001b[0;32m6\u001b[0m\n\u001b[0;31m    print(f\"Simulation time: {duration}\")\u001b[0m\n\u001b[0m                                       ^\u001b[0m\n\u001b[0;31mSyntaxError\u001b[0m\u001b[0;31m:\u001b[0m invalid syntax\n"
     ]
    }
   ],
   "source": [
    "sim = SpringSim()\n",
    "\n",
    "start_time = time.time()\n",
    "loc, vel, edges = sim.sample_trajectory(t=5000, sample_freq=100)\n",
    "duration = time.time() - start_time\n",
    "print(f\"Simulation time: {duration}\")\n",
    "\n",
    "plt.matshow(edges, cmap=\"gray\")\n",
    "\n",
    "plt.figure()\n",
    "axes = plt.gca()\n",
    "axes.set_xlim([-5., 5.])\n",
    "axes.set_ylim([-5., 5.])\n",
    "for i in range(loc.shape[-1]):\n",
    "    plt.plot(loc[:, 0, i], loc[:, 1, i], 'o', alpha=0.4)\n",
    "    plt.plot(loc[0, 0, i], loc[0, 1, i], 'd')\n",
    "    \n",
    "plt.figure()\n",
    "energies = [sim.energy(loc[i, :, :], vel[i, :, :], edges) for i in range(loc.shape[0])]\n",
    "plt.plot(energies)\n",
    "plt.show()"
   ]
  },
  {
   "cell_type": "code",
   "execution_count": 21,
   "metadata": {
    "collapsed": true
   },
   "outputs": [],
   "source": [
    "# from https://github.com/hudl/relational-inference/blob/master/data/synthetic_sim.py\n",
    "\n",
    "class ChargedParticlesSim(object):\n",
    "    def __init__(self, \n",
    "            n_balls: int = 5, \n",
    "            box_size: float = 5.0, \n",
    "            loc_std: float = 1.0, \n",
    "            vel_norm: float = 0.5,\n",
    "            interaction_strength: float = 1.0, \n",
    "            noise_var: float = 0.0):\n",
    "        self.n_balls = n_balls\n",
    "        self.box_size = box_size\n",
    "        self.loc_std = loc_std\n",
    "        self.vel_norm = vel_norm\n",
    "        self.interaction_strength = interaction_strength\n",
    "        self.noise_var = noise_var\n",
    "\n",
    "        self._charge_types = np.array([-1.0, 0.0, 1.0])\n",
    "        self._delta_t = 0.001\n",
    "        self._max_f = 0.1 / self._delta_t\n",
    "\n",
    "    def _l2(self, \n",
    "            a: N, \n",
    "            b: N) -> Tuple[N, N]:\n",
    "        a_norm = (a ** 2).sum(axis=1).reshape(a.shape[0], 1)\n",
    "        b_norm = (b ** 2).sum(axis=1).reshape(1, b.shape[0])\n",
    "        dist = a_norm + b_norm - 2 * a.dot(b.transpose())\n",
    "        return dist\n",
    "\n",
    "    def energy(self, \n",
    "            loc: N, \n",
    "            vel: N, \n",
    "            edges: N) -> float:\n",
    "        with np.errstate(divide='ignore'):\n",
    "            k = 0.5 * (vel ** 2).sum()\n",
    "            u = 0.0\n",
    "            for i in range(loc.shape[1]):\n",
    "                for j in range(loc.shape[1]):\n",
    "                    if i != j:\n",
    "                        r = loc[:, i] - loc[:, j]\n",
    "                        dist = np.sqrt((r ** 2).sum())\n",
    "                        u += 0.5 * self.interaction_strength * edges[i, j] / dist\n",
    "            return u + k\n",
    "\n",
    "    def _clamp(self, \n",
    "            loc: N, \n",
    "            vel: N) -> Tuple[N, N]:\n",
    "        assert np.all(loc < self.box_size * 3)\n",
    "        assert np.all(loc > -self.box_size * 3)\n",
    "\n",
    "        over = loc > self.box_size\n",
    "        loc[over] = 2 * self.box_size - loc[over]\n",
    "        assert np.all(loc <= self.box_size)\n",
    "\n",
    "        vel[over] = -np.abs(vel[over])\n",
    "        under = loc < -self.box_size\n",
    "        loc[under] = -2 * self.box_size - loc[under]\n",
    "        assert np.all(loc >= -self.box_size)\n",
    "        \n",
    "        vel[under] = np.abs(vel[under])\n",
    "        return loc, vel\n",
    "\n",
    "    def sample_trajectory(self, \n",
    "            t: int = 10000, \n",
    "            sample_freq: int = 10,\n",
    "            charge_prob: Tuple[float] = (0.5, 0.0, 0.5)) -> Tuple[N, N, N]:\n",
    "        n = self.n_balls\n",
    "        assert t % sample_freq == 0\n",
    "        t_save = int(t / sample_freq - 1)\n",
    "        diag_mask = np.ones((n, n), dtype=bool)\n",
    "        np.fill_diagonal(diag_mask, 0)\n",
    "        counter = 0\n",
    "        \n",
    "        # Sample edges\n",
    "        charges = np.random.choice(self._charge_types, \n",
    "                                   size=(self.n_balls, 1),\n",
    "                                   p=charge_prob)\n",
    "        edges = charges.dot(charges.transpose())\n",
    "        \n",
    "        # Initialize location and velocity\n",
    "        loc = np.zeros((t_save, 2, n))\n",
    "        vel = np.zeros((t_save, 2, n))\n",
    "        loc_next = np.random.randn(2, n) * self.loc_std\n",
    "        vel_next = np.random.randn(2, n)\n",
    "        v_norm = np.sqrt((vel_next ** 2).sum(axis=0)).reshape(1, -1)\n",
    "        vel_next = vel_next * self.vel_norm / v_norm\n",
    "        loc[0, :, :], vel[0, :, :] = self._clamp(loc_next, vel_next)\n",
    "\n",
    "        with np.errstate(divide='ignore'):\n",
    "            l2 = self._l2(loc_next.transpose(), loc_next.transpose())\n",
    "            l2_dist_power3 = np.power(l2, 1.5)\n",
    "\n",
    "            # size of forces up to a 1/|r| factor\n",
    "            # since I later multiply by an unnormalized r vector\n",
    "            forces_size = self.interaction_strength * edges / l2_dist_power3\n",
    "            np.fill_diagonal(forces_size, 0.0)\n",
    "            assert np.abs(forces_size[diag_mask]).min() > 1e-10\n",
    "            f = (forces_size.reshape(1, n, n) *\n",
    "                 np.concatenate((np.subtract.outer(loc_next[0, :], \n",
    "                                                   loc_next[0, :]).reshape(1, n, n),\n",
    "                                 np.subtract.outer(loc_next[1, :], \n",
    "                                                   loc_next[1, :]).reshape(1, n, n))))\n",
    "            f = f.sum(axis=-1)\n",
    "            f[f > self._max_f] = self._max_f\n",
    "            f[f < -self._max_f] = -self._max_f\n",
    "\n",
    "            vel_next += self._delta_t * f\n",
    "            for i in range(1, t):\n",
    "                loc_next += self._delta_t * vel_next\n",
    "                loc_next, vel_next = self._clamp(loc_next, vel_next)\n",
    "\n",
    "                if i % sample_freq == 0:\n",
    "                    loc[counter, :, :], vel[counter, :, :] = loc_next, vel_next\n",
    "                    counter += 1\n",
    "\n",
    "                l2 = self._l2(loc_next.transpose(), loc_next.transpose())\n",
    "                l2_dist_power3 = np.power(l2, 1.5)\n",
    "                forces_size = self.interaction_strength * edges / l2_dist_power3\n",
    "                np.fill_diagonal(forces_size, 0)\n",
    "\n",
    "                f = (forces_size.reshape(1, n, n) *\n",
    "                     np.concatenate((np.subtract.outer(loc_next[0, :], \n",
    "                                                       loc_next[0, :]).reshape(1, n, n),\n",
    "                                     np.subtract.outer(loc_next[1, :],\n",
    "                                                       loc_next[1, :]).reshape(1, n, n))))\n",
    "                f = f.sum(axis=-1)\n",
    "                f[f > self._max_f] = self._max_f\n",
    "                f[f < -self._max_f] = -self._max_f\n",
    "                vel_next += self._delta_t * f\n",
    "                \n",
    "            # Add noise to observations\n",
    "            loc += np.random.randn(t_save, 2, self.n_balls) * self.noise_var\n",
    "            vel += np.random.randn(t_save, 2, self.n_balls) * self.noise_var\n",
    "            return loc, vel, edges"
   ]
  },
  {
   "cell_type": "code",
   "execution_count": 37,
   "metadata": {
    "scrolled": false
   },
   "outputs": [
    {
     "name": "stdout",
     "output_type": "stream",
     "text": [
      "Simulation time: 0.33324646949768066\n"
     ]
    },
    {
     "data": {
      "image/png": "[encoded data removed]",
      "text/plain": [
       "<matplotlib.figure.Figure at 0x7fa6840ef390>"
      ]
     },
     "metadata": {},
     "output_type": "display_data"
    },
    {
     "data": {
      "image/png": "[encoded data removed]",
      "text/plain": [
       "<matplotlib.figure.Figure at 0x7fa683d5f0f0>"
      ]
     },
     "metadata": {},
     "output_type": "display_data"
    },
    {
     "data": {
      "image/png": "[encoded data removed]",
      "text/plain": [
       "<matplotlib.figure.Figure at 0x7fa683bd3eb8>"
      ]
     },
     "metadata": {},
     "output_type": "display_data"
    }
   ],
   "source": [
    "sim = ChargedParticlesSim()\n",
    "\n",
    "start_time = time.time()\n",
    "loc, vel, edges = sim.sample_trajectory(t=5000, sample_freq=100)\n",
    "duration = time.time() - start_time\n",
    "print(f\"Simulation time: {duration}\")\n",
    "\n",
    "plt.matshow(edges, cmap=\"gray\")\n",
    "\n",
    "plt.figure()\n",
    "axes = plt.gca()\n",
    "axes.set_xlim([-5., 5.])\n",
    "axes.set_ylim([-5., 5.])\n",
    "for i in range(loc.shape[-1]):\n",
    "    plt.plot(loc[:, 0, i], loc[:, 1, i], 'o', alpha=0.4)\n",
    "    plt.plot(loc[0, 0, i], loc[0, 1, i], 'd')\n",
    "    \n",
    "plt.figure()\n",
    "energies = [sim.energy(loc[i, :, :], vel[i, :, :], edges) for i in range(loc.shape[0])]\n",
    "plt.plot(energies)\n",
    "plt.show()"
   ]
  },
  {
   "cell_type": "markdown",
   "metadata": {},
   "source": [
    "## Graph Neural Network"
   ]
  },
  {
   "cell_type": "markdown",
   "metadata": {},
   "source": [
    "$$\n",
    "\\begin{align*}\n",
    "v \\rightarrow e &: h^l_{(i, j)} = f^l_{e}([h^l_i, h^l_j, x_{(i, j)}]) \\\\\n",
    "e \\rightarrow v &: h^{l + 1}_j = f^l_{v}([\\sum_{i \\in N_j}h^l_{(i, j)}, x_j])\n",
    "\\end{align*}\n",
    "$$"
   ]
  },
  {
   "cell_type": "code",
   "execution_count": 38,
   "metadata": {},
   "outputs": [
    {
     "ename": "NameError",
     "evalue": "name 'torch' is not defined",
     "output_type": "error",
     "traceback": [
      "\u001b[0;31m---------------------------------------------------------------------------\u001b[0m",
      "\u001b[0;31mNameError\u001b[0m                                 Traceback (most recent call last)",
      "\u001b[0;32m<ipython-input-38-d831dc3300bf>\u001b[0m in \u001b[0;36m<module>\u001b[0;34m()\u001b[0m\n\u001b[0;32m----> 1\u001b[0;31m \u001b[0;32mclass\u001b[0m \u001b[0mTwoLayeredFullyConnectedNet\u001b[0m\u001b[0;34m(\u001b[0m\u001b[0mtorch\u001b[0m\u001b[0;34m.\u001b[0m\u001b[0mnn\u001b[0m\u001b[0;34m.\u001b[0m\u001b[0mModule\u001b[0m\u001b[0;34m)\u001b[0m\u001b[0;34m:\u001b[0m\u001b[0;34m\u001b[0m\u001b[0m\n\u001b[0m\u001b[1;32m      2\u001b[0m     \u001b[0;32mdef\u001b[0m \u001b[0m__init__\u001b[0m\u001b[0;34m(\u001b[0m\u001b[0mself\u001b[0m\u001b[0;34m,\u001b[0m \u001b[0min_dim\u001b[0m\u001b[0;34m:\u001b[0m \u001b[0mint\u001b[0m\u001b[0;34m,\u001b[0m \u001b[0mhid_dim\u001b[0m\u001b[0;34m:\u001b[0m \u001b[0mint\u001b[0m\u001b[0;34m,\u001b[0m \u001b[0mout_dim\u001b[0m\u001b[0;34m:\u001b[0m \u001b[0mint\u001b[0m\u001b[0;34m)\u001b[0m\u001b[0;34m:\u001b[0m\u001b[0;34m\u001b[0m\u001b[0m\n\u001b[1;32m      3\u001b[0m         \u001b[0mself\u001b[0m\u001b[0;34m.\u001b[0m\u001b[0mfc0\u001b[0m \u001b[0;34m=\u001b[0m \u001b[0mnn\u001b[0m\u001b[0;34m.\u001b[0m\u001b[0mLinear\u001b[0m\u001b[0;34m(\u001b[0m\u001b[0min_dim\u001b[0m\u001b[0;34m,\u001b[0m \u001b[0mhid_dim\u001b[0m\u001b[0;34m,\u001b[0m \u001b[0mbias\u001b[0m\u001b[0;34m=\u001b[0m\u001b[0;32mTrue\u001b[0m\u001b[0;34m)\u001b[0m\u001b[0;34m\u001b[0m\u001b[0m\n\u001b[1;32m      4\u001b[0m         \u001b[0mself\u001b[0m\u001b[0;34m.\u001b[0m\u001b[0mfc1\u001b[0m \u001b[0;34m=\u001b[0m \u001b[0mnn\u001b[0m\u001b[0;34m.\u001b[0m\u001b[0mLinear\u001b[0m\u001b[0;34m(\u001b[0m\u001b[0mhid_dim\u001b[0m\u001b[0;34m,\u001b[0m \u001b[0mout_dim\u001b[0m\u001b[0;34m,\u001b[0m \u001b[0mbias\u001b[0m\u001b[0;34m=\u001b[0m\u001b[0;32mTrue\u001b[0m\u001b[0;34m)\u001b[0m\u001b[0;34m\u001b[0m\u001b[0m\n\u001b[1;32m      5\u001b[0m \u001b[0;34m\u001b[0m\u001b[0m\n",
      "\u001b[0;31mNameError\u001b[0m: name 'torch' is not defined"
     ]
    }
   ],
   "source": [
    "class TwoLayeredFullyConnectedNet(torch.nn.Module):\n",
    "    def __init__(self, in_dim: int, hid_dim: int, out_dim: int):\n",
    "        self.fc0 = nn.Linear(in_dim, hid_dim, bias=True)\n",
    "        self.fc1 = nn.Linear(hid_dim, out_dim, bias=True)\n",
    "    \n",
    "    def forward(self, x):\n",
    "        x = self.fc0(x)\n",
    "        x = F.elu(x)\n",
    "        x = self.fc1(x)"
   ]
  },
  {
   "cell_type": "markdown",
   "metadata": {},
   "source": [
    "## References\n",
    "- [arXiv:1802.04687v2 \\[stat.ML\\]](https://arxiv.org/abs/1802.04687)"
   ]
  }
 ],
 "metadata": {
  "kernelspec": {
   "display_name": "Python (research)",
   "language": "python",
   "name": "research"
  },
  "language_info": {
   "codemirror_mode": {
    "name": "ipython",
    "version": 3
   },
   "file_extension": ".py",
   "mimetype": "text/x-python",
   "name": "python",
   "nbconvert_exporter": "python",
   "pygments_lexer": "ipython3",
   "version": "3.5.4"
  }
 },
 "nbformat": 4,
 "nbformat_minor": 2
}
