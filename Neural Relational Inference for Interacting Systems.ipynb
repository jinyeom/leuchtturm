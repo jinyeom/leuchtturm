{
 "cells": [
  {
   "cell_type": "markdown",
   "metadata": {},
   "source": [
    "# Neural Relational Inference for Interacting Systems\n",
    "Notebook Author: Jin Yeom (jinyeom@utexas.edu)  \n",
    "Original Authors: Thomas Kipf, Ethan Fetaya, Kuan-Chieh Wang, Max Welling, Richard Zemal"
   ]
  },
  {
   "cell_type": "markdown",
   "metadata": {},
   "source": [
    "This notebook attempts to understand [this paper](https://arxiv.org/abs/1802.04687) (Kipf et al., 2018) by implementing the Neural Relational Inference (NRI) algorithm with PyTorch. Note that code for generating data is imported from the paper's [original implementation](https://github.com/hudl/relational-inference)."
   ]
  },
  {
   "cell_type": "code",
   "execution_count": 1,
   "metadata": {},
   "outputs": [],
   "source": [
    "import time\n",
    "from typing import Tuple, Sequence\n",
    "\n",
    "import numpy as np\n",
    "from matplotlib import pyplot as plt\n",
    "\n",
    "import torch\n",
    "from torch import nn\n",
    "from torch.nn import functional as F"
   ]
  },
  {
   "cell_type": "markdown",
   "metadata": {},
   "source": [
    "## Data Generation"
   ]
  },
  {
   "cell_type": "markdown",
   "metadata": {},
   "source": [
    "Below are scripts for generating trajectory data from particle simulations. Both `SpringSim` and `ChargedParticleSim` are adopted from the original implementation, and are also cleaned up for readability."
   ]
  },
  {
   "cell_type": "code",
   "execution_count": 2,
   "metadata": {},
   "outputs": [],
   "source": [
    "# from https://github.com/hudl/relational-inference/blob/master/data/synthetic_sim.py\n",
    "\n",
    "class SpringSim(object):\n",
    "    def __init__(self, \n",
    "                 n_balls: int = 5, \n",
    "                 box_size: float = 5.0, \n",
    "                 loc_std: float = 0.5, \n",
    "                 vel_norm: float = 0.5,\n",
    "                 interaction_strength: float = 0.1, \n",
    "                 noise_var: float = 0.0):\n",
    "        self.n_balls = n_balls\n",
    "        self.box_size = box_size\n",
    "        self.loc_std = loc_std\n",
    "        self.vel_norm = vel_norm\n",
    "        self.interaction_strength = interaction_strength\n",
    "        self.noise_var = noise_var\n",
    "\n",
    "        self._spring_types = np.array([0.0, 0.5, 1.0])\n",
    "        self._delta_t = 0.001\n",
    "        self._max_f = 0.1 / self._delta_t\n",
    "\n",
    "    def energy(self, \n",
    "               loc: np.ndarray, \n",
    "               vel: np.ndarray,\n",
    "               edges: np.ndarray) -> float:\n",
    "        with np.errstate(divide='ignore'):\n",
    "            k = 0.5 * (vel ** 2).sum()\n",
    "            u = 0.0\n",
    "            for i in range(loc.shape[1]):\n",
    "                for j in range(loc.shape[1]):\n",
    "                    if i != j:\n",
    "                        r = loc[:, i] - loc[:, j]\n",
    "                        dist = np.sqrt((r ** 2).sum())\n",
    "                        u += 0.5 * self.interaction_strength * edges[i, j] * (dist ** 2) / 2\n",
    "            return u + k\n",
    "\n",
    "    def _clamp(self,\n",
    "               loc: np.ndarray,\n",
    "               vel: np.ndarray) -> Tuple[np.ndarray, np.ndarray]:\n",
    "        assert np.all(loc < self.box_size * 3)\n",
    "        assert np.all(loc > -self.box_size * 3)\n",
    "\n",
    "        over = loc > self.box_size\n",
    "        loc[over] = 2 * self.box_size - loc[over]\n",
    "        assert np.all(loc <= self.box_size)\n",
    "        \n",
    "        vel[over] = -np.abs(vel[over])\n",
    "        under = loc < -self.box_size\n",
    "        loc[under] = -2 * self.box_size - loc[under]\n",
    "        assert np.all(loc >= -self.box_size)\n",
    "        \n",
    "        vel[under] = np.abs(vel[under])\n",
    "        return loc, vel\n",
    "\n",
    "    def _l2(self, \n",
    "            a: np.ndarray, \n",
    "            b: np.ndarray) -> float:\n",
    "        a_norm = (a ** 2).sum(axis=1).reshape(a.shape[0], 1)\n",
    "        b_norm = (b ** 2).sum(axis=1).reshape(1, b.shape[0])\n",
    "        dist = a_norm + b_norm - 2 * a.dot(b.transpose())\n",
    "        return dist\n",
    "\n",
    "    def sample_trajectory(self,\n",
    "                          t: int = 10000,\n",
    "                          sample_freq: int = 10,\n",
    "                          spring_prob: Tuple[float] = (0.5, 0.0, 0.5)) -> Tuple[np.ndarray, np.ndarray, np.ndarray]:\n",
    "        n = self.n_balls\n",
    "        assert t % sample_freq == 0\n",
    "        t_save = int(t / sample_freq - 1)\n",
    "        diag_mask = np.ones((n, n), dtype=bool)\n",
    "        np.fill_diagonal(diag_mask, 0)\n",
    "        counter = 0\n",
    "        \n",
    "        # Sample edges\n",
    "        edges = np.random.choice(self._spring_types,\n",
    "                                 size=(self.n_balls, self.n_balls),\n",
    "                                 p=spring_prob)\n",
    "        edges = np.tril(edges) + np.tril(edges, -1).T\n",
    "        np.fill_diagonal(edges, 0.0)\n",
    "        \n",
    "        # Initialize location and velocity\n",
    "        loc = np.zeros((t_save, 2, n))\n",
    "        vel = np.zeros((t_save, 2, n))\n",
    "        loc_next = np.random.randn(2, n) * self.loc_std\n",
    "        vel_next = np.random.randn(2, n)\n",
    "        v_norm = np.sqrt((vel_next ** 2).sum(axis=0)).reshape(1, -1)\n",
    "        vel_next = vel_next * self.vel_norm / v_norm\n",
    "        loc[0, :, :], vel[0, :, :] = self._clamp(loc_next, vel_next)\n",
    "\n",
    "        with np.errstate(divide='ignore'):\n",
    "            forces_size = -self.interaction_strength * edges\n",
    "            np.fill_diagonal(forces_size, 0.0)\n",
    "            f = (forces_size.reshape(1, n, n) *\n",
    "                 np.concatenate((np.subtract.outer(loc_next[0, :],\n",
    "                                 loc_next[0, :]).reshape(1, n, n),\n",
    "                                 np.subtract.outer(loc_next[1, :],\n",
    "                                 loc_next[1, :]).reshape(1, n, n)))).sum(axis=-1)\n",
    "            f[f > self._max_f] = self._max_f\n",
    "            f[f < -self._max_f] = -self._max_f\n",
    "\n",
    "            vel_next += self._delta_t * f\n",
    "            for i in range(1, t):\n",
    "                loc_next += self._delta_t * vel_next\n",
    "                loc_next, vel_next = self._clamp(loc_next, vel_next)\n",
    "\n",
    "                if i % sample_freq == 0:\n",
    "                    loc[counter, :, :], vel[counter, :, :] = loc_next, vel_next\n",
    "                    counter += 1\n",
    "\n",
    "                forces_size = - self.interaction_strength * edges\n",
    "                np.fill_diagonal(forces_size, 0)\n",
    "                f = (forces_size.reshape(1, n, n) *\n",
    "                     np.concatenate((np.subtract.outer(loc_next[0, :],\n",
    "                                     loc_next[0, :]).reshape(1, n, n),\n",
    "                                     np.subtract.outer(loc_next[1, :],\n",
    "                                     loc_next[1, :]).reshape(1, n, n)))).sum(axis=-1)\n",
    "                f[f > self._max_f] = self._max_f\n",
    "                f[f < -self._max_f] = -self._max_f                \n",
    "                vel_next += self._delta_t * f\n",
    "                \n",
    "            # Add noise to observations\n",
    "            loc += np.random.randn(t_save, 2, self.n_balls) * self.noise_var\n",
    "            vel += np.random.randn(t_save, 2, self.n_balls) * self.noise_var\n",
    "            return loc, vel, edges"
   ]
  },
  {
   "cell_type": "code",
   "execution_count": 3,
   "metadata": {},
   "outputs": [
    {
     "name": "stdout",
     "output_type": "stream",
     "text": [
      "loc.shape = (49, 2, 5)\n",
      "vel.shape = (49, 2, 5)\n",
      "Simulation time: 0.23871445655822754\n"
     ]
    },
    {
     "data": {
      "image/png": "[encoded data removed]",
      "text/plain": [
       "<Figure size 288x288 with 1 Axes>"
      ]
     },
     "metadata": {},
     "output_type": "display_data"
    },
    {
     "data": {
      "image/png": "[encoded data removed]",
      "text/plain": [
       "<Figure size 432x288 with 1 Axes>"
      ]
     },
     "metadata": {},
     "output_type": "display_data"
    },
    {
     "data": {
      "image/png": "[encoded data removed]",
      "text/plain": [
       "<Figure size 432x288 with 1 Axes>"
      ]
     },
     "metadata": {},
     "output_type": "display_data"
    }
   ],
   "source": [
    "sim = SpringSim()\n",
    "\n",
    "start_time = time.time()\n",
    "loc, vel, edges = sim.sample_trajectory(t=5000, sample_freq=100)\n",
    "\n",
    "print(\"loc.shape =\", loc.shape)\n",
    "print(\"vel.shape =\", vel.shape)\n",
    "\n",
    "duration = time.time() - start_time\n",
    "print(f\"Simulation time: {duration}\")\n",
    "\n",
    "plt.matshow(edges, cmap=\"gray\")\n",
    "\n",
    "plt.figure()\n",
    "axes = plt.gca()\n",
    "axes.set_xlim([-5.0, 5.0])\n",
    "axes.set_ylim([-5.0, 5.0])\n",
    "for i in range(loc.shape[-1]):\n",
    "    plt.plot(loc[:, 0, i], loc[:, 1, i], 'o', alpha=0.2)\n",
    "    plt.plot(loc[0, 0, i], loc[0, 1, i], 'd')\n",
    "    \n",
    "plt.figure()\n",
    "energies = [sim.energy(loc[i, :, :], vel[i, :, :], edges) for i in range(loc.shape[0])]\n",
    "plt.plot(energies)\n",
    "plt.show()"
   ]
  },
  {
   "cell_type": "code",
   "execution_count": 4,
   "metadata": {},
   "outputs": [],
   "source": [
    "# from https://github.com/hudl/relational-inference/blob/master/data/synthetic_sim.py\n",
    "\n",
    "class ChargedParticlesSim(object):\n",
    "    def __init__(self, \n",
    "            n_balls: int = 5, \n",
    "            box_size: float = 5.0, \n",
    "            loc_std: float = 1.0, \n",
    "            vel_norm: float = 0.5,\n",
    "            interaction_strength: float = 1.0, \n",
    "            noise_var: float = 0.0):\n",
    "        self.n_balls = n_balls\n",
    "        self.box_size = box_size\n",
    "        self.loc_std = loc_std\n",
    "        self.vel_norm = vel_norm\n",
    "        self.interaction_strength = interaction_strength\n",
    "        self.noise_var = noise_var\n",
    "\n",
    "        self._charge_types = np.array([-1.0, 0.0, 1.0])\n",
    "        self._delta_t = 0.001\n",
    "        self._max_f = 0.1 / self._delta_t\n",
    "\n",
    "    def _l2(self, \n",
    "            a: np.ndarray, \n",
    "            b: np.ndarray) -> Tuple[np.ndarray, np.ndarray]:\n",
    "        a_norm = (a ** 2).sum(axis=1).reshape(a.shape[0], 1)\n",
    "        b_norm = (b ** 2).sum(axis=1).reshape(1, b.shape[0])\n",
    "        dist = a_norm + b_norm - 2 * a.dot(b.transpose())\n",
    "        return dist\n",
    "\n",
    "    def energy(self, \n",
    "               loc: np.ndarray, \n",
    "               vel: np.ndarray,\n",
    "               edges: np.ndarray) -> float:\n",
    "        with np.errstate(divide='ignore'):\n",
    "            k = 0.5 * (vel ** 2).sum()\n",
    "            u = 0.0\n",
    "            for i in range(loc.shape[1]):\n",
    "                for j in range(loc.shape[1]):\n",
    "                    if i != j:\n",
    "                        r = loc[:, i] - loc[:, j]\n",
    "                        dist = np.sqrt((r ** 2).sum())\n",
    "                        u += 0.5 * self.interaction_strength * edges[i, j] / dist\n",
    "            return u + k\n",
    "\n",
    "    def _clamp(self, \n",
    "               loc: np.ndarray, \n",
    "               vel: np.ndarray) -> Tuple[np.ndarray, np.ndarray]:\n",
    "        assert np.all(loc < self.box_size * 3)\n",
    "        assert np.all(loc > -self.box_size * 3)\n",
    "\n",
    "        over = loc > self.box_size\n",
    "        loc[over] = 2 * self.box_size - loc[over]\n",
    "        assert np.all(loc <= self.box_size)\n",
    "\n",
    "        vel[over] = -np.abs(vel[over])\n",
    "        under = loc < -self.box_size\n",
    "        loc[under] = -2 * self.box_size - loc[under]\n",
    "        assert np.all(loc >= -self.box_size)\n",
    "        \n",
    "        vel[under] = np.abs(vel[under])\n",
    "        return loc, vel\n",
    "\n",
    "    def sample_trajectory(self, \n",
    "                          t: int = 10000, \n",
    "                          sample_freq: int = 10,\n",
    "                          charge_prob: Tuple[float] = (0.5, 0.0, 0.5)) -> Tuple[np.ndarray, np.ndarray, np.ndarray]:\n",
    "        n = self.n_balls\n",
    "        assert t % sample_freq == 0\n",
    "        t_save = int(t / sample_freq - 1)\n",
    "        diag_mask = np.ones((n, n), dtype=bool)\n",
    "        np.fill_diagonal(diag_mask, 0)\n",
    "        counter = 0\n",
    "        \n",
    "        # Sample edges\n",
    "        charges = np.random.choice(self._charge_types, \n",
    "                                   size=(self.n_balls, 1),\n",
    "                                   p=charge_prob)\n",
    "        edges = charges.dot(charges.transpose())\n",
    "        \n",
    "        # Initialize location and velocity\n",
    "        loc = np.zeros((t_save, 2, n))\n",
    "        vel = np.zeros((t_save, 2, n))\n",
    "        loc_next = np.random.randn(2, n) * self.loc_std\n",
    "        vel_next = np.random.randn(2, n)\n",
    "        v_norm = np.sqrt((vel_next ** 2).sum(axis=0)).reshape(1, -1)\n",
    "        vel_next = vel_next * self.vel_norm / v_norm\n",
    "        loc[0, :, :], vel[0, :, :] = self._clamp(loc_next, vel_next)\n",
    "\n",
    "        with np.errstate(divide='ignore'):\n",
    "            l2 = self._l2(loc_next.transpose(), loc_next.transpose())\n",
    "            l2_dist_power3 = np.power(l2, 1.5)\n",
    "\n",
    "            # size of forces up to a 1/|r| factor\n",
    "            # since I later multiply by an unnormalized r vector\n",
    "            forces_size = self.interaction_strength * edges / l2_dist_power3\n",
    "            np.fill_diagonal(forces_size, 0.0)\n",
    "            assert np.abs(forces_size[diag_mask]).min() > 1e-10\n",
    "            f = (forces_size.reshape(1, n, n) *\n",
    "                 np.concatenate((np.subtract.outer(loc_next[0, :], \n",
    "                                                   loc_next[0, :]).reshape(1, n, n),\n",
    "                                 np.subtract.outer(loc_next[1, :], \n",
    "                                                   loc_next[1, :]).reshape(1, n, n))))\n",
    "            f = f.sum(axis=-1)\n",
    "            f[f > self._max_f] = self._max_f\n",
    "            f[f < -self._max_f] = -self._max_f\n",
    "\n",
    "            vel_next += self._delta_t * f\n",
    "            for i in range(1, t):\n",
    "                loc_next += self._delta_t * vel_next\n",
    "                loc_next, vel_next = self._clamp(loc_next, vel_next)\n",
    "\n",
    "                if i % sample_freq == 0:\n",
    "                    loc[counter, :, :], vel[counter, :, :] = loc_next, vel_next\n",
    "                    counter += 1\n",
    "\n",
    "                l2 = self._l2(loc_next.transpose(), loc_next.transpose())\n",
    "                l2_dist_power3 = np.power(l2, 1.5)\n",
    "                forces_size = self.interaction_strength * edges / l2_dist_power3\n",
    "                np.fill_diagonal(forces_size, 0)\n",
    "\n",
    "                f = (forces_size.reshape(1, n, n) *\n",
    "                     np.concatenate((np.subtract.outer(loc_next[0, :], \n",
    "                                                       loc_next[0, :]).reshape(1, n, n),\n",
    "                                     np.subtract.outer(loc_next[1, :],\n",
    "                                                       loc_next[1, :]).reshape(1, n, n))))\n",
    "                f = f.sum(axis=-1)\n",
    "                f[f > self._max_f] = self._max_f\n",
    "                f[f < -self._max_f] = -self._max_f\n",
    "                vel_next += self._delta_t * f\n",
    "                \n",
    "            # Add noise to observations\n",
    "            loc += np.random.randn(t_save, 2, self.n_balls) * self.noise_var\n",
    "            vel += np.random.randn(t_save, 2, self.n_balls) * self.noise_var\n",
    "            return loc, vel, edges"
   ]
  },
  {
   "cell_type": "code",
   "execution_count": 5,
   "metadata": {
    "scrolled": false
   },
   "outputs": [
    {
     "name": "stderr",
     "output_type": "stream",
     "text": [
      "/home/jin/anaconda3/envs/research/lib/python3.6/site-packages/ipykernel_launcher.py:117: RuntimeWarning: invalid value encountered in power\n"
     ]
    },
    {
     "name": "stdout",
     "output_type": "stream",
     "text": [
      "loc.shape = (49, 2, 5)\n",
      "vel.shape = (49, 2, 5)\n",
      "Simulation time: 0.34509944915771484\n"
     ]
    },
    {
     "data": {
      "image/png": "[encoded data removed]",
      "text/plain": [
       "<Figure size 288x288 with 1 Axes>"
      ]
     },
     "metadata": {},
     "output_type": "display_data"
    },
    {
     "data": {
      "image/png": "[encoded data removed]",
      "text/plain": [
       "<Figure size 432x288 with 1 Axes>"
      ]
     },
     "metadata": {},
     "output_type": "display_data"
    },
    {
     "data": {
      "image/png": "[encoded data removed]",
      "text/plain": [
       "<Figure size 432x288 with 1 Axes>"
      ]
     },
     "metadata": {},
     "output_type": "display_data"
    }
   ],
   "source": [
    "sim = ChargedParticlesSim()\n",
    "\n",
    "start_time = time.time()\n",
    "loc, vel, edges = sim.sample_trajectory(t=5000, sample_freq=100)\n",
    "\n",
    "print(\"loc.shape =\", loc.shape)\n",
    "print(\"vel.shape =\", vel.shape)\n",
    "\n",
    "duration = time.time() - start_time\n",
    "print(f\"Simulation time: {duration}\")\n",
    "\n",
    "plt.matshow(edges, cmap=\"gray\")\n",
    "\n",
    "plt.figure()\n",
    "axes = plt.gca()\n",
    "axes.set_xlim([-5., 5.])\n",
    "axes.set_ylim([-5., 5.])\n",
    "for i in range(loc.shape[-1]):\n",
    "    plt.plot(loc[:, 0, i], loc[:, 1, i], 'o', alpha=0.2)\n",
    "    plt.plot(loc[0, 0, i], loc[0, 1, i], 'd')\n",
    "    \n",
    "plt.figure()\n",
    "energies = [sim.energy(loc[i, :, :], vel[i, :, :], edges) for i in range(loc.shape[0])]\n",
    "plt.plot(energies)\n",
    "plt.show()"
   ]
  },
  {
   "cell_type": "markdown",
   "metadata": {},
   "source": [
    "## Graph Neural Network"
   ]
  },
  {
   "cell_type": "markdown",
   "metadata": {},
   "source": [
    "$$\n",
    "\\begin{align*}\n",
    "v \\rightarrow e &: h^l_{(i, j)} = f^l_{e}([h^l_i, h^l_j]) \\\\\n",
    "e \\rightarrow v &: h^{l + 1}_j = f^l_{v}([\\sum_{i \\in N_j}h^l_{(i, j)}])\n",
    "\\end{align*}\n",
    "$$"
   ]
  },
  {
   "cell_type": "code",
   "execution_count": 6,
   "metadata": {},
   "outputs": [],
   "source": [
    "def node2edge(h: torch.Tensor, \n",
    "              m_in: torch.Tensor, \n",
    "              m_out: torch.Tensor) -> torch.Tensor:\n",
    "    # assuming that the shape of x is (t, f, n),\n",
    "    h_in = torch.matmul(m_in, h)\n",
    "    h_out = torch.matmul(m_out, h)\n",
    "    return torch.cat([h_in, h_out], dim=2)\n",
    "\n",
    "def edge2node(h: torch.Tensor, m_in: torch.Tensor) -> torch.Tensor:\n",
    "    # since M_in for edges is the transpose of M_in for nodes,\n",
    "    return torch.matmul(m_in.t(), h)"
   ]
  },
  {
   "cell_type": "code",
   "execution_count": 7,
   "metadata": {},
   "outputs": [],
   "source": [
    "class TwoLayerFcNet(nn.Module):\n",
    "    r\"\"\"\n",
    "    Two-layered fully connected neural network with dropout and \n",
    "    batch normalization, as described in the NRI paper (Kipf, et al.).\n",
    "    \"\"\"\n",
    "    def __init__(self, \n",
    "                 in_dim: int, \n",
    "                 hid_dim: int, \n",
    "                 out_dim: int, \n",
    "                 dropout_rate: float = 0.5):\n",
    "        super(TwoLayeredFullyConnectedNet, self).__init__()\n",
    "        self.fc0 = nn.Linear(in_dim, hid_dim, bias=True)\n",
    "        self.dropout = nn.Dropout(dropout_rate)\n",
    "        self.fc1 = nn.Linear(hid_dim, out_dim, bias=True)\n",
    "        self.bn = nn.BatchNorm1d(out_dim)\n",
    "    \n",
    "    def forward(self, x):\n",
    "        x = F.elu(self.fc0(x))\n",
    "        x = self.dropout(x)\n",
    "        x = F.elu(self.fc1(x))\n",
    "        return self.bn(x)"
   ]
  },
  {
   "cell_type": "code",
   "execution_count": null,
   "metadata": {},
   "outputs": [],
   "source": []
  },
  {
   "cell_type": "markdown",
   "metadata": {},
   "source": [
    "## Extending with VQ-VAE"
   ]
  },
  {
   "cell_type": "markdown",
   "metadata": {},
   "source": [
    "As the NRI model attempts to learn discrete representations of graphs, one can imagine a direct extension of the NRI algorithm with [VQ-VAE](https://arxiv.org/abs/1711.00937v2) (Oord, et al.), a simple generative model that learns discrete representations."
   ]
  },
  {
   "cell_type": "markdown",
   "metadata": {},
   "source": [
    "## References\n",
    "- Neural Relational Inference for Interacting Systems, [arXiv:1802.04687v2 \\[stat.ML\\]](https://arxiv.org/abs/1802.04687)\n",
    "- Neural Discrete Representation Learning, [arXiv:1711.00937v2 \\[cs.LG\\]](https://arxiv.org/abs/1711.00937v2)"
   ]
  }
 ],
 "metadata": {
  "kernelspec": {
   "display_name": "Python (research)",
   "language": "python",
   "name": "research"
  },
  "language_info": {
   "codemirror_mode": {
    "name": "ipython",
    "version": 3
   },
   "file_extension": ".py",
   "mimetype": "text/x-python",
   "name": "python",
   "nbconvert_exporter": "python",
   "pygments_lexer": "ipython3",
   "version": "3.6.6"
  }
 },
 "nbformat": 4,
 "nbformat_minor": 2
}
