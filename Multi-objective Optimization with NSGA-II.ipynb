{
 "cells": [
  {
   "cell_type": "markdown",
   "metadata": {},
   "source": [
    "# Multi-objective Optimization with NSGA-II\n",
    "Author: Jin Yeom (jinyeom@utexas.edu)"
   ]
  },
  {
   "cell_type": "code",
   "execution_count": 6,
   "metadata": {},
   "outputs": [],
   "source": [
    "import random\n",
    "from typing import Callable\n",
    "from typing import Sequence\n",
    "from typing import Tuple\n",
    "\n",
    "import numpy as np\n",
    "from matplotlib import pyplot as plt\n",
    "%matplotlib inline\n",
    "\n",
    "from deap import creator\n",
    "from deap import base\n",
    "from deap import tools\n",
    "from deap.benchmarks.binary import bin2float"
   ]
  },
  {
   "cell_type": "markdown",
   "metadata": {},
   "source": [
    "Let's bring in all the benchmark functions first."
   ]
  },
  {
   "cell_type": "code",
   "execution_count": 2,
   "metadata": {},
   "outputs": [],
   "source": [
    "from deap.benchmarks import fonseca\n",
    "from deap.benchmarks import kursawe\n",
    "from deap.benchmarks import schaffer_mo\n",
    "from deap.benchmarks import zdt1\n",
    "from deap.benchmarks import zdt2\n",
    "from deap.benchmarks import zdt3\n",
    "from deap.benchmarks import zdt4\n",
    "from deap.benchmarks import zdt6"
   ]
  },
  {
   "cell_type": "markdown",
   "metadata": {},
   "source": [
    "Now, we're going to implement NSGA-II with [**DEAP**](http://deap.readthedocs.io/en/master/) (Distributed Evolutionary Algorithms in Python). Fortunately, special operators used in NSGA-II are already implemented and abstracted as selNSGA2 in DEAP, so we won't have to worry about their implementations. Note that we're only going to focus on binary encoding of the solutions, although real coding is also valid."
   ]
  },
  {
   "cell_type": "code",
   "execution_count": 3,
   "metadata": {},
   "outputs": [],
   "source": [
    "creator.create(\"FitnessMin\", base.Fitness, weights=(-1.0, -1.0))\n",
    "creator.create(\"Individual\", list, fitness=creator.FitnessMin)"
   ]
  },
  {
   "cell_type": "code",
   "execution_count": null,
   "metadata": {},
   "outputs": [],
   "source": [
    "def deap_nsga2(decode: Callable[[creator.Individual], Sequence[float]],\n",
    "               evaluate: Callable[[creator.Individual], creator.FitnessMin],\n",
    "               x_min: float,\n",
    "               x_max: float,\n",
    "               ind_size: int,\n",
    "               pop_size: int,\n",
    "               n_gen: int,\n",
    "               xover_rate: float) -> Tuple[tools.ParetoFront, tools.Logbook]:\n",
    "    \n",
    "    toolbox = base.Toolbox()\n",
    "    toolbox.register(\"attr_bool\", random.choice, [True, False])\n",
    "    toolbox.register(\"individual\", tools.initRepeat, creator.Individual, toolbox.attr_bool, n=ind_size)\n",
    "    toolbox.register(\"population\", tools.initRepeat, list, toolbox.individual, n=pop_size)\n",
    "    \n",
    "    toolbox.register(\"decode\", decode)\n",
    "    toolbox.register(\"evaluate\", evaluate)\n",
    "    toolbox.register(\"mate\", tools.cxTwoPoint)\n",
    "    toolbox.register(\"mutate\", tools.mutFlipBit, indpb=1.0/ind_size)\n",
    "    toolbox.register(\"select\", tools.selNSGA2)\n",
    "    \n",
    "    pop = toolbox.poplation()\n",
    "    \n",
    "    invalid_ind = [ind for ind in pop if not ind.fitness.valid]\n",
    "    fitnesses = toolbox.map(toolbox.evaluate, invalid_ind)\n",
    "    for ind, fit in zip(invalid_ind, fitnesses):\n",
    "        ind.fitness.values = fit\n",
    "        \n",
    "    # assign crowding distances to each individual\n",
    "    toolbox.select(pop, len(pop))\n",
    "    \n",
    "    for g in range(n_gen):\n",
    "        \n",
    "        \n",
    "    \n",
    "    \n",
    "    \n",
    "    "
   ]
  },
  {
   "cell_type": "code",
   "execution_count": 3,
   "metadata": {},
   "outputs": [],
   "source": []
  },
  {
   "cell_type": "code",
   "execution_count": 4,
   "metadata": {},
   "outputs": [],
   "source": []
  },
  {
   "cell_type": "code",
   "execution_count": 5,
   "metadata": {},
   "outputs": [],
   "source": []
  },
  {
   "cell_type": "code",
   "execution_count": null,
   "metadata": {},
   "outputs": [],
   "source": []
  },
  {
   "cell_type": "markdown",
   "metadata": {},
   "source": [
    "## References"
   ]
  },
  {
   "cell_type": "markdown",
   "metadata": {},
   "source": [
    "\\[1\\] K. Deb, S. Agrawal, A. Pratab, T. Meyarivan, \"A fast and elitist multiobjective genetic algorithm: NSGA-II\", IEEE Transactions on Evolutionary Computation, vol. 6, no. 2, pp. 681-695."
   ]
  }
 ],
 "metadata": {
  "kernelspec": {
   "display_name": "Python [default]",
   "language": "python",
   "name": "python3"
  },
  "language_info": {
   "codemirror_mode": {
    "name": "ipython",
    "version": 3
   },
   "file_extension": ".py",
   "mimetype": "text/x-python",
   "name": "python",
   "nbconvert_exporter": "python",
   "pygments_lexer": "ipython3",
   "version": "3.6.5"
  }
 },
 "nbformat": 4,
 "nbformat_minor": 2
}
